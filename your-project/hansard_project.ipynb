{
 "cells": [
  {
   "cell_type": "code",
   "execution_count": 90,
   "metadata": {},
   "outputs": [],
   "source": [
    "## Import up sound alert dependencies\n",
    "from IPython.display import Audio, display\n",
    "\n",
    "def allDone():\n",
    "  display(Audio(url='https://sound.peal.io/ps/audios/000/000/537/original/woo_vu_luvub_dub_dub.wav', autoplay=True))"
   ]
  },
  {
   "cell_type": "markdown",
   "metadata": {},
   "source": [
    "## Import Libraries"
   ]
  },
  {
   "cell_type": "code",
   "execution_count": 1,
   "metadata": {},
   "outputs": [
    {
     "name": "stderr",
     "output_type": "stream",
     "text": [
      "C:\\Users\\lukes\\Anaconda3\\lib\\site-packages\\funcy\\colls.py:7: DeprecationWarning: Using or importing the ABCs from 'collections' instead of from 'collections.abc' is deprecated, and in 3.8 it will stop working\n",
      "  from collections import Mapping, Set, Iterable, Iterator, defaultdict\n",
      "C:\\Users\\lukes\\Anaconda3\\lib\\site-packages\\funcy\\colls.py:7: DeprecationWarning: Using or importing the ABCs from 'collections' instead of from 'collections.abc' is deprecated, and in 3.8 it will stop working\n",
      "  from collections import Mapping, Set, Iterable, Iterator, defaultdict\n",
      "C:\\Users\\lukes\\Anaconda3\\lib\\site-packages\\funcy\\decorators.py:63: DeprecationWarning: inspect.getargspec() is deprecated since Python 3.0, use inspect.signature() or inspect.getfullargspec()\n",
      "  spec = inspect.getargspec(func)\n",
      "C:\\Users\\lukes\\Anaconda3\\lib\\site-packages\\funcy\\decorators.py:63: DeprecationWarning: inspect.getargspec() is deprecated since Python 3.0, use inspect.signature() or inspect.getfullargspec()\n",
      "  spec = inspect.getargspec(func)\n",
      "C:\\Users\\lukes\\Anaconda3\\lib\\site-packages\\funcy\\decorators.py:63: DeprecationWarning: inspect.getargspec() is deprecated since Python 3.0, use inspect.signature() or inspect.getfullargspec()\n",
      "  spec = inspect.getargspec(func)\n",
      "C:\\Users\\lukes\\Anaconda3\\lib\\site-packages\\funcy\\decorators.py:63: DeprecationWarning: inspect.getargspec() is deprecated since Python 3.0, use inspect.signature() or inspect.getfullargspec()\n",
      "  spec = inspect.getargspec(func)\n",
      "C:\\Users\\lukes\\Anaconda3\\lib\\site-packages\\funcy\\decorators.py:63: DeprecationWarning: inspect.getargspec() is deprecated since Python 3.0, use inspect.signature() or inspect.getfullargspec()\n",
      "  spec = inspect.getargspec(func)\n",
      "C:\\Users\\lukes\\Anaconda3\\lib\\site-packages\\funcy\\decorators.py:63: DeprecationWarning: inspect.getargspec() is deprecated since Python 3.0, use inspect.signature() or inspect.getfullargspec()\n",
      "  spec = inspect.getargspec(func)\n"
     ]
    }
   ],
   "source": [
    "import csv\n",
    "from bs4 import BeautifulSoup\n",
    "import pandas as pd\n",
    "import numpy as np\n",
    "import requests\n",
    "import re\n",
    "import nltk\n",
    "from nltk.tokenize import word_tokenize\n",
    "from nltk.stem import PorterStemmer \n",
    "from nltk.stem.snowball import SnowballStemmer\n",
    "from nltk.stem import WordNetLemmatizer \n",
    "from nltk.corpus import stopwords\n",
    "from nltk.tokenize import sent_tokenize, word_tokenize \n",
    "import warnings \n",
    "import gensim \n",
    "from gensim.models import Word2Vec \n",
    "from gensim.models import CoherenceModel\n",
    "import pyLDAvis\n",
    "import pyLDAvis.gensim  # don't skip this\n",
    "import matplotlib.pyplot as plt\n",
    "%matplotlib inline\n",
    "\n",
    "warnings.filterwarnings(action = 'ignore') "
   ]
  },
  {
   "cell_type": "markdown",
   "metadata": {},
   "source": [
    "## Import Data"
   ]
  },
  {
   "cell_type": "markdown",
   "metadata": {},
   "source": [
    "WARNING: this takes a long time to load. "
   ]
  },
  {
   "cell_type": "code",
   "execution_count": 2,
   "metadata": {},
   "outputs": [],
   "source": [
    "data = pd.read_csv('hansard-1979-2018-v261.csv',engine='python')"
   ]
  },
  {
   "cell_type": "markdown",
   "metadata": {},
   "source": [
    "## Clean Data"
   ]
  },
  {
   "cell_type": "markdown",
   "metadata": {},
   "source": [
    "We're only interested in the name of the MP, their party, and the words in their speech. We can drop the rest."
   ]
  },
  {
   "cell_type": "code",
   "execution_count": 4,
   "metadata": {},
   "outputs": [],
   "source": [
    "data = data.drop(['pp_id','eo_id','colnum','speech_date','time',\n",
    "                 'url','speaker_id','gender','dods_id','pims_id','ministry',\n",
    "                  'age','short_list','post_name'],axis=1)"
   ]
  },
  {
   "cell_type": "code",
   "execution_count": 5,
   "metadata": {},
   "outputs": [],
   "source": [
    "data = data.drop(['person_id','hansard_membership_id','mnis_id','house_start_date','date_of_birth',\n",
    "                 'house_end_date','word_count'],axis=1)"
   ]
  },
  {
   "cell_type": "markdown",
   "metadata": {},
   "source": [
    "Because the speaker of the house is impartial, we need to remove his speeches from the dataset."
   ]
  },
  {
   "cell_type": "code",
   "execution_count": 6,
   "metadata": {},
   "outputs": [],
   "source": [
    "is_not_speaker = data['as_speaker']==False"
   ]
  },
  {
   "cell_type": "code",
   "execution_count": 7,
   "metadata": {},
   "outputs": [],
   "source": [
    "data = data[is_not_speaker]"
   ]
  },
  {
   "cell_type": "code",
   "execution_count": 8,
   "metadata": {},
   "outputs": [
    {
     "data": {
      "text/plain": [
       "False    2175726\n",
       "Name: as_speaker, dtype: int64"
      ]
     },
     "execution_count": 8,
     "metadata": {},
     "output_type": "execute_result"
    }
   ],
   "source": [
    "data['as_speaker'].value_counts()"
   ]
  },
  {
   "cell_type": "markdown",
   "metadata": {},
   "source": [
    "For testing purposes, I'll reduce the size of the database to only include speeches made since the year 2000. "
   ]
  },
  {
   "cell_type": "code",
   "execution_count": 9,
   "metadata": {},
   "outputs": [],
   "source": [
    "year_2000 = data['year']>=2000"
   ]
  },
  {
   "cell_type": "code",
   "execution_count": 10,
   "metadata": {},
   "outputs": [],
   "source": [
    "data = data[year_2000]"
   ]
  },
  {
   "cell_type": "markdown",
   "metadata": {},
   "source": [
    "Export the cleaned dataset to csv."
   ]
  },
  {
   "cell_type": "code",
   "execution_count": 12,
   "metadata": {},
   "outputs": [],
   "source": [
    "data.to_csv('cleaned_data.csv')"
   ]
  },
  {
   "cell_type": "markdown",
   "metadata": {},
   "source": [
    "## Data Exploration"
   ]
  },
  {
   "cell_type": "markdown",
   "metadata": {},
   "source": [
    "Explore the number of MPs, number of speeches by political party."
   ]
  },
  {
   "cell_type": "code",
   "execution_count": 14,
   "metadata": {},
   "outputs": [
    {
     "data": {
      "text/plain": [
       "<matplotlib.axes._subplots.AxesSubplot at 0x1e69ec7a940>"
      ]
     },
     "execution_count": 14,
     "metadata": {},
     "output_type": "execute_result"
    },
    {
     "data": {
      "image/png": "[encoded data removed]",
      "text/plain": [
       "<Figure size 432x288 with 1 Axes>"
      ]
     },
     "metadata": {
      "needs_background": "light"
     },
     "output_type": "display_data"
    }
   ],
   "source": [
    "data['proper_name'].value_counts().head(20).plot.bar()"
   ]
  },
  {
   "cell_type": "code",
   "execution_count": 15,
   "metadata": {},
   "outputs": [
    {
     "data": {
      "text/plain": [
       "<matplotlib.axes._subplots.AxesSubplot at 0x1e69ec9a7b8>"
      ]
     },
     "execution_count": 15,
     "metadata": {},
     "output_type": "execute_result"
    },
    {
     "data": {
      "image/png": "[encoded data removed]",
      "text/plain": [
       "<Figure size 432x288 with 1 Axes>"
      ]
     },
     "metadata": {
      "needs_background": "light"
     },
     "output_type": "display_data"
    }
   ],
   "source": [
    "data['party_group'].value_counts().plot.bar()"
   ]
  },
  {
   "cell_type": "code",
   "execution_count": 16,
   "metadata": {},
   "outputs": [
    {
     "data": {
      "text/plain": [
       "<matplotlib.axes._subplots.AxesSubplot at 0x1e69ecb3d68>"
      ]
     },
     "execution_count": 16,
     "metadata": {},
     "output_type": "execute_result"
    },
    {
     "data": {
      "image/png": "[encoded data removed]",
      "text/plain": [
       "<Figure size 432x288 with 1 Axes>"
      ]
     },
     "metadata": {
      "needs_background": "light"
     },
     "output_type": "display_data"
    }
   ],
   "source": [
    "data['government'].value_counts().plot.bar()"
   ]
  },
  {
   "cell_type": "markdown",
   "metadata": {},
   "source": [
    "## Preparing Text for Analysis"
   ]
  },
  {
   "cell_type": "code",
   "execution_count": 18,
   "metadata": {},
   "outputs": [],
   "source": [
    "def clean_up(s):\n",
    "    \"\"\"\n",
    "    Cleans up numbers, URLs, and special characters from a string.\n",
    "\n",
    "    Args:\n",
    "        s: The string to be cleaned up.\n",
    "\n",
    "    Returns:\n",
    "        A string that has been cleaned up.\n",
    "    \"\"\"\n",
    "    new_string = re.sub(r'^https?:\\/\\/.*[\\r\\n]*', '', s\n",
    "                       ) \n",
    "    new_string = re.sub('\\d+', '', new_string\n",
    "                       )\n",
    "    new_string = re.sub('[^\\w\\s]', ' ', new_string\n",
    "                       )\n",
    "    return new_string.lower()"
   ]
  },
  {
   "cell_type": "code",
   "execution_count": 19,
   "metadata": {},
   "outputs": [],
   "source": [
    "def tokenize(s):\n",
    "    \"\"\"\n",
    "    Tokenize a string.\n",
    "\n",
    "    Args:\n",
    "        s: String to be tokenized.\n",
    "\n",
    "    Returns:\n",
    "        A list of words as the result of tokenization.\n",
    "    \"\"\"\n",
    "    return nltk.word_tokenize(s)"
   ]
  },
  {
   "cell_type": "code",
   "execution_count": 20,
   "metadata": {},
   "outputs": [],
   "source": [
    "def stem_and_lemmatize(l):\n",
    "    \"\"\"\n",
    "    Perform stemming and lemmatization on a list of words.\n",
    "\n",
    "    Args:\n",
    "        l: A list of strings.\n",
    "\n",
    "    Returns:\n",
    "        A list of strings after being stemmed and lemmatized.\n",
    "    \"\"\"\n",
    "    ps = PorterStemmer()\n",
    "    new_l = ([ps.stem(w) for w in l]\n",
    "         )\n",
    "\n",
    "    lemmatizer = WordNetLemmatizer()\n",
    "    new_l = ([lemmatizer.lemmatize(w) for w in new_l]\n",
    "            ) \n",
    "    \n",
    "    return new_l"
   ]
  },
  {
   "cell_type": "markdown",
   "metadata": {},
   "source": [
    "Create a new, smaller dataset to manipulate."
   ]
  },
  {
   "cell_type": "code",
   "execution_count": 22,
   "metadata": {},
   "outputs": [],
   "source": [
    "cleaned_data = data.head(100000)"
   ]
  },
  {
   "cell_type": "markdown",
   "metadata": {},
   "source": [
    "Clean up data."
   ]
  },
  {
   "cell_type": "code",
   "execution_count": 23,
   "metadata": {},
   "outputs": [],
   "source": [
    "cleaned_data['speech'] = cleaned_data['speech'].apply(lambda x: clean_up(x))"
   ]
  },
  {
   "cell_type": "markdown",
   "metadata": {},
   "source": [
    "Tokenize."
   ]
  },
  {
   "cell_type": "code",
   "execution_count": 24,
   "metadata": {},
   "outputs": [],
   "source": [
    "cleaned_data['speech'] = cleaned_data['speech'].apply(lambda x: tokenize(x))"
   ]
  },
  {
   "cell_type": "markdown",
   "metadata": {},
   "source": [
    "Stem and Lemmatize."
   ]
  },
  {
   "cell_type": "code",
   "execution_count": 25,
   "metadata": {},
   "outputs": [],
   "source": [
    "cleaned_data['speech'] = cleaned_data['speech'].apply(lambda x: stem_and_lemmatize(x))"
   ]
  },
  {
   "cell_type": "markdown",
   "metadata": {},
   "source": [
    "Remove stopwords."
   ]
  },
  {
   "cell_type": "code",
   "execution_count": 26,
   "metadata": {},
   "outputs": [],
   "source": [
    "stop_words = stopwords.words('english')\n",
    "cleaned_data['speech'] = cleaned_data['speech'].apply(lambda x: [item for item in x if item not in stop_words])"
   ]
  },
  {
   "cell_type": "markdown",
   "metadata": {},
   "source": [
    "Store final database in new variable and export to .csv."
   ]
  },
  {
   "cell_type": "code",
   "execution_count": 28,
   "metadata": {},
   "outputs": [],
   "source": [
    "cleaned_data_final = cleaned_data"
   ]
  },
  {
   "cell_type": "code",
   "execution_count": 29,
   "metadata": {},
   "outputs": [],
   "source": [
    "cleaned_data_final.to_csv('cleaned_data_final.csv')"
   ]
  },
  {
   "cell_type": "markdown",
   "metadata": {},
   "source": [
    "### Make Bag of Words"
   ]
  },
  {
   "cell_type": "code",
   "execution_count": 30,
   "metadata": {},
   "outputs": [],
   "source": [
    "all_words = [j for i in cleaned_data_final['speech'].tolist() for j in i]"
   ]
  },
  {
   "cell_type": "code",
   "execution_count": 31,
   "metadata": {},
   "outputs": [],
   "source": [
    "all_words = nltk.FreqDist(all_words)"
   ]
  },
  {
   "cell_type": "code",
   "execution_count": 32,
   "metadata": {},
   "outputs": [
    {
     "data": {
      "text/plain": [
       "44725"
      ]
     },
     "execution_count": 32,
     "metadata": {},
     "output_type": "execute_result"
    }
   ],
   "source": [
    "len(all_words)"
   ]
  },
  {
   "cell_type": "markdown",
   "metadata": {},
   "source": [
    "### Remove procedural language (such as \"Right Hon. Friend\" "
   ]
  },
  {
   "cell_type": "code",
   "execution_count": null,
   "metadata": {},
   "outputs": [],
   "source": [
    "proc_lang = [parliament,opposit,vote,motion,speech,speaker,select,leader,prime,chamber,answer,lord,ladi,back,second,day,ciew,read,today]\n",
    "for i in cleaned_data_final['speech'].head():\n",
    "    print(i)"
   ]
  },
  {
   "cell_type": "markdown",
   "metadata": {},
   "source": [
    "### Build Features"
   ]
  },
  {
   "cell_type": "code",
   "execution_count": 33,
   "metadata": {},
   "outputs": [
    {
     "data": {
      "text/html": [
       "<div>\n",
       "<style scoped>\n",
       "    .dataframe tbody tr th:only-of-type {\n",
       "        vertical-align: middle;\n",
       "    }\n",
       "\n",
       "    .dataframe tbody tr th {\n",
       "        vertical-align: top;\n",
       "    }\n",
       "\n",
       "    .dataframe thead th {\n",
       "        text-align: right;\n",
       "    }\n",
       "</style>\n",
       "<table border=\"1\" class=\"dataframe\">\n",
       "  <thead>\n",
       "    <tr style=\"text-align: right;\">\n",
       "      <th></th>\n",
       "      <th>speech</th>\n",
       "      <th>as_speaker</th>\n",
       "      <th>proper_name</th>\n",
       "      <th>party</th>\n",
       "      <th>party_group</th>\n",
       "      <th>government</th>\n",
       "    </tr>\n",
       "  </thead>\n",
       "  <tbody>\n",
       "    <tr>\n",
       "      <th>1173494</th>\n",
       "      <td>[step, govern, take, ensur, sever, disabl, peo...</td>\n",
       "      <td>False</td>\n",
       "      <td>Andrew George</td>\n",
       "      <td>Liberal Democrat</td>\n",
       "      <td>Liberal Democrat</td>\n",
       "      <td>False</td>\n",
       "    </tr>\n",
       "    <tr>\n",
       "      <th>1173495</th>\n",
       "      <td>[sever, disabl, allow, doe, provid, suffici, h...</td>\n",
       "      <td>False</td>\n",
       "      <td>Hugh Bayley</td>\n",
       "      <td>Labour</td>\n",
       "      <td>Labour</td>\n",
       "      <td>True</td>\n",
       "    </tr>\n",
       "    <tr>\n",
       "      <th>1173496</th>\n",
       "      <td>[essenti, rais, standard, examin, sever, const...</td>\n",
       "      <td>False</td>\n",
       "      <td>Jonathan Shaw</td>\n",
       "      <td>Labour</td>\n",
       "      <td>Labour</td>\n",
       "      <td>True</td>\n",
       "    </tr>\n",
       "    <tr>\n",
       "      <th>1173497</th>\n",
       "      <td>[simpl, answer, final, point, ye, overwhelm, m...</td>\n",
       "      <td>False</td>\n",
       "      <td>Hugh Bayley</td>\n",
       "      <td>Labour</td>\n",
       "      <td>Labour</td>\n",
       "      <td>True</td>\n",
       "    </tr>\n",
       "    <tr>\n",
       "      <th>1173498</th>\n",
       "      <td>[make, statement, work, load, independ, case, ...</td>\n",
       "      <td>False</td>\n",
       "      <td>Caroline Spelman</td>\n",
       "      <td>Conservative</td>\n",
       "      <td>Conservative</td>\n",
       "      <td>False</td>\n",
       "    </tr>\n",
       "  </tbody>\n",
       "</table>\n",
       "</div>"
      ],
      "text/plain": [
       "                                                    speech  as_speaker  \\\n",
       "1173494  [step, govern, take, ensur, sever, disabl, peo...       False   \n",
       "1173495  [sever, disabl, allow, doe, provid, suffici, h...       False   \n",
       "1173496  [essenti, rais, standard, examin, sever, const...       False   \n",
       "1173497  [simpl, answer, final, point, ye, overwhelm, m...       False   \n",
       "1173498  [make, statement, work, load, independ, case, ...       False   \n",
       "\n",
       "              proper_name             party       party_group government  \n",
       "1173494     Andrew George  Liberal Democrat  Liberal Democrat      False  \n",
       "1173495       Hugh Bayley            Labour            Labour       True  \n",
       "1173496     Jonathan Shaw            Labour            Labour       True  \n",
       "1173497       Hugh Bayley            Labour            Labour       True  \n",
       "1173498  Caroline Spelman      Conservative      Conservative      False  "
      ]
     },
     "execution_count": 33,
     "metadata": {},
     "output_type": "execute_result"
    }
   ],
   "source": [
    "cleaned_data_final.head()"
   ]
  },
  {
   "cell_type": "code",
   "execution_count": 34,
   "metadata": {},
   "outputs": [],
   "source": [
    "word_features = list(all_words.keys())"
   ]
  },
  {
   "cell_type": "code",
   "execution_count": 35,
   "metadata": {},
   "outputs": [],
   "source": [
    "documents = list(zip(cleaned_data_final['speech'], np.where(cleaned_data_final['party_group'] == 'Labour', True, False)))"
   ]
  },
  {
   "cell_type": "code",
   "execution_count": 36,
   "metadata": {},
   "outputs": [],
   "source": [
    "documents_short = documents[:1000]"
   ]
  },
  {
   "cell_type": "code",
   "execution_count": 37,
   "metadata": {},
   "outputs": [],
   "source": [
    "def find_features(document):\n",
    "    words = set(document)\n",
    "    features = {}\n",
    "    for w in word_features:\n",
    "        features[w] = (w in words)\n",
    "    return features"
   ]
  },
  {
   "cell_type": "code",
   "execution_count": 38,
   "metadata": {},
   "outputs": [],
   "source": [
    "featuresets = [(find_features(rev), category) for (rev, category) in documents_short]"
   ]
  },
  {
   "cell_type": "code",
   "execution_count": 39,
   "metadata": {},
   "outputs": [
    {
     "data": {
      "text/plain": [
       "1000"
      ]
     },
     "execution_count": 39,
     "metadata": {},
     "output_type": "execute_result"
    }
   ],
   "source": [
    "len(featuresets)"
   ]
  },
  {
   "cell_type": "code",
   "execution_count": 40,
   "metadata": {},
   "outputs": [],
   "source": [
    "training_set = featuresets[:800]\n",
    "testing_set = featuresets[800:]"
   ]
  },
  {
   "cell_type": "code",
   "execution_count": 41,
   "metadata": {},
   "outputs": [],
   "source": [
    "classifier = nltk.NaiveBayesClassifier.train(training_set)"
   ]
  },
  {
   "cell_type": "code",
   "execution_count": 42,
   "metadata": {},
   "outputs": [
    {
     "name": "stdout",
     "output_type": "stream",
     "text": [
      "Classifier accuracy: 0.465\n",
      "Most Informative Features\n",
      "                  reject = True            False : True   =     10.5 : 1.0\n",
      "                   logic = True            False : True   =      9.6 : 1.0\n",
      "                 neither = True            False : True   =      8.5 : 1.0\n",
      "                  liabil = True            False : True   =      8.5 : 1.0\n",
      "                 penalti = True            False : True   =      8.5 : 1.0\n",
      "              furthermor = True            False : True   =      8.5 : 1.0\n",
      "                partisan = True            False : True   =      7.4 : 1.0\n",
      "               disincent = True            False : True   =      7.4 : 1.0\n",
      "                withdraw = True            False : True   =      7.4 : 1.0\n",
      "               terrorist = True            False : True   =      7.4 : 1.0\n",
      "                  assert = True            False : True   =      6.6 : 1.0\n",
      "                    wife = True            False : True   =      6.2 : 1.0\n",
      "                   valid = True            False : True   =      6.2 : 1.0\n",
      "                  machin = True            False : True   =      6.2 : 1.0\n",
      "                  career = True            False : True   =      6.2 : 1.0\n",
      "                contrari = True            False : True   =      6.2 : 1.0\n",
      "                   moral = True            False : True   =      6.2 : 1.0\n",
      "                  deepli = True            False : True   =      6.2 : 1.0\n",
      "                 unhappi = True            False : True   =      6.2 : 1.0\n",
      "                    echo = True            False : True   =      6.2 : 1.0\n"
     ]
    }
   ],
   "source": [
    "print(\"Classifier accuracy:\",(nltk.classify.accuracy(classifier, testing_set)))\n",
    "classifier.show_most_informative_features(20)"
   ]
  },
  {
   "cell_type": "markdown",
   "metadata": {},
   "source": [
    "## Word Vectors"
   ]
  },
  {
   "cell_type": "code",
   "execution_count": 43,
   "metadata": {},
   "outputs": [],
   "source": [
    "model = gensim.models.Word2Vec(cleaned_data_final['speech'], min_count = 1,  \n",
    "                              size = 100, window = 5) "
   ]
  },
  {
   "cell_type": "code",
   "execution_count": 44,
   "metadata": {},
   "outputs": [
    {
     "name": "stdout",
     "output_type": "stream",
     "text": [
      "Cosine similarity between 'reject' and 'islam' - CBOW :  -0.27748135\n"
     ]
    }
   ],
   "source": [
    "print(\"Cosine similarity between 'reject' \" + \n",
    "               \"and 'islam' - CBOW : \", \n",
    "    model.similarity('penalti', 'echo')) "
   ]
  },
  {
   "cell_type": "code",
   "execution_count": 45,
   "metadata": {},
   "outputs": [
    {
     "data": {
      "text/plain": [
       "FreqDist({'hon': 139446, 'ha': 90689, 'govern': 87521, 'member': 86719, 'wa': 86257, 'would': 73352, 'right': 66435, 'thi': 58067, 'friend': 57176, 'peopl': 55105, ...})"
      ]
     },
     "execution_count": 45,
     "metadata": {},
     "output_type": "execute_result"
    }
   ],
   "source": [
    "all_words"
   ]
  },
  {
   "cell_type": "code",
   "execution_count": 46,
   "metadata": {},
   "outputs": [],
   "source": [
    "dictionary = gensim.corpora.Dictionary(cleaned_data_final['speech'])"
   ]
  },
  {
   "cell_type": "code",
   "execution_count": 47,
   "metadata": {},
   "outputs": [
    {
     "name": "stdout",
     "output_type": "stream",
     "text": [
      "0 allow\n",
      "1 claim\n",
      "2 disabl\n",
      "3 elig\n",
      "4 encourag\n",
      "5 ensur\n",
      "6 govern\n",
      "7 peopl\n",
      "8 potenti\n",
      "9 sever\n",
      "10 step\n"
     ]
    }
   ],
   "source": [
    "count = 0\n",
    "for k, v in dictionary.iteritems():\n",
    "    print(k, v)\n",
    "    count += 1\n",
    "    if count > 10:\n",
    "        break"
   ]
  },
  {
   "cell_type": "code",
   "execution_count": 48,
   "metadata": {},
   "outputs": [],
   "source": [
    "dictionary.filter_extremes(no_below=15, no_above=0.1, keep_n= 100000)"
   ]
  },
  {
   "cell_type": "code",
   "execution_count": 49,
   "metadata": {},
   "outputs": [],
   "source": [
    "bow_corpus = [dictionary.doc2bow(i) for i in cleaned_data_final['speech']]"
   ]
  },
  {
   "cell_type": "code",
   "execution_count": 50,
   "metadata": {},
   "outputs": [
    {
     "name": "stdout",
     "output_type": "stream",
     "text": [
      "Word 123 (\"child\") appears 3 time.\n",
      "Word 160 (\"arrang\") appears 1 time.\n",
      "Word 171 (\"best\") appears 1 time.\n",
      "Word 318 (\"larg\") appears 1 time.\n",
      "Word 447 (\"separ\") appears 1 time.\n",
      "Word 449 (\"set\") appears 1 time.\n",
      "Word 478 (\"talk\") appears 1 time.\n",
      "Word 848 (\"quit\") appears 1 time.\n",
      "Word 1129 (\"prepar\") appears 2 time.\n",
      "Word 1384 (\"togeth\") appears 1 time.\n",
      "Word 1517 (\"percentag\") appears 1 time.\n",
      "Word 1671 (\"enter\") appears 1 time.\n",
      "Word 1752 (\"mainten\") appears 1 time.\n",
      "Word 1753 (\"parent\") appears 2 time.\n",
      "Word 2334 (\"divorc\") appears 1 time.\n",
      "Word 2443 (\"bureaucraci\") appears 1 time.\n",
      "Word 2783 (\"straightforward\") appears 1 time.\n",
      "Word 3590 (\"lawyer\") appears 1 time.\n",
      "Word 3631 (\"panopli\") appears 1 time.\n"
     ]
    }
   ],
   "source": [
    "document_num = 404\n",
    "bow_doc_x = bow_corpus[document_num]\n",
    "\n",
    "for i in range(len(bow_doc_x)):\n",
    "    print(\"Word {} (\\\"{}\\\") appears {} time.\".format(bow_doc_x[i][0], \n",
    "                                                     dictionary[bow_doc_x[i][0]], \n",
    "                                                     bow_doc_x[i][1]))"
   ]
  },
  {
   "cell_type": "markdown",
   "metadata": {},
   "source": [
    "## Running LDA"
   ]
  },
  {
   "cell_type": "code",
   "execution_count": 51,
   "metadata": {},
   "outputs": [],
   "source": [
    "lda_model =  gensim.models.LdaMulticore(bow_corpus, \n",
    "                                   num_topics = 8, \n",
    "                                   id2word = dictionary,                                    \n",
    "                                   passes = 10,\n",
    "                                   workers = 2)"
   ]
  },
  {
   "cell_type": "code",
   "execution_count": 52,
   "metadata": {
    "scrolled": false
   },
   "outputs": [
    {
     "name": "stdout",
     "output_type": "stream",
     "text": [
      "Topic: 0 \n",
      "Words: 0.015*\"amend\" + 0.011*\"claus\" + 0.010*\"legisl\" + 0.009*\"act\" + 0.008*\"provis\" + 0.007*\"power\" + 0.007*\"regul\" + 0.007*\"court\" + 0.006*\"law\" + 0.006*\"inform\"\n",
      "\n",
      "\n",
      "Topic: 1 \n",
      "Words: 0.009*\"defenc\" + 0.009*\"forc\" + 0.007*\"diseas\" + 0.007*\"farmer\" + 0.007*\"farm\" + 0.006*\"anim\" + 0.006*\"food\" + 0.006*\"afghanistan\" + 0.005*\"arm\" + 0.005*\"militari\"\n",
      "\n",
      "\n",
      "Topic: 2 \n",
      "Words: 0.106*\"n\" + 0.013*\"european\" + 0.013*\"c\" + 0.010*\"unit\" + 0.008*\"ireland\" + 0.008*\"northern\" + 0.007*\"intern\" + 0.006*\"union\" + 0.006*\"british\" + 0.006*\"world\"\n",
      "\n",
      "\n",
      "Topic: 3 \n",
      "Words: 0.022*\"school\" + 0.015*\"educ\" + 0.010*\"industri\" + 0.008*\"area\" + 0.008*\"develop\" + 0.007*\"teacher\" + 0.007*\"job\" + 0.006*\"rural\" + 0.006*\"employ\" + 0.006*\"fund\"\n",
      "\n",
      "\n",
      "Topic: 4 \n",
      "Words: 0.021*\"health\" + 0.016*\"per\" + 0.015*\"cent\" + 0.009*\"increas\" + 0.009*\"nh\" + 0.008*\"spend\" + 0.008*\"invest\" + 0.008*\"patient\" + 0.008*\"money\" + 0.007*\"care\"\n",
      "\n",
      "\n",
      "Topic: 5 \n",
      "Words: 0.022*\"local\" + 0.017*\"child\" + 0.015*\"author\" + 0.014*\"polic\" + 0.011*\"n\" + 0.010*\"home\" + 0.008*\"care\" + 0.007*\"council\" + 0.007*\"area\" + 0.007*\"crime\"\n",
      "\n",
      "\n",
      "Topic: 6 \n",
      "Words: 0.009*\"elect\" + 0.008*\"parliament\" + 0.007*\"opposit\" + 0.006*\"vote\" + 0.006*\"motion\" + 0.006*\"day\" + 0.006*\"labour\" + 0.005*\"speech\" + 0.005*\"speaker\" + 0.005*\"select\"\n",
      "\n",
      "\n",
      "Topic: 7 \n",
      "Words: 0.020*\"tax\" + 0.016*\"pension\" + 0.012*\"benefit\" + 0.011*\"cost\" + 0.010*\"busi\" + 0.009*\"incom\" + 0.008*\"credit\" + 0.008*\"compani\" + 0.008*\"money\" + 0.008*\"pay\"\n",
      "\n",
      "\n"
     ]
    }
   ],
   "source": [
    "for idx, topic in lda_model.print_topics(-1):\n",
    "    print(\"Topic: {} \\nWords: {}\".format(idx, topic ))\n",
    "    print(\"\\n\")"
   ]
  },
  {
   "cell_type": "code",
   "execution_count": 53,
   "metadata": {},
   "outputs": [
    {
     "name": "stdout",
     "output_type": "stream",
     "text": [
      "\n",
      "Perplexity:  -7.649136725298915\n",
      "\n",
      "Coherence Score:  0.4881189170203751\n"
     ]
    }
   ],
   "source": [
    "# Compute Perplexity\n",
    "print('\\nPerplexity: ', lda_model.log_perplexity(bow_corpus))  # a measure of how good the model is. lower the better.\n",
    "\n",
    "# Compute Coherence Score\n",
    "coherence_model_lda = CoherenceModel(model=lda_model, \n",
    "                                     texts=cleaned_data_final['speech'], \n",
    "                                     dictionary=dictionary, \n",
    "                                     coherence='c_v'\n",
    "                                    )\n",
    "coherence_lda = coherence_model_lda.get_coherence()\n",
    "print('\\nCoherence Score: ', coherence_lda)"
   ]
  },
  {
   "cell_type": "markdown",
   "metadata": {},
   "source": [
    "Perplexity captures how surprised a model is of new data it has not seen before, and is measured as the normalized log-likelihood of a held-out test set."
   ]
  },
  {
   "cell_type": "markdown",
   "metadata": {},
   "source": [
    "## Visualise Topic Keywords"
   ]
  },
  {
   "cell_type": "markdown",
   "metadata": {},
   "source": [
    "This examines the topics and the keywords that are associated with them.\n",
    "\n",
    "It uses the pyLDAvis package’s interactive chart."
   ]
  },
  {
   "cell_type": "code",
   "execution_count": 56,
   "metadata": {},
   "outputs": [],
   "source": [
    "# Visualize the topics\n",
    "pyLDAvis.enable_notebook()\n",
    "vis = pyLDAvis.gensim.prepare(lda_model, bow_corpus, dictionary)"
   ]
  },
  {
   "cell_type": "code",
   "execution_count": 57,
   "metadata": {},
   "outputs": [
    {
     "data": {
      "text/html": [
       "\n",
       "<link rel=\"stylesheet\" type=\"text/css\" href=\"https://cdn.rawgit.com/bmabey/pyLDAvis/files/ldavis.v1.0.0.css\">\n",
       "\n",
       "\n",
       "<div id=\"ldavis_el1548820982774741209413702071\"></div>\n",
       "<script type=\"text/javascript\">\n",
       "\n",
       "var ldavis_el1548820982774741209413702071_data = {\"mdsDat\": {\"x\": [0.10025497393725004, 0.12817825632598517, -0.022288671950626303, -0.0902288331290104, 0.14729666194201585, -0.15105919014776872, -0.15534293951806863, 0.043189742540222474], \"y\": [-0.11108691039752917, -0.11721282288738742, 0.05314587606241119, 0.08350320265954968, 0.08864921549384717, -0.10301519946057074, -0.00847286516785466, 0.11448950369753381], \"topics\": [1, 2, 3, 4, 5, 6, 7, 8], \"cluster\": [1, 1, 1, 1, 1, 1, 1, 1], \"Freq\": [19.60086441040039, 17.705942153930664, 12.723423957824707, 10.553045272827148, 10.326722145080566, 10.155960083007812, 9.578746795654297, 9.355292320251465]}, \"tinfo\": {\"Category\": [\"Default\", \"Default\", \"Default\", \"Default\", \"Default\", \"Default\", \"Default\", \"Default\", \"Default\", \"Default\", \"Default\", \"Default\", \"Default\", \"Default\", \"Default\", \"Default\", \"Default\", \"Default\", \"Default\", \"Default\", \"Default\", \"Default\", \"Default\", \"Default\", \"Default\", \"Default\", \"Default\", \"Default\", \"Default\", \"Default\", \"Topic1\", \"Topic1\", \"Topic1\", \"Topic1\", \"Topic1\", \"Topic1\", \"Topic1\", \"Topic1\", \"Topic1\", \"Topic1\", \"Topic1\", \"Topic1\", \"Topic1\", \"Topic1\", \"Topic1\", \"Topic1\", \"Topic1\", \"Topic1\", \"Topic1\", \"Topic1\", \"Topic1\", \"Topic1\", \"Topic1\", \"Topic1\", \"Topic1\", \"Topic1\", \"Topic1\", \"Topic1\", \"Topic1\", \"Topic1\", \"Topic1\", \"Topic1\", \"Topic1\", \"Topic1\", \"Topic1\", \"Topic1\", \"Topic1\", \"Topic1\", \"Topic1\", \"Topic1\", \"Topic1\", \"Topic1\", \"Topic1\", \"Topic1\", \"Topic1\", \"Topic1\", \"Topic1\", \"Topic1\", \"Topic1\", \"Topic1\", \"Topic1\", \"Topic1\", \"Topic1\", \"Topic1\", \"Topic1\", \"Topic1\", \"Topic1\", \"Topic1\", \"Topic1\", \"Topic1\", \"Topic1\", \"Topic1\", \"Topic1\", \"Topic1\", \"Topic1\", \"Topic1\", \"Topic1\", \"Topic1\", \"Topic1\", \"Topic1\", \"Topic1\", \"Topic1\", \"Topic1\", \"Topic1\", \"Topic1\", \"Topic1\", \"Topic1\", \"Topic1\", \"Topic1\", \"Topic1\", \"Topic2\", \"Topic2\", \"Topic2\", \"Topic2\", \"Topic2\", \"Topic2\", \"Topic2\", \"Topic2\", \"Topic2\", \"Topic2\", \"Topic2\", \"Topic2\", \"Topic2\", \"Topic2\", \"Topic2\", \"Topic2\", \"Topic2\", \"Topic2\", \"Topic2\", \"Topic2\", \"Topic2\", \"Topic2\", \"Topic2\", \"Topic2\", \"Topic2\", \"Topic2\", \"Topic2\", \"Topic2\", \"Topic2\", \"Topic2\", \"Topic2\", \"Topic2\", \"Topic2\", \"Topic2\", \"Topic2\", \"Topic2\", \"Topic2\", \"Topic2\", \"Topic2\", \"Topic2\", \"Topic2\", \"Topic2\", \"Topic2\", \"Topic2\", \"Topic2\", \"Topic2\", \"Topic2\", \"Topic2\", \"Topic2\", \"Topic2\", \"Topic2\", \"Topic2\", \"Topic2\", \"Topic2\", \"Topic2\", \"Topic2\", \"Topic2\", \"Topic2\", \"Topic2\", \"Topic2\", \"Topic2\", \"Topic2\", \"Topic2\", \"Topic2\", \"Topic2\", \"Topic2\", \"Topic2\", \"Topic2\", \"Topic2\", \"Topic2\", \"Topic2\", \"Topic2\", \"Topic2\", \"Topic2\", \"Topic2\", \"Topic2\", \"Topic2\", \"Topic2\", \"Topic2\", \"Topic2\", \"Topic2\", \"Topic2\", \"Topic2\", \"Topic2\", \"Topic2\", \"Topic2\", \"Topic2\", \"Topic3\", \"Topic3\", \"Topic3\", \"Topic3\", \"Topic3\", \"Topic3\", \"Topic3\", \"Topic3\", \"Topic3\", \"Topic3\", \"Topic3\", \"Topic3\", \"Topic3\", \"Topic3\", \"Topic3\", \"Topic3\", \"Topic3\", \"Topic3\", \"Topic3\", \"Topic3\", \"Topic3\", \"Topic3\", \"Topic3\", \"Topic3\", \"Topic3\", \"Topic3\", \"Topic3\", \"Topic3\", \"Topic3\", \"Topic3\", \"Topic3\", \"Topic3\", \"Topic3\", \"Topic3\", \"Topic3\", \"Topic3\", \"Topic3\", \"Topic3\", \"Topic3\", \"Topic3\", \"Topic3\", \"Topic3\", \"Topic3\", \"Topic3\", \"Topic3\", \"Topic3\", \"Topic3\", \"Topic3\", \"Topic3\", \"Topic3\", \"Topic3\", \"Topic3\", \"Topic3\", \"Topic3\", \"Topic3\", \"Topic3\", \"Topic3\", \"Topic3\", \"Topic3\", \"Topic3\", \"Topic3\", \"Topic3\", \"Topic3\", \"Topic3\", \"Topic3\", \"Topic3\", \"Topic3\", \"Topic3\", \"Topic3\", \"Topic3\", \"Topic3\", \"Topic3\", \"Topic3\", \"Topic3\", \"Topic3\", \"Topic4\", \"Topic4\", \"Topic4\", \"Topic4\", \"Topic4\", \"Topic4\", \"Topic4\", \"Topic4\", \"Topic4\", \"Topic4\", \"Topic4\", \"Topic4\", \"Topic4\", \"Topic4\", \"Topic4\", \"Topic4\", \"Topic4\", \"Topic4\", \"Topic4\", \"Topic4\", \"Topic4\", \"Topic4\", \"Topic4\", \"Topic4\", \"Topic4\", \"Topic4\", \"Topic4\", \"Topic4\", \"Topic4\", \"Topic4\", \"Topic4\", \"Topic4\", \"Topic4\", \"Topic4\", \"Topic4\", \"Topic4\", \"Topic4\", \"Topic4\", \"Topic4\", \"Topic4\", \"Topic4\", \"Topic4\", \"Topic4\", \"Topic4\", \"Topic4\", \"Topic4\", \"Topic4\", \"Topic4\", \"Topic4\", \"Topic4\", \"Topic4\", \"Topic4\", \"Topic4\", \"Topic4\", \"Topic4\", \"Topic4\", \"Topic4\", \"Topic4\", \"Topic4\", \"Topic4\", \"Topic4\", \"Topic4\", \"Topic4\", \"Topic4\", \"Topic4\", \"Topic4\", \"Topic4\", \"Topic4\", \"Topic4\", \"Topic4\", \"Topic4\", \"Topic4\", \"Topic4\", \"Topic5\", \"Topic5\", \"Topic5\", \"Topic5\", \"Topic5\", \"Topic5\", \"Topic5\", \"Topic5\", \"Topic5\", \"Topic5\", \"Topic5\", \"Topic5\", \"Topic5\", \"Topic5\", \"Topic5\", \"Topic5\", \"Topic5\", \"Topic5\", \"Topic5\", \"Topic5\", \"Topic5\", \"Topic5\", \"Topic5\", \"Topic5\", \"Topic5\", \"Topic5\", \"Topic5\", \"Topic5\", \"Topic5\", \"Topic5\", \"Topic5\", \"Topic5\", \"Topic5\", \"Topic5\", \"Topic5\", \"Topic5\", \"Topic5\", \"Topic5\", \"Topic5\", \"Topic5\", \"Topic5\", \"Topic5\", \"Topic5\", \"Topic5\", \"Topic5\", \"Topic5\", \"Topic5\", \"Topic5\", \"Topic5\", \"Topic5\", \"Topic5\", \"Topic5\", \"Topic5\", \"Topic5\", \"Topic5\", \"Topic5\", \"Topic5\", \"Topic5\", \"Topic5\", \"Topic5\", \"Topic6\", \"Topic6\", \"Topic6\", \"Topic6\", \"Topic6\", \"Topic6\", \"Topic6\", \"Topic6\", \"Topic6\", \"Topic6\", \"Topic6\", \"Topic6\", \"Topic6\", \"Topic6\", \"Topic6\", \"Topic6\", \"Topic6\", \"Topic6\", \"Topic6\", \"Topic6\", \"Topic6\", \"Topic6\", \"Topic6\", \"Topic6\", \"Topic6\", \"Topic6\", \"Topic6\", \"Topic6\", \"Topic6\", \"Topic6\", \"Topic6\", \"Topic6\", \"Topic6\", \"Topic6\", \"Topic6\", \"Topic6\", \"Topic6\", \"Topic6\", \"Topic6\", \"Topic6\", \"Topic6\", \"Topic6\", \"Topic6\", \"Topic6\", \"Topic6\", \"Topic6\", \"Topic6\", \"Topic6\", \"Topic6\", \"Topic6\", \"Topic6\", \"Topic6\", \"Topic6\", \"Topic6\", \"Topic6\", \"Topic6\", \"Topic6\", \"Topic6\", \"Topic6\", \"Topic6\", \"Topic6\", \"Topic6\", \"Topic6\", \"Topic6\", \"Topic6\", \"Topic6\", \"Topic6\", \"Topic6\", \"Topic6\", \"Topic6\", \"Topic6\", \"Topic6\", \"Topic6\", \"Topic6\", \"Topic6\", \"Topic6\", \"Topic6\", \"Topic6\", \"Topic7\", \"Topic7\", \"Topic7\", \"Topic7\", \"Topic7\", \"Topic7\", \"Topic7\", \"Topic7\", \"Topic7\", \"Topic7\", \"Topic7\", \"Topic7\", \"Topic7\", \"Topic7\", \"Topic7\", \"Topic7\", \"Topic7\", \"Topic7\", \"Topic7\", \"Topic7\", \"Topic7\", \"Topic7\", \"Topic7\", \"Topic7\", \"Topic7\", \"Topic7\", \"Topic7\", \"Topic7\", \"Topic7\", \"Topic7\", \"Topic7\", \"Topic7\", \"Topic7\", \"Topic7\", \"Topic7\", \"Topic7\", \"Topic7\", \"Topic7\", \"Topic7\", \"Topic7\", \"Topic7\", \"Topic7\", \"Topic7\", \"Topic7\", \"Topic7\", \"Topic7\", \"Topic7\", \"Topic7\", \"Topic7\", \"Topic7\", \"Topic7\", \"Topic7\", \"Topic7\", \"Topic7\", \"Topic7\", \"Topic7\", \"Topic7\", \"Topic7\", \"Topic7\", \"Topic7\", \"Topic7\", \"Topic7\", \"Topic7\", \"Topic7\", \"Topic7\", \"Topic7\", \"Topic7\", \"Topic7\", \"Topic7\", \"Topic7\", \"Topic8\", \"Topic8\", \"Topic8\", \"Topic8\", \"Topic8\", \"Topic8\", \"Topic8\", \"Topic8\", \"Topic8\", \"Topic8\", \"Topic8\", \"Topic8\", \"Topic8\", \"Topic8\", \"Topic8\", \"Topic8\", \"Topic8\", \"Topic8\", \"Topic8\", \"Topic8\", \"Topic8\", \"Topic8\", \"Topic8\", \"Topic8\", \"Topic8\", \"Topic8\", \"Topic8\", \"Topic8\", \"Topic8\", \"Topic8\", \"Topic8\", \"Topic8\", \"Topic8\", \"Topic8\", \"Topic8\", \"Topic8\", \"Topic8\", \"Topic8\", \"Topic8\", \"Topic8\", \"Topic8\", \"Topic8\", \"Topic8\", \"Topic8\", \"Topic8\", \"Topic8\", \"Topic8\", \"Topic8\", \"Topic8\", \"Topic8\", \"Topic8\", \"Topic8\", \"Topic8\", \"Topic8\", \"Topic8\", \"Topic8\", \"Topic8\", \"Topic8\", \"Topic8\", \"Topic8\", \"Topic8\", \"Topic8\", \"Topic8\", \"Topic8\", \"Topic8\", \"Topic8\", \"Topic8\"], \"Freq\": [83751.0, 22421.0, 15676.0, 13848.0, 15403.0, 19355.0, 11044.0, 18841.0, 17779.0, 13008.0, 12863.0, 17789.0, 11237.0, 16249.0, 9959.0, 13843.0, 17216.0, 14527.0, 14253.0, 12116.0, 12613.0, 14369.0, 13319.0, 6048.0, 17171.0, 10195.0, 15072.0, 5820.0, 15534.0, 11672.0, 7589.7998046875, 1566.064697265625, 1520.8109130859375, 1039.508056640625, 742.3003540039062, 652.58544921875, 492.1752014160156, 425.5738525390625, 353.6629638671875, 346.1617736816406, 340.8758850097656, 338.8160095214844, 327.0869445800781, 327.3923034667969, 316.5806884765625, 1819.671875, 289.52825927734375, 275.2977294921875, 272.47833251953125, 267.7777099609375, 306.9326477050781, 228.22523498535156, 227.942626953125, 226.50653076171875, 217.953125, 217.2790069580078, 206.9485626220703, 195.9730682373047, 386.650634765625, 175.9400177001953, 6351.87451171875, 932.1615600585938, 1157.1868896484375, 4034.6982421875, 4414.06982421875, 2738.42529296875, 8325.6376953125, 12204.0576171875, 3743.327880859375, 1605.5458984375, 960.6456298828125, 4886.51953125, 666.4794311523438, 951.3682250976562, 734.4847412109375, 488.2814636230469, 8573.5107421875, 10103.49609375, 6240.9345703125, 6531.796875, 1448.4000244140625, 1589.9903564453125, 3699.6552734375, 2183.56787109375, 3710.35400390625, 4299.9697265625, 7341.6552734375, 7377.21240234375, 4274.34130859375, 2595.23876953125, 5172.76904296875, 2766.56640625, 3486.499267578125, 4598.7998046875, 4526.60986328125, 5390.9150390625, 4770.5068359375, 3032.404541015625, 4627.10009765625, 5333.25634765625, 4387.216796875, 3605.529541015625, 4891.7958984375, 4577.48046875, 4923.328125, 4368.830078125, 4262.0009765625, 4140.36181640625, 4115.2568359375, 4097.46142578125, 12862.8466796875, 1245.25927734375, 840.2564697265625, 498.3384704589844, 473.9306945800781, 457.35284423828125, 449.1196594238281, 519.5792846679688, 406.2435302734375, 402.3684997558594, 377.18878173828125, 327.61126708984375, 259.6888732910156, 222.2604522705078, 213.5024871826172, 202.4329833984375, 662.796875, 178.75820922851562, 150.38438415527344, 144.0938262939453, 113.68010711669922, 114.25923919677734, 439.3829345703125, 111.2122573852539, 110.81890869140625, 108.32585906982422, 107.69422912597656, 107.10992431640625, 104.1998519897461, 103.14897918701172, 1264.16845703125, 281.6905212402344, 265.93682861328125, 200.06568908691406, 604.6895751953125, 1347.0682373046875, 1027.34912109375, 7935.576171875, 470.3853759765625, 2085.98486328125, 17333.328125, 2248.8486328125, 2657.8505859375, 3435.823486328125, 940.1036376953125, 1556.8048095703125, 3942.259033203125, 1208.8084716796875, 2582.424072265625, 8013.26611328125, 2670.74462890625, 8944.2529296875, 10647.4453125, 2785.763916015625, 7612.369140625, 11712.10546875, 1250.360107421875, 2615.861572265625, 4194.10595703125, 3775.4560546875, 1328.403076171875, 7460.9404296875, 8488.9248046875, 2396.04150390625, 6630.6865234375, 4616.30517578125, 3284.629150390625, 4894.70361328125, 5199.01171875, 5328.22119140625, 3163.321533203125, 5592.8671875, 5882.16748046875, 3858.156005859375, 3757.934326171875, 5060.9228515625, 4011.2724609375, 4130.2998046875, 4660.00830078125, 4330.8525390625, 4119.18359375, 4214.72021484375, 4322.25244140625, 4333.67822265625, 4162.9970703125, 4037.622314453125, 4027.31201171875, 1674.6619873046875, 1430.84375, 1399.0059814453125, 986.3831787109375, 801.6914672851562, 659.2225341796875, 554.2837524414062, 501.1465759277344, 498.40631103515625, 316.9754943847656, 307.3132629394531, 286.4380798339844, 273.1107482910156, 265.9836730957031, 253.15155029296875, 229.91848754882812, 228.69898986816406, 223.62350463867188, 219.3712158203125, 205.7398223876953, 205.24241638183594, 204.85336303710938, 198.71923828125, 197.06100463867188, 191.87786865234375, 180.88270568847656, 180.22198486328125, 176.4423065185547, 172.14334106445312, 166.86306762695312, 1017.2398681640625, 3143.041259765625, 4551.47900390625, 11938.857421875, 808.9002075195312, 5919.42236328125, 18965.978515625, 763.7974243164062, 789.9667358398438, 409.8719787597656, 14196.7880859375, 1080.47802734375, 12779.6318359375, 939.2631225585938, 691.6185302734375, 849.5010986328125, 1079.8291015625, 4257.80810546875, 1473.7767333984375, 1948.357421875, 3578.22705078125, 3839.482421875, 8705.130859375, 6076.2490234375, 2525.8515625, 1450.24072265625, 1996.7840576171875, 7132.20654296875, 3579.731689453125, 4093.841552734375, 5972.99462890625, 2926.47607421875, 2638.388671875, 4616.1220703125, 3522.9033203125, 1881.1922607421875, 4213.6484375, 9515.1474609375, 3272.598388671875, 2387.61767578125, 2711.617919921875, 2862.7275390625, 2592.534423828125, 2476.370849609375, 2349.012451171875, 15675.55078125, 5207.4736328125, 2531.587890625, 1625.0579833984375, 1467.16943359375, 1188.1231689453125, 734.7249145507812, 685.7862548828125, 668.9785766601562, 592.2237548828125, 546.90576171875, 470.15887451171875, 3064.5458984375, 404.9166564941406, 396.2502136230469, 346.5387268066406, 312.1099548339844, 308.3860778808594, 297.2265319824219, 288.6231994628906, 267.50152587890625, 266.5213928222656, 261.66839599609375, 256.5400085449219, 251.0774383544922, 231.38987731933594, 222.06605529785156, 221.28262329101562, 219.30824279785156, 216.68211364746094, 1151.94921875, 537.720703125, 10352.2431640625, 1541.3385009765625, 716.2872314453125, 3482.058349609375, 2458.71826171875, 515.002197265625, 848.4185180664062, 618.8600463867188, 4424.8447265625, 547.1852416992188, 734.4255981445312, 1922.9901123046875, 1112.1973876953125, 3707.711669921875, 6986.81884765625, 4644.26953125, 2346.093994140625, 1731.3170166015625, 4322.3740234375, 5377.81884765625, 5931.18115234375, 1169.6380615234375, 2026.283935546875, 2430.706298828125, 4055.41357421875, 4015.59619140625, 2300.197998046875, 1416.590087890625, 2552.543212890625, 3744.09033203125, 2933.083740234375, 3506.519775390625, 2879.8486328125, 3179.0302734375, 3448.276611328125, 2446.654296875, 2585.818115234375, 2467.953857421875, 2360.807373046875, 2451.9365234375, 2346.486083984375, 5416.8701171875, 5336.60205078125, 3447.068359375, 2929.3173828125, 2864.013916015625, 2394.157958984375, 1741.447509765625, 1469.5135498046875, 1436.394287109375, 1394.5980224609375, 944.4478759765625, 933.1494140625, 748.45654296875, 613.9536743164062, 522.4026489257812, 517.98876953125, 475.5787048339844, 705.5716552734375, 447.0174865722656, 364.23956298828125, 355.8140563964844, 346.5944519042969, 327.06768798828125, 316.2493591308594, 313.8876647949219, 312.9433288574219, 310.77508544921875, 309.7319030761719, 278.63916015625, 277.02972412109375, 3570.24072265625, 9273.5908203125, 73757.25, 2058.056884765625, 3862.594970703125, 823.1588745117188, 588.1383056640625, 2911.03125, 4117.212890625, 4955.294921875, 1621.8109130859375, 3206.955810546875, 7248.44970703125, 3338.438720703125, 9204.755859375, 1359.1285400390625, 1517.2197265625, 4045.27001953125, 3995.08447265625, 1387.2598876953125, 2252.380859375, 3114.978271484375, 3351.262451171875, 2991.26953125, 2474.24951171875, 2092.388916015625, 2362.944091796875, 2111.224609375, 2148.772705078125, 2115.5634765625, 11043.28515625, 5819.583984375, 1431.89794921875, 1288.475830078125, 1351.16455078125, 675.9271850585938, 555.541259765625, 448.1552429199219, 416.09027099609375, 353.09521484375, 13806.00390625, 266.900634765625, 251.8997039794922, 238.51699829101562, 223.38710021972656, 215.18055725097656, 215.60324096679688, 1496.39306640625, 199.65655517578125, 183.74801635742188, 183.72027587890625, 161.27899169921875, 157.17332458496094, 145.87049865722656, 139.2166290283203, 133.92552185058594, 133.7613525390625, 134.32615661621094, 129.23680114746094, 128.7615509033203, 1486.62109375, 2616.2099609375, 1141.8482666015625, 346.0705261230469, 2985.7587890625, 5656.7216796875, 1713.727294921875, 677.658203125, 483.2526550292969, 386.7377014160156, 546.48388671875, 2499.326904296875, 1253.9647216796875, 2562.912353515625, 693.9003295898438, 7330.427734375, 612.3754272460938, 8431.1181640625, 4765.66357421875, 1688.218505859375, 1659.191162109375, 2585.167724609375, 2582.63720703125, 1131.419189453125, 5146.65234375, 5348.47900390625, 6815.85498046875, 4453.92138671875, 2011.291015625, 2118.10009765625, 5216.1201171875, 3401.011474609375, 2961.771484375, 2817.31103515625, 3746.515625, 5003.98779296875, 3725.836181640625, 4032.94482421875, 4997.50927734375, 4380.77978515625, 3659.413330078125, 3304.14892578125, 3515.449951171875, 3216.2080078125, 3152.642333984375, 2933.043212890625, 2788.8154296875, 2716.871826171875, 6047.677734375, 5033.37255859375, 3173.2578125, 2144.399169921875, 563.6678466796875, 520.3938598632812, 389.6203918457031, 314.0953063964844, 310.06634521484375, 312.72711181640625, 292.9561462402344, 269.4312438964844, 268.2969665527344, 252.93936157226562, 249.11854553222656, 245.19427490234375, 244.80953979492188, 222.24111938476562, 198.2083740234375, 182.86602783203125, 169.0234832763672, 809.4476318359375, 153.40933227539062, 151.54046630859375, 150.6009521484375, 349.1305236816406, 146.06875610351562, 137.7457733154297, 136.26316833496094, 134.47145080566406, 2262.081787109375, 1589.4771728515625, 2282.07861328125, 4579.66455078125, 1826.4293212890625, 1021.7745361328125, 520.1505126953125, 13338.7568359375, 1071.0452880859375, 5297.04443359375, 2222.90625, 1302.01220703125, 5106.37646484375, 9343.7041015625, 10026.52734375, 1325.2811279296875, 2668.968017578125, 2963.07763671875, 3791.080322265625, 2831.640869140625, 3004.608154296875, 3503.933349609375, 6069.5849609375, 1301.610107421875, 2200.499267578125, 3496.994140625, 4926.779296875, 3173.593994140625, 3085.798583984375, 2722.898681640625, 4154.7919921875, 4165.14013671875, 2353.96875, 4641.43603515625, 3458.134765625, 3367.1533203125, 3498.452392578125, 3111.096435546875, 2840.707275390625, 2664.791748046875, 4444.6767578125, 4009.81396484375, 3869.228515625, 3771.9228515625, 2243.341064453125, 1622.7261962890625, 1590.3629150390625, 1427.8895263671875, 1421.8199462890625, 1277.5892333984375, 1015.247314453125, 959.7556762695312, 905.7957763671875, 900.7237548828125, 4233.5625, 813.3734130859375, 740.7477416992188, 739.3648681640625, 730.3150024414062, 686.7064208984375, 648.83935546875, 611.1669311523438, 599.1442260742188, 588.49853515625, 565.7550659179688, 531.1555786132812, 512.0181274414062, 437.95159912109375, 427.522216796875, 406.0611267089844, 1798.31689453125, 572.1038208007812, 545.9268188476562, 4457.53173828125, 726.049560546875, 3008.090087890625, 2934.41845703125, 1354.7950439453125, 5480.85546875, 1258.531005859375, 3103.546875, 892.6702880859375, 1027.9578857421875, 3293.404541015625, 3039.07177734375, 967.8175659179688, 835.5272216796875, 5407.42578125, 2087.972412109375, 1228.2056884765625, 1525.26611328125, 1811.9189453125, 1699.8251953125, 2442.530029296875, 1876.231201171875, 2705.939453125, 2425.12744140625, 2129.89208984375, 2435.02392578125, 2189.913818359375, 2205.78466796875, 2122.35791015625, 1740.6627197265625, 2072.0126953125, 1944.5369873046875, 1874.4136962890625, 1834.8916015625], \"Term\": [\"n\", \"local\", \"school\", \"tax\", \"health\", \"amend\", \"pension\", \"child\", \"per\", \"polic\", \"claus\", \"author\", \"educ\", \"cent\", \"european\", \"elect\", \"legisl\", \"busi\", \"home\", \"benefit\", \"money\", \"increas\", \"industri\", \"nh\", \"c\", \"cost\", \"care\", \"incom\", \"area\", \"unit\", \"motion\", \"muslim\", \"whip\", \"guillotin\", \"palestinian\", \"program\", \"turnout\", \"iran\", \"grantham\", \"stamford\", \"priest\", \"quorum\", \"nantwich\", \"jo\", \"championship\", \"bencher\", \"patronag\", \"hare\", \"jewish\", \"hereditari\", \"hogg\", \"dunwoodi\", \"shepherd\", \"gorton\", \"tyler\", \"wakeham\", \"hound\", \"foxhunt\", \"arrog\", \"fridg\", \"speaker\", \"voter\", \"madam\", \"bench\", \"chamber\", \"sit\", \"vote\", \"elect\", \"deputi\", \"candid\", \"poll\", \"leader\", \"ballot\", \"thursday\", \"wednesday\", \"bishop\", \"opposit\", \"parliament\", \"select\", \"speech\", \"westminst\", \"timet\", \"liber\", \"minut\", \"parliamentari\", \"democrat\", \"labour\", \"day\", \"ladi\", \"elector\", \"read\", \"front\", \"speak\", \"polit\", \"lord\", \"back\", \"second\", \"hour\", \"prime\", \"view\", \"answer\", \"stand\", \"order\", \"today\", \"legisl\", \"tri\", \"great\", \"opportun\", \"week\", \"might\", \"claus\", \"embryo\", \"subsect\", \"ombudsman\", \"disclosur\", \"sunset\", \"siac\", \"loophol\", \"fa\", \"disclos\", \"cp\", \"insert\\u00e2\", \"therapeut\", \"litig\", \"creditor\", \"reigat\", \"warrant\", \"nao\", \"echr\", \"auld\", \"fisher\", \"corbi\", \"insert\", \"lacuna\", \"draftsman\", \"vexati\", \"llp\", \"unregul\", \"judic\", \"information\\u00e2\", \"judici\", \"auditor\", \"prosecutor\", \"embryolog\", \"attorney\", \"tribun\", \"magistr\", \"court\", \"fsa\", \"prosecut\", \"amend\", \"code\", \"draft\", \"offenc\", \"specifi\", \"schedul\", \"legal\", \"lawyer\", \"section\", \"regul\", \"definit\", \"provis\", \"act\", \"appeal\", \"law\", \"legisl\", \"cell\", \"commission\", \"procedur\", \"bodi\", \"b\", \"inform\", \"power\", \"investig\", \"requir\", \"appli\", \"purpos\", \"consult\", \"person\", \"relat\", \"crimin\", \"order\", \"reason\", \"individu\", \"commiss\", \"might\", \"review\", \"account\", \"effect\", \"refer\", \"process\", \"decis\", \"includ\", \"clear\", \"possibl\", \"set\", \"introduc\", \"homeless\", \"landlord\", \"asylum\", \"afghan\", \"kent\", \"seeker\", \"hmo\", \"antisoci\", \"metropolitan\", \"motorway\", \"curfew\", \"rehabilit\", \"pct\", \"museum\", \"sleeper\", \"petition\", \"burglari\", \"wyre\", \"berkshir\", \"oxfordshir\", \"teenag\", \"denton\", \"predominantli\", \"reddish\", \"lancast\", \"greenfield\", \"bennett\", \"warden\", \"shire\", \"kemptown\", \"district\", \"prison\", \"drug\", \"polic\", \"tenant\", \"crime\", \"local\", \"residenti\", \"alcohol\", \"addict\", \"child\", \"borough\", \"author\", \"constabl\", \"driver\", \"carer\", \"offend\", \"adopt\", \"resid\", \"counti\", \"parent\", \"young\", \"home\", \"council\", \"road\", \"accommod\", \"vehicl\", \"care\", \"social\", \"famili\", \"area\", \"london\", \"age\", \"commun\", \"live\", \"properti\", \"offic\", \"n\", \"plan\", \"woman\", \"welcom\", \"respons\", \"help\", \"system\", \"includ\", \"school\", \"teacher\", \"student\", \"pupil\", \"teach\", \"stadium\", \"athlet\", \"tourist\", \"wembley\", \"classroom\", \"curriculum\", \"ofst\", \"sport\", \"coru\", \"maidenhead\", \"literaci\", \"mast\", \"digit\", \"helena\", \"fe\", \"tuition\", \"olymp\", \"numeraci\", \"ila\", \"canal\", \"grammar\", \"falmouth\", \"camborn\", \"rugbi\", \"gcse\", \"regener\", \"dome\", \"educ\", \"colleg\", \"sixth\", \"post\", \"skill\", \"steel\", \"lotteri\", \"redund\", \"rural\", \"art\", \"taskforc\", \"univers\", \"tourism\", \"region\", \"industri\", \"job\", \"project\", \"manufactur\", \"employ\", \"develop\", \"area\", \"secondari\", \"citi\", \"train\", \"fund\", \"commun\", \"special\", \"technolog\", \"sector\", \"offic\", \"depart\", \"busi\", \"opportun\", \"help\", \"local\", \"futur\", \"welcom\", \"compani\", \"improv\", \"child\", \"million\", \"ireland\", \"northern\", \"terror\", \"treati\", \"terrorist\", \"decommiss\", \"ira\", \"enlarg\", \"sinn\", \"fein\", \"irish\", \"belfast\", \"unionist\", \"republican\", \"paramilitari\", \"israel\", \"republ\", \"missil\", \"islam\", \"ulster\", \"loyalist\", \"ratifi\", \"cypru\", \"cod\", \"gibraltar\", \"amnesti\", \"isra\", \"chastelain\", \"ruc\", \"turkey\", \"eu\", \"european\", \"n\", \"peac\", \"europ\", \"laden\", \"hatr\", \"foreign\", \"union\", \"intern\", \"nice\", \"agreement\", \"unit\", \"kingdom\", \"c\", \"nato\", \"negoti\", \"british\", \"world\", \"presid\", \"britain\", \"polit\", \"process\", \"secur\", \"commun\", \"organis\", \"polici\", \"achiev\", \"posit\", \"continu\", \"pension\", \"incom\", \"annuiti\", \"tobacco\", \"levi\", \"vat\", \"paymast\", \"cigarett\", \"mortgag\", \"rebat\", \"tax\", \"asbesto\", \"windfal\", \"jobcentr\", \"northavon\", \"packet\", \"clergi\", \"wage\", \"rateabl\", \"earner\", \"uprat\", \"maxwel\", \"deduct\", \"patern\", \"havant\", \"gilt\", \"taper\", \"cleethorp\", \"policyhold\", \"coven\", \"earn\", \"payment\", \"commonhold\", \"stealth\", \"insur\", \"credit\", \"revenu\", \"inland\", \"claimant\", \"seller\", \"smuggl\", \"minimum\", \"taxat\", \"price\", \"petrol\", \"cost\", \"aggreg\", \"benefit\", \"rate\", \"retir\", \"fraud\", \"paid\", \"save\", \"p\", \"pay\", \"compani\", \"busi\", \"scheme\", \"burden\", \"low\", \"money\", \"small\", \"market\", \"claim\", \"famili\", \"increas\", \"employ\", \"million\", \"per\", \"cent\", \"system\", \"introduc\", \"help\", \"measur\", \"industri\", \"receiv\", \"allow\", \"fund\", \"nh\", \"patient\", \"railtrack\", \"rail\", \"qmv\", \"emiss\", \"hospic\", \"freight\", \"ppp\", \"gdp\", \"lpg\", \"carbon\", \"barnett\", \"pfi\", \"ballist\", \"nat\", \"diesel\", \"ngo\", \"kiley\", \"subsidiar\", \"mesh\", \"gp\", \"dental\", \"sulphur\", \"llanelli\", \"tube\", \"hatfield\", \"wanless\", \"eurozon\", \"dioxid\", \"railway\", \"privatis\", \"nurs\", \"hospit\", \"doctor\", \"clinic\", \"underground\", \"health\", \"cancer\", \"spend\", \"energi\", \"bed\", \"invest\", \"cent\", \"per\", \"welsh\", \"wait\", \"cut\", \"wale\", \"billion\", \"budget\", \"chancellor\", \"increas\", \"growth\", \"trust\", \"privat\", \"money\", \"sector\", \"figur\", \"transport\", \"million\", \"fund\", \"extra\", \"care\", \"plan\", \"improv\", \"polici\", \"term\", \"labour\", \"next\", \"farmer\", \"anim\", \"food\", \"afghanistan\", \"outbreak\", \"taliban\", \"ministri\", \"rose\\u00e2\", \"humanitarian\", \"slaughter\", \"sheep\", \"civilian\", \"vaccin\", \"livestock\", \"farm\", \"aircraft\", \"cull\", \"kosovo\", \"cannabi\", \"bse\", \"zimbabw\", \"pig\", \"abattoir\", \"iraq\", \"mod\", \"maff\", \"veterinari\", \"cattl\", \"sierra\", \"leon\", \"nuclear\", \"scientist\", \"organ\", \"diseas\", \"meat\", \"mouth\", \"agricultur\", \"deploy\", \"defenc\", \"fisheri\", \"militari\", \"marin\", \"troop\", \"arm\", \"foot\", \"scientif\", \"infect\", \"forc\", \"crisi\", \"flood\", \"export\", \"war\", \"compens\", \"control\", \"research\", \"oper\", \"action\", \"british\", \"industri\", \"possibl\", \"area\", \"respons\", \"risk\", \"help\", \"develop\", \"unit\", \"week\"], \"Total\": [83751.0, 22421.0, 15676.0, 13848.0, 15403.0, 19355.0, 11044.0, 18841.0, 17779.0, 13008.0, 12863.0, 17789.0, 11237.0, 16249.0, 9959.0, 13843.0, 17216.0, 14527.0, 14253.0, 12116.0, 12613.0, 14369.0, 13319.0, 6048.0, 17171.0, 10195.0, 15072.0, 5820.0, 15534.0, 11672.0, 7590.642578125, 1566.916748046875, 1521.653564453125, 1040.350341796875, 743.148193359375, 653.4283447265625, 493.01995849609375, 426.42120361328125, 354.5085754394531, 347.0074462890625, 341.718994140625, 339.6585388183594, 327.9298095703125, 328.2384948730469, 317.4278564453125, 1824.8720703125, 290.3708801269531, 276.1408996582031, 273.32177734375, 268.6202087402344, 307.93365478515625, 229.068115234375, 228.78543090820312, 227.34982299804688, 218.79571533203125, 218.1213836669922, 207.7913818359375, 196.81649780273438, 388.52166748046875, 176.79335021972656, 6572.013671875, 946.468994140625, 1180.5340576171875, 4179.6572265625, 4666.7265625, 2959.733154296875, 9318.9560546875, 13843.0732421875, 4133.361328125, 1752.3358154296875, 1023.26416015625, 5716.26123046875, 702.072509765625, 1028.1700439453125, 778.9608764648438, 504.2478332519531, 11277.9833984375, 13806.6953125, 8200.1865234375, 8729.306640625, 1667.866455078125, 1876.9427490234375, 4874.10205078125, 2709.06640625, 5098.666015625, 6240.51220703125, 12015.12890625, 12336.59765625, 6384.67041015625, 3475.814697265625, 8557.7412109375, 3899.2197265625, 5374.11181640625, 8001.95068359375, 7913.4755859375, 10673.5068359375, 9069.03515625, 4559.552734375, 9076.4326171875, 11695.89453125, 9282.4453125, 6429.50927734375, 12100.3232421875, 10764.17578125, 17216.783203125, 11805.3671875, 11109.9990234375, 10981.54296875, 10911.1552734375, 12849.3955078125, 12863.6787109375, 1246.0843505859375, 841.0806884765625, 499.1631774902344, 474.755126953125, 458.1781311035156, 449.944580078125, 520.6420288085938, 407.08306884765625, 403.2425842285156, 378.0130920410156, 328.4355163574219, 260.5141906738281, 223.0852813720703, 214.3289794921875, 203.26358032226562, 665.84716796875, 179.5829620361328, 151.2113037109375, 144.9183349609375, 114.5074462890625, 115.0956802368164, 442.60272216796875, 112.03703308105469, 111.6431884765625, 109.15092468261719, 108.51854705810547, 107.9369125366211, 105.02490997314453, 103.97420501708984, 1292.2923583984375, 284.48040771484375, 268.6464538574219, 201.7658233642578, 617.2166748046875, 1396.2650146484375, 1059.2650146484375, 8534.509765625, 481.9266662597656, 2214.51025390625, 19355.595703125, 2453.753173828125, 2957.0986328125, 3908.44775390625, 1015.0712280273438, 1734.733154296875, 4661.23681640625, 1327.6796875, 2980.146484375, 10389.220703125, 3168.68017578125, 11911.0341796875, 14692.771484375, 3373.747314453125, 10494.884765625, 17216.783203125, 1414.709716796875, 3305.9921875, 5758.85302734375, 5181.31640625, 1547.316650390625, 11898.134765625, 14179.216796875, 3131.04736328125, 10859.626953125, 7158.9599609375, 4796.20556640625, 8271.6435546875, 9367.111328125, 10128.296875, 4795.001953125, 12100.3232421875, 13200.4609375, 6866.47509765625, 6783.6494140625, 12849.3955078125, 8065.037109375, 8887.255859375, 13989.7958984375, 11489.5908203125, 10594.3447265625, 11362.916015625, 12823.142578125, 13106.375, 12815.275390625, 12057.4140625, 12290.2880859375, 1675.505126953125, 1431.6876220703125, 1399.84912109375, 987.2562255859375, 802.5350952148438, 660.065673828125, 555.1283569335938, 501.9894714355469, 499.2493896484375, 317.81890869140625, 308.1559753417969, 287.28118896484375, 273.95574951171875, 266.82818603515625, 253.99501037597656, 230.76177978515625, 229.5417938232422, 224.4675750732422, 220.21578979492188, 206.58372497558594, 206.08628845214844, 205.69723510742188, 199.5684814453125, 197.9045867919922, 192.72146606445312, 181.72616577148438, 181.0657501220703, 177.2852783203125, 172.9870147705078, 167.7093505859375, 1033.79345703125, 3234.4716796875, 4805.6953125, 13008.0546875, 834.3988037109375, 6455.8564453125, 22421.39453125, 804.979248046875, 842.53173828125, 425.5589294433594, 18841.3828125, 1219.4866943359375, 17789.29296875, 1063.437744140625, 762.6568603515625, 954.3519287109375, 1243.935546875, 5693.30859375, 1775.2713623046875, 2432.96435546875, 5074.30859375, 5527.32763671875, 14253.423828125, 9492.529296875, 3507.023681640625, 1809.1932373046875, 2709.223876953125, 15072.7841796875, 6759.95703125, 8616.255859375, 15534.19140625, 5680.46435546875, 5072.0166015625, 12225.4130859375, 8353.8759765625, 3161.107666015625, 15375.1806640625, 83751.5546875, 10385.4794921875, 6303.4931640625, 11976.2763671875, 15003.244140625, 15055.7373046875, 14921.5205078125, 12823.142578125, 15676.5390625, 5208.314453125, 2532.429443359375, 1625.898681640625, 1468.0107421875, 1188.9644775390625, 735.5659790039062, 686.6415405273438, 669.8194580078125, 593.0645141601562, 547.7465209960938, 470.9997863769531, 3070.7353515625, 405.7579345703125, 397.0932312011719, 347.3796691894531, 312.9510192871094, 309.2275390625, 298.0703430175781, 289.46405029296875, 268.3428955078125, 267.3622741699219, 262.5091552734375, 257.386962890625, 251.9186248779297, 232.23065185546875, 222.9097900390625, 222.1261444091797, 220.1493377685547, 217.52322387695312, 1156.5992431640625, 545.9476928710938, 11237.4443359375, 1623.630126953125, 744.9417114257812, 3940.5693359375, 2743.3486328125, 533.0968627929688, 926.4922485351562, 661.44970703125, 5654.2685546875, 590.2960815429688, 824.7564697265625, 2598.262939453125, 1388.9290771484375, 5840.62158203125, 13319.849609375, 8309.63671875, 3556.15185546875, 2574.84765625, 8695.177734375, 13166.2978515625, 15534.19140625, 1630.553955078125, 3747.658203125, 5086.2685546875, 11735.1201171875, 12225.4130859375, 5334.6474609375, 2314.8408203125, 6809.90966796875, 15375.1806640625, 9914.8427734375, 14527.3623046875, 10981.54296875, 15055.7373046875, 22421.39453125, 8754.9150390625, 11976.2763671875, 9940.564453125, 10369.4375, 18841.3828125, 11283.01171875, 5417.75244140625, 5337.484375, 3447.951904296875, 2930.199951171875, 2864.8974609375, 2395.041015625, 1742.3299560546875, 1470.396484375, 1437.277099609375, 1395.4808349609375, 945.3303833007812, 934.031982421875, 749.339111328125, 614.8361206054688, 523.2850341796875, 518.8714599609375, 476.4612731933594, 706.9493408203125, 447.9014587402344, 365.1219787597656, 356.69671630859375, 347.477294921875, 327.9507141113281, 317.13275146484375, 314.7704772949219, 313.826171875, 311.6577453613281, 310.6144714355469, 279.521484375, 277.9125671386719, 3695.052001953125, 9959.5263671875, 83751.5546875, 2153.552978515625, 4292.9765625, 862.26708984375, 609.1492309570312, 3326.404296875, 5050.11865234375, 7217.765625, 2001.357177734375, 4412.25244140625, 11672.9248046875, 4948.10595703125, 17171.103515625, 1678.507568359375, 2015.9686279296875, 8254.552734375, 8806.537109375, 1919.3232421875, 4274.0595703125, 8001.95068359375, 10594.3447265625, 8944.41796875, 12225.4130859375, 7124.5849609375, 13170.6806640625, 8794.552734375, 10262.6591796875, 11017.927734375, 11044.119140625, 5820.4189453125, 1432.7320556640625, 1289.3115234375, 1352.7706298828125, 676.7612915039062, 556.37548828125, 448.98974609375, 416.92462158203125, 353.9294128417969, 13848.388671875, 267.7353515625, 252.73440551757812, 239.35263061523438, 224.22174072265625, 216.01507568359375, 216.4412384033203, 1502.431640625, 200.49143981933594, 184.58189392089844, 184.55409240722656, 162.11520385742188, 158.00726318359375, 146.70806884765625, 140.05055236816406, 134.75929260253906, 134.59519958496094, 135.1663360595703, 130.0709686279297, 129.6053009033203, 1502.32470703125, 2661.036865234375, 1170.1214599609375, 350.80718994140625, 3097.544189453125, 6005.65185546875, 1787.2078857421875, 706.5364990234375, 498.71160888671875, 397.16064453125, 573.9456787109375, 2896.3271484375, 1393.6856689453125, 2989.821533203125, 753.2120971679688, 10195.9677734375, 669.3809204101562, 12116.1279296875, 6591.57568359375, 2171.176025390625, 2148.293701171875, 3669.498779296875, 3681.728271484375, 1378.3531494140625, 9367.1376953125, 9940.564453125, 14527.3623046875, 8410.263671875, 2988.0966796875, 3222.716796875, 12613.9697265625, 6984.74560546875, 5624.087890625, 5227.91796875, 8616.255859375, 14369.6689453125, 8695.177734375, 11283.01171875, 17779.865234375, 16249.8837890625, 14921.5205078125, 12290.2880859375, 15055.7373046875, 13950.5859375, 13319.849609375, 10449.982421875, 12690.6640625, 11735.1201171875, 6048.513671875, 5034.2197265625, 3174.094482421875, 2145.947021484375, 564.5171508789062, 521.2303466796875, 390.45709228515625, 314.9354248046875, 310.9024963378906, 313.5981750488281, 293.79522705078125, 270.2676696777344, 269.1333312988281, 253.7755126953125, 249.95765686035156, 246.03033447265625, 245.64669799804688, 223.0815887451172, 199.0456085205078, 183.70753479003906, 169.86471557617188, 813.77734375, 154.24575805664062, 152.37730407714844, 151.44021606445312, 351.13232421875, 146.95523071289062, 138.58807373046875, 137.100341796875, 135.30767822265625, 2297.620849609375, 1624.6195068359375, 2344.330078125, 4780.15576171875, 1940.2982177734375, 1085.0224609375, 542.41162109375, 15403.3623046875, 1187.03466796875, 6752.216796875, 2659.724365234375, 1585.046142578125, 7685.69921875, 16249.8837890625, 17779.865234375, 1711.14111328125, 4010.9755859375, 4623.71484375, 6321.849609375, 4578.9423828125, 5037.61328125, 6141.58544921875, 14369.6689453125, 1905.215087890625, 3980.77294921875, 7662.751953125, 12613.9697265625, 6809.90966796875, 6544.57763671875, 5440.31494140625, 11283.01171875, 11735.1201171875, 4476.3486328125, 15072.7841796875, 10385.4794921875, 10369.4375, 13170.6806640625, 10948.6376953125, 12015.12890625, 8455.5087890625, 4445.52880859375, 4010.666015625, 3870.08154296875, 3772.77880859375, 2244.193359375, 1623.5859375, 1591.2152099609375, 1428.7413330078125, 1422.6728515625, 1278.44140625, 1016.0994262695312, 960.6388549804688, 906.648193359375, 901.575927734375, 4237.97900390625, 814.2257080078125, 741.6001586914062, 740.2169189453125, 731.169921875, 687.5585327148438, 649.6918334960938, 612.0198364257812, 599.9964599609375, 589.3507690429688, 566.6075439453125, 532.0076293945312, 512.8701782226562, 438.8036193847656, 428.3741455078125, 406.9130859375, 1810.629150390625, 573.63671875, 547.8349609375, 4577.1259765625, 734.5248413085938, 3269.057373046875, 3216.28955078125, 1422.024169921875, 6441.7724609375, 1327.4564208984375, 3591.427978515625, 924.2757568359375, 1088.771728515625, 4150.833984375, 3798.83984375, 1032.541748046875, 861.4610595703125, 10038.599609375, 3234.3486328125, 1520.724853515625, 2141.326904296875, 3131.488037109375, 2836.11083984375, 5931.6123046875, 3868.389404296875, 10274.744140625, 9592.716796875, 8254.552734375, 13319.849609375, 12815.275390625, 15534.19140625, 15003.244140625, 4726.64453125, 15055.7373046875, 13166.2978515625, 11672.9248046875, 10911.1552734375], \"loglift\": [30.0, 29.0, 28.0, 27.0, 26.0, 25.0, 24.0, 23.0, 22.0, 21.0, 20.0, 19.0, 18.0, 17.0, 16.0, 15.0, 14.0, 13.0, 12.0, 11.0, 10.0, 9.0, 8.0, 7.0, 6.0, 5.0, 4.0, 3.0, 2.0, 1.0, 1.6295000314712524, 1.62909996509552, 1.628999948501587, 1.6288000345230103, 1.628499984741211, 1.6282999515533447, 1.6279000043869019, 1.6275999546051025, 1.6272000074386597, 1.6272000074386597, 1.6270999908447266, 1.6270999908447266, 1.6269999742507935, 1.6269999742507935, 1.6268999576568604, 1.6267000436782837, 1.6267000436782837, 1.6265000104904175, 1.6265000104904175, 1.6265000104904175, 1.6262999773025513, 1.6259000301361084, 1.6259000301361084, 1.6259000301361084, 1.6256999969482422, 1.6256999969482422, 1.625499963760376, 1.6253000497817993, 1.6247999668121338, 1.6247999668121338, 1.5954999923706055, 1.614400029182434, 1.6095999479293823, 1.5943000316619873, 1.5738999843597412, 1.551900029182434, 1.5168999433517456, 1.503600001335144, 1.530500054359436, 1.542099952697754, 1.5664000511169434, 1.4728000164031982, 1.5776000022888184, 1.5520000457763672, 1.5707999467849731, 1.5973999500274658, 1.3553999662399292, 1.3172999620437622, 1.356600046157837, 1.3395999670028687, 1.4884999990463257, 1.4637000560760498, 1.3538999557495117, 1.4140000343322754, 1.3116999864578247, 1.257099986076355, 1.1369999647140503, 1.115399956703186, 1.2282999753952026, 1.337399959564209, 1.1261999607086182, 1.2863999605178833, 1.1969000101089478, 1.075700044631958, 1.0709999799728394, 0.9465000033378601, 0.9872000217437744, 1.2216999530792236, 0.9557999968528748, 0.8442999720573425, 0.8802000284194946, 1.051200032234192, 0.7239000201225281, 0.7745000123977661, 0.37770000100135803, 0.6355000138282776, 0.671500027179718, 0.65420001745224, 0.6545000076293945, 0.48669999837875366, 1.7311999797821045, 1.7305999994277954, 1.730299949645996, 1.729599952697754, 1.7295000553131104, 1.7295000553131104, 1.7294000387191772, 1.729200005531311, 1.729200005531311, 1.729099988937378, 1.729099988937378, 1.7288000583648682, 1.7280999422073364, 1.7275999784469604, 1.7273999452590942, 1.7272000312805176, 1.726699948310852, 1.726699948310852, 1.7258000373840332, 1.725600004196167, 1.7239999771118164, 1.7239999771118164, 1.7239999771118164, 1.7238999605178833, 1.7238999605178833, 1.7237000465393066, 1.7236000299453735, 1.7236000299453735, 1.7233999967575073, 1.7232999801635742, 1.7093000411987305, 1.7214000225067139, 1.7210999727249146, 1.7228000164031982, 1.710800051689148, 1.6953999996185303, 1.700700044631958, 1.6584999561309814, 1.7070000171661377, 1.6714999675750732, 1.62090003490448, 1.6440999507904053, 1.6246000528335571, 1.6023999452590942, 1.6545000076293945, 1.6231000423431396, 1.5636999607086182, 1.6375000476837158, 1.5880000591278076, 1.47160005569458, 1.5602999925613403, 1.4448000192642212, 1.4091999530792236, 1.5398000478744507, 1.4101999998092651, 1.3459999561309814, 1.607800006866455, 1.4970999956130981, 1.414199948310852, 1.4147000312805176, 1.5786999464035034, 1.2646000385284424, 1.2182999849319458, 1.4637000560760498, 1.2379000186920166, 1.2925000190734863, 1.3526999950408936, 1.2065999507904053, 1.1425000429153442, 1.0889999866485596, 1.3152999877929688, 0.9595000147819519, 0.9229000210762024, 1.1548000574111938, 1.1405999660491943, 0.7994999885559082, 1.0327999591827393, 0.9649999737739563, 0.6320000290870667, 0.7555999755859375, 0.7865999937057495, 0.7394999861717224, 0.6438000202178955, 0.6245999932289124, 0.6068999767303467, 0.6371999979019165, 0.6155999898910522, 2.061199903488159, 2.0611000061035156, 2.0611000061035156, 2.060800075531006, 2.060699939727783, 2.0604000091552734, 2.0601999759674072, 2.059999942779541, 2.059999942779541, 2.0590999126434326, 2.059000015258789, 2.058799982070923, 2.0585999488830566, 2.0585999488830566, 2.0583999156951904, 2.0580999851226807, 2.058000087738037, 2.058000087738037, 2.0578999519348145, 2.0576000213623047, 2.0576000213623047, 2.0576000213623047, 2.057499885559082, 2.057499885559082, 2.057300090789795, 2.0571000576019287, 2.0571000576019287, 2.056999921798706, 2.05679988861084, 2.0566999912261963, 2.045599937438965, 2.033099889755249, 2.0074000358581543, 1.9759999513626099, 2.0306999683380127, 1.975000023841858, 1.8944000005722046, 2.009200096130371, 1.9973000288009644, 2.024199962615967, 1.7786999940872192, 1.9407000541687012, 1.7309999465942383, 1.937600016593933, 1.9639999866485596, 1.9452999830245972, 1.920199990272522, 1.7711999416351318, 1.875599980354309, 1.8395999670028687, 1.712399959564209, 1.6973999738693237, 1.568600058555603, 1.6155999898910522, 1.7335000038146973, 1.8406000137329102, 1.756600022315979, 1.3135000467300415, 1.4259999990463257, 1.3176000118255615, 1.1059000492095947, 1.3984999656677246, 1.4082000255584717, 1.0878000259399414, 1.1983000040054321, 1.5427000522613525, 0.767300009727478, -0.11320000141859055, 0.9068999886512756, 1.09089994430542, 0.5763000249862671, 0.4052000045776367, 0.3025999963283539, 0.26570001244544983, 0.3644999861717224, 2.248699903488159, 2.2486000061035156, 2.2483999729156494, 2.248199939727783, 2.248199939727783, 2.247999906539917, 2.2476000785827637, 2.247499942779541, 2.247499942779541, 2.247299909591675, 2.2472000122070312, 2.246999979019165, 2.2467000484466553, 2.2467000484466553, 2.2465999126434326, 2.246299982070923, 2.2460999488830566, 2.246000051498413, 2.2458999156951904, 2.245800018310547, 2.2455999851226807, 2.2455999851226807, 2.245500087738037, 2.245500087738037, 2.2453999519348145, 2.2451000213623047, 2.244999885559082, 2.244999885559082, 2.2448999881744385, 2.2448999881744385, 2.2446999549865723, 2.233599901199341, 2.1666998863220215, 2.196700096130371, 2.2095000743865967, 2.1250998973846436, 2.13919997215271, 2.214200019836426, 2.1607000827789307, 2.1821999549865723, 2.0035998821258545, 2.1728999614715576, 2.1328001022338867, 1.9478000402450562, 2.026599884033203, 1.7942999601364136, 1.6035000085830688, 1.6670000553131104, 1.832800030708313, 1.8517999649047852, 1.5498000383377075, 1.3533999919891357, 1.2858999967575073, 1.9164999723434448, 1.6338000297546387, 1.5104000568389893, 1.1862000226974487, 1.1354000568389893, 1.4075000286102295, 1.757699966430664, 1.2675000429153442, 0.8361999988555908, 1.0307999849319458, 0.8273000121116638, 0.9103000164031982, 0.6935999989509583, 0.3765999972820282, 0.9739000201225281, 0.7159000039100647, 0.8554999828338623, 0.7688999772071838, 0.20960000157356262, 0.6783999800682068, 2.2702999114990234, 2.2702999114990234, 2.27020001411438, 2.2701001167297363, 2.2701001167297363, 2.2701001167297363, 2.26990008354187, 2.2697999477386475, 2.2697999477386475, 2.2697999477386475, 2.2695000171661377, 2.2695000171661377, 2.2692999839782715, 2.2690000534057617, 2.268699884414673, 2.268699884414673, 2.2685999870300293, 2.2685000896453857, 2.2685000896453857, 2.2679998874664307, 2.2679998874664307, 2.267899990081787, 2.267699956893921, 2.2676000595092773, 2.2676000595092773, 2.2676000595092773, 2.2676000595092773, 2.2676000595092773, 2.2672998905181885, 2.2672998905181885, 2.2360999584198, 2.1991000175476074, 2.143399953842163, 2.225100040435791, 2.164799928665161, 2.2239999771118164, 2.235300064086914, 2.1370999813079834, 2.066200017929077, 1.8942999839782715, 2.0601999759674072, 1.9514000415802002, 1.7940000295639038, 1.8768999576568604, 1.6469000577926636, 2.0594000816345215, 1.986199975013733, 1.5571999549865723, 1.4800000190734863, 1.9457999467849731, 1.6298999786376953, 1.3270000219345093, 1.1195000410079956, 1.1750999689102173, 0.6729000210762024, 1.045199990272522, 0.5523999929428101, 0.8435999751091003, 0.7067999839782715, 0.620199978351593, 2.2869999408721924, 2.2869999408721924, 2.2864999771118164, 2.2864999771118164, 2.285900115966797, 2.285900115966797, 2.285599946975708, 2.2852001190185547, 2.285099983215332, 2.2846999168395996, 2.2839999198913574, 2.2839999198913574, 2.283799886703491, 2.283600091934204, 2.283400058746338, 2.2832000255584717, 2.2832000255584717, 2.283099889755249, 2.282900094985962, 2.282599925994873, 2.282599925994873, 2.281899929046631, 2.2818000316619873, 2.281399965286255, 2.281100034713745, 2.280900001525879, 2.280900001525879, 2.280900001525879, 2.2806999683380127, 2.280600070953369, 2.276599884033203, 2.2701001167297363, 2.262700080871582, 2.2734999656677246, 2.2504000663757324, 2.227299928665161, 2.2451000213623047, 2.2453999519348145, 2.2555999755859375, 2.260499954223633, 2.238100051879883, 2.139699935913086, 2.18149995803833, 2.132999897003174, 2.2051000595092773, 1.957200050354004, 2.1981000900268555, 1.9244999885559082, 1.9628000259399414, 2.0355000495910645, 2.0288000106811523, 1.9368000030517578, 1.9325000047683716, 2.0896999835968018, 1.6881999969482422, 1.6672999858856201, 1.5303000211715698, 1.6513999700546265, 1.8911999464035034, 1.867400050163269, 1.404099941253662, 1.5674999952316284, 1.645799994468689, 1.6689000129699707, 1.454300045967102, 1.232200026512146, 1.4395999908447266, 1.2582999467849731, 1.0180000066757202, 0.9763000011444092, 0.881600022315979, 0.9735000133514404, 0.8324999809265137, 0.8198000192642212, 0.8460999727249146, 1.0164999961853027, 0.7718999981880188, 0.8240000009536743, 2.3454999923706055, 2.3454999923706055, 2.345400094985962, 2.344899892807007, 2.344099998474121, 2.3440001010894775, 2.3434998989105225, 2.3429999351501465, 2.342900037765503, 2.3427999019622803, 2.3427999019622803, 2.3424999713897705, 2.3424999713897705, 2.3422999382019043, 2.3422999382019043, 2.3422000408172607, 2.3422000408172607, 2.3417999744415283, 2.341399908065796, 2.3410000801086426, 2.3406999111175537, 2.3403000831604004, 2.3401999473571777, 2.340100049972534, 2.340100049972534, 2.339900016784668, 2.339600086212158, 2.3394999504089355, 2.3394999504089355, 2.339400053024292, 2.3299999237060547, 2.3238000869750977, 2.318700075149536, 2.302799940109253, 2.285099983215332, 2.285599946975708, 2.3036999702453613, 2.20169997215271, 2.242799997329712, 2.1029000282287598, 2.1661999225616455, 2.148900032043457, 1.9368000030517578, 1.792199969291687, 1.7727999687194824, 2.090100049972534, 1.9383000135421753, 1.9006999731063843, 1.8343000411987305, 1.8650000095367432, 1.8287999629974365, 1.7843999862670898, 1.4838000535964966, 1.9645999670028687, 1.7527999877929688, 1.5612000226974487, 1.405500054359436, 1.5821000337600708, 1.5937999486923218, 1.653499960899353, 1.34660005569458, 1.3098000288009644, 1.7029000520706177, 1.167799949645996, 1.24590003490448, 1.2208000421524048, 1.0199999809265137, 1.087399959564209, 0.9035000205039978, 1.1908999681472778, 2.36899995803833, 2.36899995803833, 2.36899995803833, 2.36899995803833, 2.368799924850464, 2.3687000274658203, 2.3687000274658203, 2.3685998916625977, 2.3685998916625977, 2.3685998916625977, 2.3684000968933105, 2.368299961090088, 2.368299961090088, 2.368299961090088, 2.3682000637054443, 2.3682000637054443, 2.3680999279022217, 2.3680999279022217, 2.3680999279022217, 2.368000030517578, 2.3678998947143555, 2.367799997329712, 2.367799997329712, 2.367799997329712, 2.3677000999450684, 2.3675999641418457, 2.3675999641418457, 2.367300033569336, 2.3671998977661133, 2.3671000003814697, 2.3624000549316406, 2.3666000366210938, 2.3657000064849854, 2.3427999019622803, 2.357599973678589, 2.2860000133514404, 2.2774999141693115, 2.3208000659942627, 2.20770001411438, 2.3159000873565674, 2.2232000827789307, 2.334399938583374, 2.311800003051758, 2.1377999782562256, 2.1461000442504883, 2.304500102996826, 2.33870005607605, 1.750599980354309, 1.9315999746322632, 2.155600070953369, 2.0299999713897705, 1.822100043296814, 1.857300043106079, 1.4819999933242798, 1.6456999778747559, 1.034999966621399, 0.9940999746322632, 1.0145000219345093, 0.6699000000953674, 0.6025000214576721, 0.4172999858856201, 0.41350001096725464, 1.370300054550171, 0.38600000739097595, 0.45660001039505005, 0.5403000116348267, 0.5863999724388123], \"logprob\": [30.0, 29.0, 28.0, 27.0, 26.0, 25.0, 24.0, 23.0, 22.0, 21.0, 20.0, 19.0, 18.0, 17.0, 16.0, 15.0, 14.0, 13.0, 12.0, 11.0, 10.0, 9.0, 8.0, 7.0, 6.0, 5.0, 4.0, 3.0, 2.0, 1.0, -5.156300067901611, -6.734499931335449, -6.763800144195557, -7.1442999839782715, -7.481100082397461, -7.609899997711182, -7.892000198364258, -8.037400245666504, -8.22249984741211, -8.243900299072266, -8.259300231933594, -8.265399932861328, -8.300600051879883, -8.299699783325195, -8.333200454711914, -6.584400177001953, -8.422599792480469, -8.472999572753906, -8.48330020904541, -8.500699996948242, -8.3641996383667, -8.660499572753906, -8.661700248718262, -8.668000221252441, -8.706500053405762, -8.709600448608398, -8.758399963378906, -8.812800407409668, -8.133299827575684, -8.920700073242188, -5.3343000411987305, -7.253300189971924, -7.037099838256836, -5.788099765777588, -5.698299884796143, -6.1757001876831055, -5.063700199127197, -4.681300163269043, -5.863100051879883, -6.70959997177124, -7.223199844360352, -5.59660005569458, -7.588799953460693, -7.232900142669678, -7.491700172424316, -7.899899959564209, -5.03439998626709, -4.870200157165527, -5.351900100708008, -5.306399822235107, -6.812600135803223, -6.719299793243408, -5.874800205230713, -6.402100086212158, -5.8719000816345215, -5.7245001792907715, -5.189499855041504, -5.184700012207031, -5.730400085449219, -6.229400157928467, -5.539700031280518, -6.165500164031982, -5.934199810028076, -5.657299995422363, -5.673099994659424, -5.4984002113342285, -5.62060022354126, -6.073699951171875, -5.651100158691406, -5.509099960327148, -5.704400062561035, -5.900599956512451, -5.5954999923706055, -5.661900043487549, -5.589099884033203, -5.708600044250488, -5.73330020904541, -5.76230001449585, -5.768400192260742, -5.77269983291626, -4.5269999504089355, -6.861999988555908, -7.25540018081665, -7.777900218963623, -7.828100204467773, -7.863699913024902, -7.881899833679199, -7.736100196838379, -7.9822001457214355, -7.991799831390381, -8.056400299072266, -8.19729995727539, -8.429699897766113, -8.58530044555664, -8.625499725341797, -8.67870044708252, -7.492700099945068, -8.803099632263184, -8.97599983215332, -9.018699645996094, -9.255800247192383, -9.250699996948242, -7.903800010681152, -9.277700424194336, -9.281299591064453, -9.303999900817871, -9.309900283813477, -9.315299987792969, -9.34280014038086, -9.352999687194824, -6.8470001220703125, -8.348299980163574, -8.405900001525879, -8.690500259399414, -7.584400177001953, -6.7835001945495605, -7.0543999671936035, -5.010000228881836, -7.835599899291992, -6.346199989318848, -4.228799819946289, -6.270999908447266, -6.103899955749512, -5.847099781036377, -7.143199920654297, -6.638800144195557, -5.70959997177124, -6.8917999267578125, -6.132699966430664, -5.00029993057251, -6.098999977111816, -4.890399932861328, -4.716100215911865, -6.0569000244140625, -5.051599979400635, -4.620800018310547, -6.857999801635742, -6.119800090789795, -5.64769983291626, -5.752900123596191, -6.797399997711182, -5.071700096130371, -4.942599773406982, -6.207600116729736, -5.189700126647949, -5.551799774169922, -5.892099857330322, -5.493199825286865, -5.4328999519348145, -5.408400058746338, -5.929800033569336, -5.359899997711182, -5.309500217437744, -5.731200218200684, -5.757500171661377, -5.459799766540527, -5.692299842834473, -5.663000106811523, -5.542399883270264, -5.615600109100342, -5.6656999588012695, -5.6427998542785645, -5.617599964141846, -5.614999771118164, -5.655200004577637, -5.685699939727783, -5.688300132751465, -6.235300064086914, -6.3927001953125, -6.415200233459473, -6.764599800109863, -6.9720001220703125, -7.167600154876709, -7.341000080108643, -7.441800117492676, -7.447299957275391, -7.899899959564209, -7.930799961090088, -8.001199722290039, -8.048800468444824, -8.075300216674805, -8.124699592590332, -8.220999717712402, -8.226300239562988, -8.248700141906738, -8.267900466918945, -8.332099914550781, -8.334500312805176, -8.336400032043457, -8.366800308227539, -8.375200271606445, -8.401800155639648, -8.460800170898438, -8.464500427246094, -8.485699653625488, -8.51039981842041, -8.541500091552734, -6.733799934387207, -5.6057000160217285, -5.235499858856201, -4.271100044250488, -6.9629998207092285, -4.972700119018555, -3.808300018310547, -7.020400047302246, -6.986700057983398, -7.6427998542785645, -4.097899913787842, -6.673500061035156, -4.203100204467773, -6.813600063323975, -7.119699954986572, -6.914000034332275, -6.674099922180176, -5.302199840545654, -6.363100051879883, -6.084000110626221, -5.476099967956543, -5.405600070953369, -4.586999893188477, -4.946499824523926, -5.824399948120117, -6.379199981689453, -6.0594000816345215, -4.786300182342529, -5.475599765777588, -5.3414998054504395, -4.963699817657471, -5.67710018157959, -5.780799865722656, -5.221399784088135, -5.491700172424316, -6.11899995803833, -5.312600135803223, -4.4980998039245605, -5.565400123596191, -5.8805999755859375, -5.753399848937988, -5.69920015335083, -5.798299789428711, -5.844099998474121, -5.896900177001953, -3.811800003051758, -4.91379976272583, -5.6350998878479, -6.078400135040283, -6.180600166320801, -6.391499996185303, -6.872200012207031, -6.941100120544434, -6.96589994430542, -7.087800025939941, -7.167399883270264, -7.318600177764893, -5.443999767303467, -7.4679999351501465, -7.48960018157959, -7.623700141906738, -7.728300094604492, -7.740300178527832, -7.777200222015381, -7.80649995803833, -7.882500171661377, -7.886199951171875, -7.904600143432617, -7.9243998527526855, -7.945899963378906, -8.027600288391113, -8.068699836730957, -8.072199821472168, -8.081199645996094, -8.093199729919434, -6.422500133514404, -7.184299945831299, -4.2266998291015625, -6.13129997253418, -6.897600173950195, -5.316299915313721, -5.664299964904785, -7.227499961853027, -6.728300094604492, -7.043799877166748, -5.076700210571289, -7.166900157928467, -6.872600078582764, -5.909999847412109, -6.457600116729736, -5.253499984741211, -4.619900226593018, -5.028299808502197, -5.71120023727417, -6.014999866485596, -5.100100040435791, -4.8815999031066895, -4.783699989318848, -6.407199859619141, -5.857699871063232, -5.6757001876831055, -5.163899898529053, -5.173699855804443, -5.730899810791016, -6.215700149536133, -5.626800060272217, -5.24370002746582, -5.4878997802734375, -5.309299945831299, -5.506199836730957, -5.407299995422363, -5.326000213623047, -5.6691999435424805, -5.613900184631348, -5.6605000495910645, -5.704899787902832, -5.666999816894531, -5.710999965667725, -4.852700233459473, -4.867599964141846, -5.304699897766113, -5.46750020980835, -5.489999771118164, -5.6691999435424805, -5.987500190734863, -6.157299995422363, -6.180099964141846, -6.20959997177124, -6.599400043487549, -6.611400127410889, -6.831999778747559, -7.030099868774414, -7.191500186920166, -7.199999809265137, -7.2855000495910645, -6.890999794006348, -7.347400188446045, -7.552199840545654, -7.5756001472473145, -7.601799964904785, -7.659800052642822, -7.69350004196167, -7.700900077819824, -7.703999996185303, -7.710899829864502, -7.714300155639648, -7.820099830627441, -7.825900077819824, -5.269599914550781, -4.315100193023682, -2.2414000034332275, -5.820499897003174, -5.190899848937988, -6.736800193786621, -7.072999954223633, -5.473700046539307, -5.127099990844727, -4.941800117492676, -6.058700084686279, -5.3769001960754395, -4.561399936676025, -5.336699962615967, -4.322500228881836, -6.235400199890137, -6.12529993057251, -5.144700050354004, -5.157199859619141, -6.214900016784668, -5.730199813842773, -5.406000137329102, -5.332900047302246, -5.446499824523926, -5.636300086975098, -5.803899765014648, -5.682300090789795, -5.795000076293945, -5.777299880981445, -5.792900085449219, -4.123700141906738, -4.7642998695373535, -6.166600227355957, -6.27209997177124, -6.224599838256836, -6.917200088500977, -7.113399982452393, -7.328199863433838, -7.402400016784668, -7.5665998458862305, -3.900399923324585, -7.846399784088135, -7.904300212860107, -7.958899974822998, -8.024399757385254, -8.061800003051758, -8.059900283813477, -6.122499942779541, -8.136699676513672, -8.21969985961914, -8.219900131225586, -8.350199699401855, -8.37600040435791, -8.450599670410156, -8.497300148010254, -8.53600025177002, -8.537300109863281, -8.532999992370605, -8.571700096130371, -8.575300216674805, -6.129000186920166, -5.563799858093262, -6.392899990081787, -7.586699962615967, -5.431700229644775, -4.792699813842773, -5.9868998527526855, -6.914700031280518, -7.252799987792969, -7.475599765777588, -7.129799842834473, -5.609499931335449, -6.299200057983398, -5.584400177001953, -6.890999794006348, -4.5335001945495605, -7.015999794006348, -4.393599987030029, -4.964099884033203, -6.0019001960754395, -6.019199848175049, -5.575799942016602, -5.576700210571289, -6.402100086212158, -4.887199878692627, -4.848700046539307, -4.606299877166748, -5.031799793243408, -5.8267998695373535, -5.775000095367432, -4.873799800872803, -5.301499843597412, -5.439799785614014, -5.489799976348877, -5.204699993133545, -4.915299892425537, -5.210299968719482, -5.131100177764893, -4.916600227355957, -5.048299789428711, -5.228300094604492, -5.330399990081787, -5.268400192260742, -5.357399940490723, -5.377299785614014, -5.44950008392334, -5.499899864196777, -5.526100158691406, -4.667399883270264, -4.850900173187256, -5.312300205230713, -5.70419979095459, -7.040299892425537, -7.120200157165527, -7.409599781036377, -7.625100135803223, -7.638000011444092, -7.629499912261963, -7.694799900054932, -7.778500080108643, -7.782700061798096, -7.841599941253662, -7.856900215148926, -7.872700214385986, -7.874300003051758, -7.9710001945495605, -8.08549976348877, -8.166000366210938, -8.244799613952637, -6.678400039672852, -8.341699600219727, -8.353899955749512, -8.360199928283691, -7.5192999839782715, -8.390700340270996, -8.449399948120117, -8.460200309753418, -8.473400115966797, -5.6508002281188965, -6.003600120544434, -5.642000198364258, -4.945400238037109, -5.864699840545654, -6.445499897003174, -7.120699882507324, -3.8763999938964844, -6.398399829864502, -4.799900054931641, -5.6682000160217285, -6.203100204467773, -4.83650016784668, -4.2322998046875, -4.161799907684326, -6.185400009155273, -5.485300064086914, -5.380799770355225, -5.134399890899658, -5.426199913024902, -5.3668999671936035, -5.213200092315674, -4.663700103759766, -6.203400135040283, -5.678400039672852, -5.215099811553955, -4.872399806976318, -5.31220006942749, -5.340199947357178, -5.4653000831604, -5.042799949645996, -5.040299892425537, -5.610899925231934, -4.932000160217285, -5.22629976272583, -5.252999782562256, -5.214700222015381, -5.332099914550781, -5.422999858856201, -5.4868998527526855, -4.951700210571289, -5.054699897766113, -5.090400218963623, -5.115799903869629, -5.635499954223633, -5.9593000411987305, -5.979499816894531, -6.087200164794922, -6.0914998054504395, -6.198500156402588, -6.428299903869629, -6.484499931335449, -6.542399883270264, -6.547999858856201, -5.000400066375732, -6.650000095367432, -6.743500232696533, -6.7453999519348145, -6.757699966430664, -6.819300174713135, -6.875999927520752, -6.935800075531006, -6.955699920654297, -6.973599910736084, -7.013000011444092, -7.076099872589111, -7.112800121307373, -7.269100189208984, -7.2932000160217285, -7.344699859619141, -5.856599807739258, -7.0019001960754395, -7.048699855804443, -4.948800086975098, -6.763599872589111, -5.342100143432617, -5.3668999671936035, -6.139800071716309, -4.742199897766113, -6.213500022888184, -5.3109002113342285, -6.557000160217285, -6.415900230407715, -5.251500129699707, -5.331900119781494, -6.476099967956543, -6.6230998039245605, -4.75570011138916, -5.707200050354004, -6.2378997802734375, -6.021299839019775, -5.848999977111816, -5.912899971008301, -5.5503997802734375, -5.814199924468994, -5.447999954223633, -5.557600021362305, -5.687399864196777, -5.553500175476074, -5.659599781036377, -5.652400016784668, -5.690899848937988, -5.889200210571289, -5.714900016784668, -5.77839994430542, -5.815100193023682, -5.836400032043457]}, \"token.table\": {\"Topic\": [8, 1, 2, 3, 4, 5, 6, 8, 1, 2, 3, 4, 5, 6, 7, 8, 1, 2, 3, 4, 5, 6, 7, 8, 1, 2, 3, 4, 5, 6, 8, 1, 2, 3, 4, 5, 6, 7, 8, 3, 6, 1, 2, 3, 4, 5, 6, 7, 8, 3, 8, 1, 2, 3, 4, 5, 6, 2, 6, 1, 2, 3, 4, 5, 6, 7, 8, 4, 5, 6, 7, 8, 8, 3, 6, 1, 2, 3, 4, 5, 6, 7, 8, 1, 2, 5, 8, 6, 1, 2, 3, 4, 5, 6, 7, 8, 3, 1, 2, 3, 4, 5, 6, 8, 1, 2, 3, 4, 5, 6, 7, 8, 1, 2, 3, 4, 5, 6, 7, 8, 2, 5, 8, 1, 7, 1, 2, 4, 6, 3, 4, 1, 2, 5, 2, 6, 2, 2, 3, 4, 7, 1, 2, 3, 4, 5, 6, 7, 1, 2, 3, 4, 5, 6, 7, 8, 7, 1, 3, 4, 7, 3, 7, 5, 1, 2, 5, 6, 7, 1, 7, 1, 2, 3, 4, 5, 6, 7, 8, 3, 3, 4, 6, 7, 1, 4, 1, 2, 3, 4, 5, 7, 8, 3, 4, 1, 3, 4, 5, 6, 7, 8, 1, 4, 5, 6, 7, 8, 8, 4, 6, 7, 2, 3, 4, 5, 6, 7, 8, 3, 1, 2, 4, 6, 7, 8, 1, 2, 3, 4, 5, 6, 7, 8, 4, 4, 7, 8, 1, 5, 8, 7, 1, 2, 3, 4, 5, 6, 7, 8, 3, 6, 8, 2, 3, 3, 4, 6, 7, 8, 1, 2, 3, 4, 5, 6, 7, 1, 2, 6, 7, 5, 3, 4, 6, 6, 1, 2, 3, 4, 5, 8, 1, 2, 3, 4, 5, 6, 7, 8, 2, 6, 4, 2, 1, 2, 3, 4, 5, 6, 7, 8, 6, 6, 7, 8, 5, 2, 4, 5, 8, 3, 4, 8, 1, 2, 3, 4, 5, 6, 7, 8, 2, 3, 5, 3, 6, 1, 2, 3, 4, 5, 6, 7, 8, 2, 4, 6, 7, 8, 2, 6, 8, 2, 3, 5, 1, 2, 3, 4, 5, 6, 7, 8, 1, 2, 3, 4, 5, 6, 7, 8, 1, 2, 3, 4, 5, 6, 7, 8, 2, 4, 2, 3, 4, 6, 7, 8, 1, 2, 3, 4, 5, 6, 7, 8, 3, 4, 8, 2, 3, 5, 6, 2, 1, 2, 3, 4, 5, 6, 7, 2, 2, 3, 5, 7, 2, 3, 5, 1, 3, 4, 7, 8, 8, 3, 4, 1, 2, 3, 4, 5, 6, 7, 8, 5, 1, 2, 3, 4, 5, 6, 7, 8, 1, 2, 3, 4, 5, 6, 7, 8, 5, 6, 1, 2, 5, 8, 1, 2, 3, 4, 5, 6, 7, 8, 1, 2, 3, 5, 6, 7, 7, 3, 1, 2, 3, 4, 6, 7, 8, 1, 2, 3, 8, 1, 2, 3, 7, 8, 1, 2, 3, 4, 5, 6, 7, 8, 7, 4, 7, 2, 2, 7, 8, 3, 4, 2, 3, 7, 8, 1, 4, 1, 2, 3, 5, 2, 3, 5, 7, 8, 3, 8, 1, 4, 6, 6, 2, 3, 4, 7, 1, 2, 3, 4, 5, 6, 7, 8, 1, 3, 5, 6, 7, 1, 2, 5, 2, 1, 2, 7, 2, 3, 4, 6, 7, 3, 4, 5, 6, 7, 5, 5, 8, 4, 5, 7, 8, 2, 4, 5, 7, 8, 7, 4, 5, 7, 8, 1, 2, 3, 4, 6, 7, 8, 2, 4, 1, 3, 4, 5, 6, 7, 8, 4, 8, 8, 4, 5, 1, 2, 3, 4, 6, 7, 8, 2, 5, 8, 3, 8, 8, 1, 2, 3, 4, 5, 6, 7, 8, 1, 2, 3, 4, 5, 6, 7, 8, 1, 5, 8, 1, 2, 5, 6, 7, 1, 1, 2, 3, 4, 5, 6, 7, 8, 2, 6, 3, 4, 5, 6, 7, 1, 2, 3, 4, 5, 6, 7, 8, 4, 7, 5, 6, 1, 3, 7, 4, 1, 1, 2, 3, 4, 5, 6, 7, 8, 3, 3, 4, 6, 7, 1, 1, 7, 1, 5, 6, 3, 7, 8, 4, 1, 2, 3, 4, 5, 6, 7, 8, 1, 3, 1, 1, 2, 3, 5, 6, 7, 8, 3, 7, 3, 7, 1, 1, 2, 3, 4, 6, 7, 8, 8, 4, 1, 2, 3, 4, 5, 6, 7, 8, 1, 2, 3, 4, 5, 6, 7, 8, 6, 1, 3, 4, 5, 6, 7, 8, 1, 2, 3, 4, 5, 6, 7, 8, 2, 4, 5, 6, 7, 8, 3, 7, 8, 1, 2, 3, 4, 6, 7, 8, 2, 2, 6, 1, 2, 2, 2, 6, 7, 2, 4, 5, 7, 8, 1, 2, 3, 4, 5, 6, 7, 8, 3, 4, 6, 7, 2, 3, 4, 6, 7, 8, 5, 1, 8, 5, 5, 5, 5, 5, 1, 1, 1, 2, 3, 4, 5, 6, 7, 8, 6, 2, 2, 5, 3, 3, 7, 2, 3, 4, 5, 6, 7, 8, 8, 1, 3, 4, 6, 7, 2, 5, 8, 1, 2, 3, 4, 6, 7, 8, 3, 3, 1, 2, 3, 5, 6, 1, 2, 1, 4, 5, 7, 8, 2, 3, 5, 6, 8, 1, 2, 3, 5, 6, 8, 6, 7, 1, 2, 3, 5, 6, 7, 4, 2, 1, 2, 3, 4, 5, 6, 7, 8, 8, 7, 2, 3, 4, 7, 1, 2, 3, 4, 5, 7, 2, 1, 2, 7, 3, 4, 7, 1, 3, 4, 5, 6, 7, 8, 5, 7, 1, 7, 8, 8, 2, 3, 4, 4, 6, 7, 8, 5, 8, 2, 4, 5, 6, 7, 8, 4, 6, 1, 2, 3, 4, 5, 6, 7, 8, 2, 8, 7, 3, 1, 2, 3, 4, 5, 6, 7, 8, 5, 8, 3, 4, 6, 7, 8, 2, 3, 6, 8, 1, 2, 3, 4, 5, 6, 7, 8, 5, 7, 8, 1, 2, 3, 4, 5, 6, 7, 6, 1, 3, 1, 4, 6, 7, 8, 3, 1, 1, 2, 3, 4, 5, 6, 7, 1, 2, 7, 5, 8, 2, 4, 5, 6, 7, 8, 1, 2, 3, 4, 5, 6, 7, 8, 7, 7, 1, 3, 5, 6, 7, 8, 6, 5, 5, 7, 8, 4, 3, 7, 2, 3, 2, 3, 5, 1, 2, 3, 4, 5, 6, 7, 8, 4, 4, 2, 1, 2, 3, 4, 5, 6, 7, 8, 1, 2, 3, 4, 5, 6, 7, 8, 1, 2, 4, 5, 6, 7, 8, 1, 2, 3, 4, 5, 6, 7, 8, 1, 8, 1, 2, 3, 4, 5, 6, 7, 8, 8, 3, 1, 6, 7, 6, 1, 2, 3, 4, 5, 6, 7, 8, 1, 5, 3, 4, 6, 1, 2, 3, 4, 5, 6, 7, 1, 2, 3, 5, 8, 6, 7, 1, 1, 2, 3, 4, 5, 6, 7, 8, 6, 2, 3, 6, 3, 5, 8, 6, 3, 4, 6, 7, 8, 1, 2, 3, 4, 5, 6, 7, 8, 3, 5, 6, 7, 7, 8, 1, 2, 3, 4, 5, 6, 7, 8, 2, 3, 5, 1, 2, 3, 4, 5, 6, 7, 8, 6, 1, 2, 3, 5, 6, 7, 8, 1, 3, 5, 6, 7, 1, 2, 3, 4, 5, 6, 7, 8, 1, 2, 3, 4, 5, 6, 7, 8, 1, 2, 3, 4, 5, 6, 8, 1, 2, 3, 4, 5, 6, 7, 8, 7, 3, 1, 4, 5, 6, 7, 8, 3, 4, 5, 6, 7, 8, 1, 1, 3, 4, 5, 6, 7, 8, 3, 5, 1, 2, 3, 4, 6, 7, 4, 6, 7, 1, 2, 3, 1, 2, 3, 4, 5, 6, 7, 8, 1, 3, 4, 6, 7, 8, 2, 3, 5, 6, 2, 3, 5, 2, 5, 2, 3, 4, 5, 6, 7, 4, 1, 2, 3, 4, 5, 6, 7, 8, 7, 1, 3, 7, 7, 3, 7, 3, 4, 6, 7, 8, 6, 5, 1, 2, 3, 4, 5, 6, 7, 8, 1, 2, 3, 4, 5, 6, 7, 8, 6, 1, 2, 3, 4, 5, 6, 7, 8, 3, 2, 4, 6, 1, 2, 3, 4, 5, 6, 7, 8, 3, 4, 1, 3, 4, 5, 7, 8, 2, 3, 4, 5, 6, 7, 8, 3, 2, 1, 2, 3, 4, 5, 6, 7, 8, 5, 5, 1, 2, 3, 4, 5, 6, 7, 8, 1, 2, 3, 4, 6, 7, 8, 2, 3, 5, 6, 3, 6, 1, 2, 3, 4, 5, 6, 7, 8, 1, 2, 3, 4, 6, 7, 8, 4, 6, 7, 1, 2, 3, 4, 5, 6, 7, 8, 1, 2, 3, 4, 5, 6, 7, 8, 1, 2, 3, 5, 7, 8, 8, 5, 4, 3, 4, 6, 7, 8, 1, 2, 3, 4, 5, 6, 7, 8, 1, 2, 4, 6, 7, 2, 3, 4, 6, 8, 4, 2, 4, 8, 4, 8, 1, 2, 3, 4, 5, 6, 7, 8, 2, 4, 1, 2, 3, 4, 5, 6, 2, 3, 4, 6, 7, 8, 1, 2, 3, 4, 5, 6, 7, 8, 3, 1, 2, 3, 4, 6, 7, 8, 1, 6, 1, 2, 3, 4, 5, 6, 7, 8, 8, 1, 3, 2, 8, 5, 1, 2, 3, 4, 5, 7, 1, 4, 1, 3, 4, 7, 8, 8, 3, 1, 2, 3, 4, 5, 6, 8, 6, 8, 1, 2, 3, 4, 5, 6, 7, 1, 2, 3, 4, 5, 6, 7, 8, 1, 2, 3, 7, 8, 1, 2, 3, 4, 5, 6, 8, 2, 3, 4, 5, 6, 8, 1, 2, 3, 4, 5, 6, 7, 8, 1, 3, 4, 6, 7, 1, 4, 4, 1, 1, 2, 3, 4, 5, 6, 7, 8, 6, 7, 4, 7, 4, 2, 7, 7, 2, 1, 2, 3, 4, 5, 6, 7, 8, 8, 6, 3, 4, 6, 6, 7, 6, 7, 4, 4, 2, 3, 4, 6, 7, 8, 3, 3, 6, 1, 2, 3, 4, 5, 6, 7, 8, 5, 5, 2, 1, 4, 7, 8, 1, 2, 3, 5, 7, 6, 1, 2, 3, 4, 5, 6, 7, 8, 4, 8, 4, 3, 4, 7, 8, 3, 4, 7, 8, 5, 1, 2, 3, 4, 5, 6, 7, 8, 2, 3, 5, 6, 5, 8, 1, 2, 3, 4, 5, 6, 7, 8, 7, 8, 4, 5, 1, 1, 5, 3, 7, 4, 5, 6, 7, 8, 5, 2, 3, 4, 5, 6, 7, 8, 1, 2, 3, 4, 5, 6, 7, 8, 2, 6, 8, 6, 2, 3, 4, 5, 6, 7, 8, 8, 2, 1, 2, 3, 4, 5, 6, 7, 8, 1, 2, 5, 6, 1, 7, 4, 6, 7, 1, 2, 3, 4, 6, 7, 8, 1, 1, 2, 3, 4, 5, 7, 7, 1, 5, 6, 7, 8, 3, 2, 5, 1, 6, 7, 8, 1, 3, 4, 5, 6, 7, 8, 1, 2, 3, 4, 5, 6, 7, 8, 1, 2, 3, 4, 5, 7, 4, 1, 3, 4, 1, 6, 1, 3, 4, 5, 6, 8, 1, 2, 4, 5, 6, 7, 8, 3, 1, 3, 4, 6, 8], \"Freq\": [0.9983392357826233, 0.043113138526678085, 0.0845680832862854, 0.8014622330665588, 0.005527325440198183, 0.009949185885488987, 0.015476511791348457, 0.03979674354195595, 0.18532153964042664, 0.46471038460731506, 0.01946607604622841, 0.07178819179534912, 0.016990620642900467, 0.13457472622394562, 0.09744290262460709, 0.009676777757704258, 0.03797805309295654, 0.14975178241729736, 0.08800902217626572, 0.20694628357887268, 0.24003495275974274, 0.06219759210944176, 0.1909136325120926, 0.024219537153840065, 0.03450676426291466, 0.7246420383453369, 0.08664124459028244, 0.019941778853535652, 0.1210118904709816, 0.005308732856065035, 0.007895038463175297, 0.024706244468688965, 0.18107487261295319, 0.15636862814426422, 0.09475938975811005, 0.2141207754611969, 0.024706244468688965, 0.05139315873384476, 0.2527959644794464, 0.9634388089179993, 0.03524776175618172, 0.07289259135723114, 0.10292784869670868, 0.7478955388069153, 0.007904015481472015, 0.05690891295671463, 0.005620633251965046, 0.004566764459013939, 0.0012295135529711843, 0.998727560043335, 0.9997935891151428, 0.01537849847227335, 0.00019716023234650493, 0.520108699798584, 0.1090296134352684, 0.0011829613940790296, 0.3540997803211212, 0.08365938812494278, 0.9142776131629944, 0.062099799513816833, 0.16159546375274658, 0.004986115265637636, 0.01541162934154272, 0.7268396615982056, 0.0015864912420511246, 0.026970351114869118, 0.0004532832244876772, 0.01119302213191986, 0.07244372367858887, 0.003731007454916835, 0.0003109172685071826, 0.9122313261032104, 0.9984946250915527, 0.9376501441001892, 0.06171874329447746, 0.21117886900901794, 0.27886641025543213, 0.10212231427431107, 0.037901878356933594, 0.06540241092443466, 0.21976785361766815, 0.011819712817668915, 0.07280942797660828, 0.10446591675281525, 0.8955032825469971, 0.9973674416542053, 0.9998339414596558, 0.9994890689849854, 0.47261252999305725, 0.16181081533432007, 0.019822362810373306, 0.0317804180085659, 0.026393907144665718, 0.08973928540945053, 0.11818006634712219, 0.07972037047147751, 0.9980288743972778, 0.0014820315409451723, 0.8257879614830017, 0.12775112688541412, 0.005335313733667135, 0.0017784378724172711, 0.005038907285779715, 0.0329011008143425, 0.027797333896160126, 0.6447864174842834, 0.07962050288915634, 0.05322002246975899, 0.07403310388326645, 0.09666208922863007, 0.00013968510029371828, 0.023746466264128685, 6.437412957893685e-05, 0.021565333008766174, 0.3845066428184509, 0.3818029463291168, 0.02311031147837639, 0.012166709639132023, 0.034762028604745865, 0.14200931787490845, 0.0024091543164104223, 0.20405538380146027, 0.7933345437049866, 0.9960834383964539, 0.0025738589465618134, 0.06437447667121887, 0.008470325730741024, 0.9266536235809326, 0.99725341796875, 0.9993934035301208, 0.9992305636405945, 0.008100883103907108, 0.9802068471908569, 0.011341235600411892, 0.9912809133529663, 0.007030361331999302, 0.9936630725860596, 0.2039428949356079, 0.7184096574783325, 0.04474601522088051, 0.03288494795560837, 0.029082605615258217, 0.8582600355148315, 0.01098676212131977, 0.03037516586482525, 0.025851204991340637, 0.042008209973573685, 0.0025851204991340637, 0.505082368850708, 0.03091767430305481, 0.07738787680864334, 0.06764411926269531, 0.0643649771809578, 0.11224052309989929, 0.08909911662340164, 0.05330956354737282, 0.9961687326431274, 0.9486199617385864, 0.04415498301386833, 0.005697417072951794, 0.9957889318466187, 0.17791280150413513, 0.8214271664619446, 0.9988951086997986, 0.965390145778656, 0.002153286710381508, 0.0004785081255249679, 0.00023925406276248395, 0.03182079270482063, 0.9973301887512207, 0.0021919345017522573, 0.006272631231695414, 0.05067625641822815, 0.06891641020774841, 0.1140628457069397, 0.032683707773685455, 0.6958493590354919, 0.02715388871729374, 0.004374334588646889, 0.9941140413284302, 0.9944791197776794, 0.0008735641604289412, 0.38065558671951294, 0.6184834241867065, 0.9677780866622925, 0.02974727749824524, 0.013510080054402351, 0.7285793423652649, 0.02335313893854618, 0.14224185049533844, 0.06176036596298218, 0.027599163353443146, 0.0030880183912813663, 0.8856185078620911, 0.11316236853599548, 0.0004679391859099269, 0.00023396959295496345, 0.11745274066925049, 0.526899516582489, 0.07089278846979141, 0.17430734634399414, 0.10973174124956131, 0.0033920675050467253, 0.07656381279230118, 0.4900326132774353, 0.08213648945093155, 0.08964750170707703, 0.2580394148826599, 0.9991876482963562, 0.04347296804189682, 0.3598926365375519, 0.5965126156806946, 0.2202070653438568, 0.033466119319200516, 0.028446201235055923, 0.0033466119784861803, 0.6730036735534668, 0.02710755728185177, 0.014055769890546799, 0.9976396560668945, 0.24533015489578247, 0.04116370156407356, 0.24140651524066925, 0.4691835939884186, 0.00013767124619334936, 0.002822260372340679, 0.17814813554286957, 0.1155429556965828, 0.07169020920991898, 0.01485053077340126, 0.5360750555992126, 0.020441317930817604, 0.03826195374131203, 0.024925597012043, 0.9949301481246948, 0.9963535070419312, 0.9022482633590698, 0.09688007086515427, 0.9164909720420837, 0.0833173617720604, 0.9983999133110046, 0.995309591293335, 0.07470417767763138, 0.09772580862045288, 0.4731706976890564, 6.634474266320467e-05, 0.001194205367937684, 0.021827420219779015, 0.3079059422016144, 0.023287005722522736, 0.8906567692756653, 0.10897447168827057, 0.9981685876846313, 0.8835734724998474, 0.11592484265565872, 0.11027771234512329, 0.04498493671417236, 0.2696019411087036, 0.5750194787979126, 0.00012307779979892075, 0.9458450078964233, 0.012856977991759777, 0.0010714147938415408, 0.015428373590111732, 0.005142791196703911, 0.01928546652197838, 0.0002142829616786912, 0.9986521005630493, 0.02002740278840065, 0.4093405604362488, 0.570536732673645, 0.9980217814445496, 0.7535009384155273, 0.1301390677690506, 0.11633965373039246, 0.9977956414222717, 0.09499265253543854, 0.015476331114768982, 0.34875112771987915, 0.5406042337417603, 0.00026683328906074166, 0.999334990978241, 0.1623973399400711, 0.07957278937101364, 0.04877658933401108, 0.001147684408351779, 0.06159239634871483, 0.5388378500938416, 0.04686377942562103, 0.060635995119810104, 0.030077503994107246, 0.9684956073760986, 0.9982050657272339, 0.9999472498893738, 0.15877769887447357, 0.3306787610054016, 0.06134419143199921, 0.05577438324689865, 0.15275008976459503, 0.05974191799759865, 0.09163479506969452, 0.08934583514928818, 0.9913710951805115, 0.9979614019393921, 0.9419159889221191, 0.058063313364982605, 0.9964281320571899, 0.9165551066398621, 0.07987763732671738, 0.003260311670601368, 0.000407538958825171, 0.041881460696458817, 0.9491077661514282, 0.008006749674677849, 0.07134802639484406, 0.5539790987968445, 0.016215460374951363, 0.07400146871805191, 0.22008801996707916, 0.0016215461073443294, 0.0594075508415699, 0.003537918673828244, 0.7912904620170593, 0.1678769886493683, 0.040834940969944, 0.023929139599204063, 0.9759670495986938, 0.0008179682772606611, 0.02110358141362667, 0.3775741457939148, 0.3284960687160492, 0.20236535370349884, 8.179682481568307e-05, 0.006216558627784252, 0.06339254230260849, 0.13419760763645172, 0.24827563762664795, 0.5379976034164429, 0.06719940155744553, 0.012272944673895836, 0.08003918826580048, 0.3205093443393707, 0.5994123816490173, 0.07428737729787827, 0.8829854130744934, 0.04231559485197067, 0.037477437406778336, 0.5917808413505554, 0.09840849786996841, 0.07217428833246231, 0.012814865447580814, 0.037235647439956665, 0.14592021703720093, 0.004110428504645824, 0.11662810295820236, 0.09384705126285553, 0.10047261416912079, 0.15220648050308228, 0.19205063581466675, 0.08286494761705399, 0.10437534749507904, 0.15756139159202576, 0.12998151779174805, 0.18224386870861053, 0.07266152650117874, 0.00876658782362938, 0.04703611508011818, 0.01669023372232914, 0.13082446157932281, 0.41186103224754333, 0.9904802441596985, 0.998132050037384, 0.014221307821571827, 0.06786996871232986, 0.02020406536757946, 0.7189116477966309, 0.1520208865404129, 0.026775291189551353, 0.004424531944096088, 0.010218561626970768, 0.6400822997093201, 0.14653629064559937, 0.17318882048130035, 0.02159593068063259, 0.0030550339724868536, 0.0008427680004388094, 0.8006693720817566, 0.17632810771465302, 0.022606167942285538, 0.9298717975616455, 0.03854937478899956, 0.0315190926194191, 0.9953296780586243, 0.9973199367523193, 0.03979584574699402, 0.0018316080095246434, 0.010656628757715225, 0.0038297257851809263, 0.0014985883608460426, 0.9419460296630859, 0.0003330196486786008, 0.9984650611877441, 0.034077584743499756, 0.9168419241905212, 0.0483282133936882, 0.0006195924361236393, 0.6596451997756958, 0.3096974790096283, 0.030448371544480324, 0.009275438264012337, 0.01267643179744482, 0.16201098263263702, 0.17035888135433197, 0.6455704569816589, 0.9991907477378845, 0.996248722076416, 0.9986370801925659, 0.013192854821681976, 0.0008651052485220134, 0.0430389866232872, 0.012976578436791897, 0.006055736914277077, 0.25152936577796936, 0.6408267021179199, 0.03157634288072586, 0.9971010684967041, 0.5979768633842468, 0.05001378804445267, 0.07457485795021057, 0.046852465718984604, 0.024317888543009758, 0.04644716531038284, 0.03817908465862274, 0.12167049944400787, 0.1459132432937622, 0.37094351649284363, 0.05192328989505768, 0.13438451290130615, 0.112911157310009, 0.0028161786030977964, 0.09856624901294708, 0.0826372355222702, 0.9995653629302979, 0.9936252236366272, 0.00046571032726205885, 0.01505796704441309, 0.13350363075733185, 0.8508527874946594, 0.001577944029122591, 0.842937707901001, 0.014832673594355583, 0.02714063785970211, 0.05554363131523132, 0.03692388907074928, 0.020828861743211746, 0.0003155888116452843, 0.6890460252761841, 0.002403648803010583, 0.0004807297664228827, 0.19565701484680176, 0.043105434626340866, 0.06922508776187897, 0.9919235706329346, 0.9966104030609131, 0.024306992068886757, 0.1969774067401886, 0.10902845859527588, 0.29581910371780396, 0.055169809609651566, 0.16561029851436615, 0.15320464968681335, 0.029535362496972084, 0.0028128917329013348, 0.014767681248486042, 0.9528670907020569, 0.9055584073066711, 0.02588692121207714, 0.0065322136506438255, 0.061209261417388916, 0.000725801510270685, 0.0006835634703747928, 0.021494273096323013, 0.1058763861656189, 0.4084671437740326, 0.1543334424495697, 0.00022785448527429253, 0.16124501824378967, 0.1477256566286087, 0.9973673820495605, 0.996030330657959, 0.9903355240821838, 0.9969184994697571, 0.9984094500541687, 0.02599884755909443, 0.9739736318588257, 0.9837555289268494, 0.015476979315280914, 0.04020000621676445, 0.017007695510983467, 0.9410924315452576, 0.0015461540315300226, 0.014653418213129044, 0.9854423999786377, 0.08149880170822144, 0.8988540172576904, 0.00811606366187334, 0.011497756466269493, 0.9942389130592346, 0.9073542952537537, 0.015734467655420303, 0.06949389725923538, 0.006556028500199318, 0.9470013380050659, 0.05264586955308914, 0.9953371286392212, 0.009984525851905346, 0.9897993206977844, 0.9968475103378296, 0.9919893145561218, 0.01975538209080696, 0.9212058782577515, 0.05891019105911255, 0.08063019812107086, 0.33309993147850037, 0.15697155892848969, 0.06483297049999237, 0.06840699911117554, 0.10943690687417984, 0.06776367872953415, 0.11887235939502716, 0.8815961480140686, 0.00036119145806878805, 0.00418982096016407, 0.011269173584878445, 0.10257837921380997, 0.7465875744819641, 0.23936833441257477, 0.013809711672365665, 0.9991297721862793, 0.004956240765750408, 0.9912481307983398, 0.997639536857605, 0.052557867020368576, 0.004025219473987818, 0.49705711007118225, 0.42851337790489197, 0.01782597228884697, 0.0011279364116489887, 0.05000518262386322, 0.003383809234946966, 0.10940983146429062, 0.8358008861541748, 0.9997303485870361, 0.9661568999290466, 0.03355839103460312, 0.02073153667151928, 0.899841845035553, 0.04938298463821411, 0.030049080029129982, 0.02259143628180027, 0.00040162552613765, 0.931168794631958, 0.01184795331209898, 0.0340377613902092, 0.9919741749763489, 0.10507503896951675, 0.1452370434999466, 0.03736001253128052, 0.7121752500534058, 0.022116240113973618, 0.002233963692560792, 0.10276232659816742, 0.10566648095846176, 0.23858731985092163, 0.5258750319480896, 0.0029041527304798365, 0.9973394274711609, 0.9959185719490051, 0.0022051341366022825, 0.47514837980270386, 0.001624835655093193, 0.005802984815090895, 0.4348756670951843, 0.00011605969484662637, 0.0803133100271225, 0.0009438461274839938, 0.999061107635498, 0.9998810291290283, 0.9983968734741211, 0.9996554255485535, 0.021238956600427628, 0.0006111930124461651, 0.13767121732234955, 0.03361561521887779, 0.33187779784202576, 0.4715353846549988, 0.0035143597051501274, 0.9955684542655945, 0.05122578889131546, 0.9484303593635559, 0.1920136958360672, 0.8075096607208252, 0.9997205138206482, 0.11582483351230621, 0.00842362456023693, 0.014478104189038277, 0.020532583817839622, 0.0005264765350148082, 0.03316802158951759, 0.007107432931661606, 0.7999810576438904, 0.021915407851338387, 0.05757775157690048, 0.1563963145017624, 0.035761959850788116, 0.14374515414237976, 0.03496503457427025, 0.010957703925669193, 0.5386209487915039, 0.011123121716082096, 0.8751190900802612, 0.11363621801137924, 0.995851457118988, 0.2257605642080307, 0.0018619428155943751, 0.7722407579421997, 0.9970297813415527, 0.9955125451087952, 0.7096291780471802, 0.007437385618686676, 0.04898415878415108, 0.010258462280035019, 0.022055694833397865, 0.025389695540070534, 0.13182124495506287, 0.044624313712120056, 0.975252091884613, 0.022825049236416817, 0.05462236329913139, 0.3455439805984497, 0.013293430209159851, 0.23152723908424377, 0.3549175560474396, 0.09274790436029434, 0.07435823231935501, 0.044774848967790604, 0.27950015664100647, 0.1525999903678894, 0.0709315836429596, 0.14311960339546204, 0.14197738468647003, 0.9975946545600891, 0.998092532157898, 0.9975522756576538, 0.9943655729293823, 0.9984613060951233, 0.004915349651128054, 0.9941294193267822, 0.9947007298469543, 0.9985654354095459, 0.38361838459968567, 0.07137714326381683, 0.12223223596811295, 0.13042305409908295, 0.09504951536655426, 0.05157516151666641, 0.0416741706430912, 0.10414042323827744, 0.996004045009613, 0.006298501510173082, 0.12229590117931366, 0.18790529668331146, 0.6833873987197876, 0.999663233757019, 0.995868444442749, 0.9934998750686646, 0.03283267840743065, 0.9652807116508484, 0.9924987554550171, 0.11296235024929047, 0.8659797310829163, 0.021034369245171547, 0.9964091181755066, 0.08634582161903381, 0.0912608876824379, 0.1722266972064972, 0.21114873886108398, 0.02683362364768982, 0.23346582055091858, 0.04104747623205185, 0.1376219540834427, 0.9976911544799805, 0.9979674220085144, 0.9969679713249207, 0.21594811975955963, 0.16459202766418457, 0.6107304692268372, 0.0034377705305814743, 0.0016838059527799487, 0.0016136473277583718, 0.0018942817114293575, 0.9996985197067261, 0.9988293647766113, 0.04183964058756828, 0.9581277966499329, 0.9961914420127869, 0.664977490901947, 0.046715106815099716, 0.11470423638820648, 0.047811705619096756, 0.04013551399111748, 0.017984220758080482, 0.06733116507530212, 0.9995270371437073, 0.9984965920448303, 0.0392499603331089, 0.11678550392389297, 0.21457287669181824, 0.22768834233283997, 0.008968664333224297, 0.026809554547071457, 0.32470420002937317, 0.04117870330810547, 0.03797820955514908, 0.33704686164855957, 0.1831844300031662, 0.13257279992103577, 0.0879659578204155, 0.062153249979019165, 0.05692832171916962, 0.1022370308637619, 0.9999279975891113, 0.0006959102465771139, 0.1423136442899704, 0.06040500849485397, 0.0066807386465370655, 0.34823349118232727, 0.4224175214767456, 0.019276713952422142, 0.0768953487277031, 0.5618603229522705, 0.10689618438482285, 0.09932316094636917, 0.04136037826538086, 0.09611918777227402, 0.0023301620967686176, 0.01500041875988245, 0.009834946133196354, 0.5245554447174072, 0.0002252277627121657, 0.23671437799930573, 0.04587138816714287, 0.18280987441539764, 0.005804093088954687, 0.02321637235581875, 0.9704443216323853, 0.09942734986543655, 0.6270730495452881, 0.048158809542655945, 0.07950825989246368, 0.0347113236784935, 0.017229590564966202, 0.09396430850028992, 0.9906303286552429, 0.03962993994355202, 0.9596107006072998, 0.006778087466955185, 0.9918601512908936, 0.9986739754676819, 0.005488218739628792, 0.9639894962310791, 0.030346620827913284, 0.04544342681765556, 0.022167524322867393, 0.6865005493164062, 0.0633159950375557, 0.18246644735336304, 0.19413702189922333, 0.3276570737361908, 0.11854889243841171, 0.05646735057234764, 0.007648315280675888, 0.26883015036582947, 0.023514501750469208, 0.003091872204095125, 0.00013011177361477166, 0.21533499658107758, 0.12009317427873611, 0.6643507480621338, 0.7652391195297241, 0.08846879750490189, 0.0019162916578352451, 0.0009581458289176226, 0.025869937613606453, 0.117213174700737, 0.9992367029190063, 0.9990122318267822, 0.9977080225944519, 0.9998611211776733, 0.9985926747322083, 0.9979873895645142, 0.997889518737793, 0.998320460319519, 0.9951640367507935, 0.9962268471717834, 0.16342471539974213, 0.006859505549073219, 0.04272148385643959, 0.5588691830635071, 0.006498478818684816, 0.08604467660188675, 0.09230247139930725, 0.043202850967645645, 0.9985267519950867, 0.990241289138794, 0.9781068563461304, 0.020893104374408722, 0.9957703351974487, 0.9993332624435425, 0.9947468638420105, 0.013742632232606411, 0.0002020975371124223, 0.09741100668907166, 0.6746015548706055, 0.02647477574646473, 0.06325652450323105, 0.12408788502216339, 0.9983559846878052, 0.6110629439353943, 0.0010819692397490144, 0.03870120644569397, 0.11277448385953903, 0.2364518940448761, 0.9907438158988953, 0.954460620880127, 0.04406987130641937, 0.6694158911705017, 0.05842118337750435, 0.0700114443898201, 0.05231280252337456, 0.02866240404546261, 0.07251744717359543, 0.04855379834771156, 0.996256411075592, 0.9995197057723999, 0.04364030808210373, 0.7253057360649109, 0.10957719385623932, 0.12120190262794495, 0.0002858535444829613, 0.08887685835361481, 0.9106112122535706, 0.8549294471740723, 0.000524818548001349, 0.08152181655168533, 0.04198548570275307, 0.021167682483792305, 0.8456982970237732, 0.0257442407310009, 0.09031937271356583, 0.011155837215483189, 0.026816917583346367, 0.2859419286251068, 0.6802664399147034, 0.017657188698649406, 0.013126726262271404, 0.003020308678969741, 0.9977560639381409, 0.9986910820007324, 0.0007392236148007214, 0.7591142058372498, 0.009232469834387302, 0.0022568260319530964, 0.02154242992401123, 0.09971067309379578, 0.10812248289585114, 0.9989070296287537, 0.9951351284980774, 0.09696097671985626, 0.0001197049132315442, 0.421720415353775, 0.07601261883974075, 0.09636245667934418, 0.16064399480819702, 0.030644457787275314, 0.11755022406578064, 0.9993612170219421, 0.997093141078949, 0.9952215552330017, 0.8458884954452515, 0.1537816971540451, 0.00026760154287330806, 0.11495538800954819, 0.0008802097290754318, 0.5150987505912781, 0.14664293825626373, 0.00422500679269433, 0.2182920128107071, 0.9987668395042419, 0.5720621943473816, 0.42282307147979736, 0.005054668989032507, 0.0010793398832902312, 0.9152801632881165, 0.08202982693910599, 0.009308915585279465, 0.10643193870782852, 0.07757429778575897, 0.010860402137041092, 0.6572094559669495, 0.11729234457015991, 0.021720804274082184, 0.9980467557907104, 0.99729323387146, 0.9800649285316467, 0.011011965572834015, 0.008470742031931877, 0.9981060028076172, 0.9695401787757874, 0.029265575110912323, 0.9972469210624695, 0.672272801399231, 0.13942572474479675, 0.1638931930065155, 0.02407909370958805, 0.033539775758981705, 0.966161847114563, 0.033249836415052414, 0.25052952766418457, 0.055475663393735886, 0.5266631841659546, 0.030049316585063934, 0.10401687026023865, 0.9969611167907715, 0.9931209087371826, 0.1323958784341812, 0.25196075439453125, 0.15483219921588898, 0.050965599715709686, 0.08465594053268433, 0.23052795231342316, 0.03326025232672691, 0.061359431594610214, 0.010891394689679146, 0.9883940815925598, 0.994909405708313, 0.9974974393844604, 0.3188476860523224, 0.39387068152427673, 0.05159775912761688, 0.023969998583197594, 0.04677262902259827, 0.07401126623153687, 0.012140649370849133, 0.07868074625730515, 0.13560065627098083, 0.8642801642417908, 0.011699004098773003, 0.20792320370674133, 0.3574400246143341, 0.3682527542114258, 0.054595351219177246, 0.06974349915981293, 0.06698138266801834, 0.8628168702125549, 0.9992362856864929, 0.806181788444519, 0.03838960826396942, 0.05573875829577446, 0.028053944930434227, 0.0003691308666020632, 0.0025839160662144423, 0.041342657059431076, 0.027684813365340233, 0.9986571073532104, 0.0014145284658297896, 0.9989277720451355, 7.927718252176419e-05, 0.0022197612561285496, 0.027588460594415665, 0.1640244871377945, 0.0019026524387300014, 0.4135097861289978, 0.39059868454933167, 0.997782289981842, 0.999915361404419, 0.9974233508110046, 0.05047326534986496, 0.01162414625287056, 0.0009176957537420094, 0.016824422404170036, 0.9201429486274719, 0.9968962073326111, 0.9994149208068848, 0.0035939631052315235, 3.582023055059835e-05, 0.11360982805490494, 0.0010268465848639607, 0.8806642293930054, 2.38801530940691e-05, 0.0010387867223471403, 0.9971646070480347, 0.9967538118362427, 0.995812177658081, 0.809647798538208, 0.19004978239536285, 0.04563562944531441, 0.09474353492259979, 0.7524918913841248, 0.036706920713186264, 0.06398908793926239, 0.006448512896895409, 0.3096206486225128, 0.0015374592039734125, 0.04624204337596893, 0.10017137974500656, 0.05617639422416687, 0.11365371942520142, 0.31517913937568665, 0.05735905468463898, 0.9951515793800354, 0.9999150633811951, 0.0629572793841362, 0.0029979655519127846, 0.81045001745224, 0.00549627048894763, 0.11642099916934967, 0.0014989827759563923, 0.9945511817932129, 0.9999092221260071, 0.0038660594727844, 0.0027614710852503777, 0.993025004863739, 0.998060405254364, 0.026446787640452385, 0.9734123945236206, 0.8791213631629944, 0.12076405435800552, 0.1310357302427292, 0.8682121634483337, 0.000803900184109807, 0.1580469161272049, 0.23056639730930328, 0.2740780711174011, 0.24350933730602264, 0.009235664270818233, 0.0253655556589365, 0.03934913128614426, 0.01990220509469509, 0.997877299785614, 0.998645007610321, 0.9976697564125061, 0.0006812821957282722, 0.2518797516822815, 0.08243514597415924, 0.06326191872358322, 0.1745055615901947, 0.020049160346388817, 0.14404252171516418, 0.2633642256259918, 0.3769961893558502, 0.11091337352991104, 0.08004339784383774, 0.26225823163986206, 0.07029977440834045, 0.030596792697906494, 0.03551413491368294, 0.033419713377952576, 0.7602422833442688, 0.06862928718328476, 0.0068274615332484245, 0.04353615269064903, 0.033959973603487015, 0.08467826247215271, 0.00221670838072896, 0.4042867124080658, 0.4622190594673157, 0.057767052203416824, 0.007107248064130545, 0.017850762233138084, 0.006776678375899792, 0.002148702973499894, 0.041817065328359604, 0.001825367216952145, 0.9966505169868469, 0.024282116442918777, 0.25587454438209534, 0.17250128090381622, 0.13530611991882324, 0.2936311364173889, 0.017264163121581078, 0.025685707107186317, 0.07523245364427567, 0.9994682669639587, 0.9971743822097778, 0.17266982793807983, 0.820544421672821, 0.005804027896374464, 0.9953008890151978, 0.08529775589704514, 0.003815234871581197, 0.05450335517525673, 0.06949178129434586, 0.011990738101303577, 0.7044558525085449, 0.029976846650242805, 0.04033248499035835, 0.9984549880027771, 0.9975442886352539, 0.7051206827163696, 0.21303394436836243, 0.08158747106790543, 0.7317464351654053, 0.11364051699638367, 0.00014485725841950625, 0.0002897145168390125, 0.08727649599313736, 0.01977301575243473, 0.047078609466552734, 0.7276412844657898, 0.22535306215286255, 0.00019612973846960813, 0.023339437320828438, 0.023143308237195015, 0.9951736330986023, 0.999757707118988, 0.9987227320671082, 0.06693613529205322, 0.0019216116052120924, 0.11156022548675537, 0.1210615262389183, 0.016440454870462418, 0.5494741201400757, 0.08529820293188095, 0.047506507486104965, 0.9993250966072083, 0.0030063469894230366, 0.013528561219573021, 0.9830754399299622, 0.9965112805366516, 0.9556300640106201, 0.044113148003816605, 0.9998986721038818, 0.10691869258880615, 0.047863129526376724, 0.28110450506210327, 0.5639525055885315, 0.00016873018466867507, 0.1404915452003479, 0.5550270080566406, 0.1616293340921402, 0.010675650089979172, 0.012810779735445976, 0.11038621515035629, 0.0018148605013266206, 0.007259442005306482, 0.9966988563537598, 0.007965884171426296, 0.9213871955871582, 0.070365309715271, 0.9969440698623657, 0.9983336329460144, 9.628828411223367e-05, 0.0003851531364489347, 0.31515154242515564, 0.16494183242321014, 0.024746088311076164, 0.031197404488921165, 0.3329648971557617, 0.1304706186056137, 0.0178351029753685, 0.9178159236907959, 0.06426787376403809, 0.0663595199584961, 0.016400063410401344, 0.08480958640575409, 0.12459492683410645, 0.17941366136074066, 0.17121362686157227, 0.2655899226665497, 0.0915670245885849, 0.9917662739753723, 0.5747348666191101, 0.0022494515869766474, 0.0002499390684533864, 0.3892800807952881, 0.0008747866959311068, 0.032492078840732574, 0.0002499390684533864, 0.939151406288147, 0.011727177537977695, 0.00195452943444252, 0.01661350019276142, 0.03029520809650421, 0.27419793605804443, 0.20881527662277222, 0.052325621247291565, 0.06548010557889938, 0.20939992368221283, 0.057295091450214386, 0.08068084716796875, 0.05193585529923439, 0.17822480201721191, 0.32484671473503113, 0.07678336650133133, 0.08193346858024597, 0.08450852334499359, 0.057821620255708694, 0.024970199912786484, 0.17088980972766876, 0.05303801968693733, 0.02791474759578705, 0.015226226300001144, 0.8836286664009094, 0.01091212872415781, 0.008628195151686668, 0.0007613113266415894, 0.1135464683175087, 0.5986931324005127, 0.06974997371435165, 0.01678512990474701, 0.10684651881456375, 0.007052575703710318, 0.07941200584173203, 0.00796941015869379, 0.9970971941947937, 0.9971514344215393, 0.09274102002382278, 0.010420339182019234, 0.7226505279541016, 0.006252203602343798, 0.040639325976371765, 0.12712813913822174, 0.00033446811721660197, 0.008361702784895897, 0.01772681064903736, 0.8572418093681335, 0.04782894253730774, 0.0685659646987915, 0.9978959560394287, 0.5097817778587341, 0.000881403568200767, 0.020933333784341812, 0.18355229496955872, 0.00011017544602509588, 0.20668913424015045, 0.07800421118736267, 0.9717197418212891, 0.02813442423939705, 0.14185504615306854, 0.21010728180408478, 0.08443441987037659, 0.07321129739284515, 0.03406086936593056, 0.4563634693622589, 0.02031244896352291, 0.001231057452969253, 0.9780751466751099, 0.2701926827430725, 0.7282699942588806, 0.0013891655253246427, 0.15074080228805542, 0.38879233598709106, 0.07853246480226517, 0.0264291949570179, 0.3163008391857147, 0.0064185187220573425, 0.011326797306537628, 0.021426524966955185, 0.9993444681167603, 0.018840590491890907, 0.6597018837928772, 0.009842099621891975, 0.26995471119880676, 0.04133681580424309, 0.18316364288330078, 0.5950446128845215, 0.0012653792509809136, 0.22049233317375183, 0.9419689774513245, 0.03883477300405502, 0.018965817987918854, 0.9901489615440369, 0.007444728631526232, 0.750900387763977, 0.12778067588806152, 0.05583058297634125, 0.010830293409526348, 0.04961785674095154, 0.005037345923483372, 0.9994472861289978, 0.06129845604300499, 0.6849164366722107, 0.039823148399591446, 0.014803368598222733, 0.04065714031457901, 0.04795457422733307, 0.03857215866446495, 0.0719318613409996, 0.9990838766098022, 0.9980611801147461, 0.00046599472989328206, 0.999092698097229, 0.9996551871299744, 0.015233148820698261, 0.9844966530799866, 0.036106694489717484, 0.0339827686548233, 0.7230440974235535, 0.20662738382816315, 0.00030341758974827826, 0.9975488185882568, 0.9986264109611511, 0.6044819355010986, 0.29610615968704224, 0.02103358693420887, 0.020098760724067688, 0.009581967256963253, 0.022318974137306213, 0.025590864941477776, 0.0007011195993982255, 0.24877919256687164, 0.4455904960632324, 0.053104206919670105, 0.02052958682179451, 0.07408832013607025, 0.07363379001617432, 0.03749869018793106, 0.04674079269170761, 0.9973739981651306, 0.14315813779830933, 0.11665091663599014, 0.1628710925579071, 0.1346413791179657, 0.003923451527953148, 0.28067031502723694, 0.08574177324771881, 0.07234461605548859, 0.9954291582107544, 0.037795767188072205, 0.9358232021331787, 0.025701122358441353, 0.23064355552196503, 0.37694987654685974, 0.07258743792772293, 0.07545960694551468, 0.07537256926298141, 0.0571821928024292, 0.05648590996861458, 0.055267415940761566, 0.003458414925262332, 0.9960234761238098, 0.019347256049513817, 0.06574642658233643, 0.6348639130592346, 0.06386306881904602, 0.12481547892093658, 0.09142862260341644, 0.7712801694869995, 0.002598847495391965, 0.00519769499078393, 0.0009625360835343599, 0.20473143458366394, 0.014053027145564556, 0.0012512969551607966, 0.9955403208732605, 0.9937835335731506, 0.06733609735965729, 0.5260509252548218, 0.09715355187654495, 0.0595361702144146, 0.10436107963323593, 0.06970569491386414, 0.011453060433268547, 0.06437409669160843, 0.9990319013595581, 0.9986401200294495, 0.010958018712699413, 0.61061030626297, 0.11980153620243073, 0.04852836951613426, 0.06243308261036873, 0.05672386288642883, 0.029559025540947914, 0.06142015755176544, 0.004394593648612499, 0.11968805640935898, 0.1313208043575287, 0.12666770815849304, 0.06178281828761101, 0.07134751975536346, 0.4849563539028168, 0.09238024055957794, 0.8302956223487854, 0.06928518414497375, 0.00788611825555563, 0.9490928053855896, 0.04969072341918945, 0.1700298935174942, 0.25227877497673035, 0.19082540273666382, 0.09064706414937973, 0.06185328960418701, 0.024528028443455696, 0.06838521361351013, 0.14143607020378113, 0.11284206807613373, 0.030858851969242096, 0.039149291813373566, 0.007369277998805046, 0.7774588465690613, 0.020726094022393227, 0.010593337006866932, 0.00503578782081604, 0.9590378403663635, 0.03581004962325096, 0.0003719759697560221, 0.4973318576812744, 0.09348995983600616, 0.06447583436965942, 0.008431455120444298, 0.022070573642849922, 0.19280754029750824, 0.12101618200540543, 0.0016925325617194176, 0.27651751041412354, 0.15846335887908936, 0.0063469973392784595, 0.04273644834756851, 0.10430232435464859, 0.04167861491441727, 0.3683374226093292, 0.0017108524916693568, 0.0008554262458346784, 0.7202688455581665, 0.04049017280340195, 0.22440680861473083, 0.012261109426617622, 0.9994811415672302, 0.9981343746185303, 0.9947792887687683, 0.065967857837677, 0.782594621181488, 0.00017685753118712455, 0.0021222904324531555, 0.14909090101718903, 0.034223057329654694, 0.0057038431987166405, 0.03069210797548294, 0.008963181637227535, 0.0010864463401958346, 0.7015727162361145, 0.16676950454711914, 0.05106297507882118, 0.07551594078540802, 0.8975443840026855, 0.006917490623891354, 0.0028822876047343016, 0.016717268154025078, 0.042210329324007034, 0.2663412392139435, 0.10522856563329697, 0.5295910239219666, 0.0565975122153759, 0.9999656081199646, 0.05520357936620712, 0.006779387127608061, 0.9374923706054688, 0.001743263565003872, 0.9971467852592468, 0.5260757803916931, 0.22968265414237976, 0.0385928601026535, 0.02558155171573162, 0.035615697503089905, 0.10530337691307068, 0.011026531457901001, 0.028117654845118523, 0.282112717628479, 0.7175475358963013, 0.023824332281947136, 0.8664003610610962, 0.07885518670082092, 0.010402172803878784, 0.019462130963802338, 0.0010066619142889977, 0.030396878719329834, 0.029515810310840607, 0.3748948276042938, 0.09662389755249023, 0.4660854637622833, 0.0026432068552821875, 0.003354047192260623, 0.226286381483078, 0.08742883056402206, 0.05332934856414795, 0.3343985080718994, 0.14433583617210388, 0.02481994964182377, 0.1261121779680252, 0.998385488986969, 0.761080265045166, 0.0957295298576355, 0.00012194844748592004, 0.093534454703331, 0.00048779378994368017, 0.010365617461502552, 0.03865765780210495, 0.025178728625178337, 0.9744167923927307, 0.09852858632802963, 0.3348976671695709, 0.09562581032514572, 0.11088613420724869, 0.09537699818611145, 0.06875437498092651, 0.16297027468681335, 0.0329257994890213, 0.9989179968833923, 0.9965669512748718, 0.994294285774231, 0.997900664806366, 0.9991266131401062, 0.9991114735603333, 0.9250833988189697, 0.04730156064033508, 0.004392287693917751, 0.001013604924082756, 0.01858275569975376, 0.003378683002665639, 0.03758683428168297, 0.9611490368843079, 0.013122648932039738, 0.02114204503595829, 0.8963497877120972, 0.040461499243974686, 0.02879692241549492, 0.9996547102928162, 0.9960825443267822, 0.08432662487030029, 0.06041737645864487, 0.06800533831119537, 0.20745207369327545, 0.021904878318309784, 0.48691824078559875, 0.07086872309446335, 0.9513095617294312, 0.04704277962446213, 0.0013313693925738335, 0.0001479299389757216, 0.5295891761779785, 0.0760359838604927, 0.02159777097404003, 0.2285517454147339, 0.14290031790733337, 0.6486653089523315, 0.07964106649160385, 0.07778029143810272, 0.03572683408856392, 0.0703372061252594, 0.02958628349006176, 0.015630489215254784, 0.04242561385035515, 0.9665226340293884, 0.014150913804769516, 0.0001521603699075058, 0.016737639904022217, 0.002434565918520093, 0.1722700595855713, 0.1608353704214096, 0.17864347994327545, 0.43114376068115234, 0.03655349463224411, 0.008810329250991344, 0.01162213645875454, 0.9260433912277222, 0.024628814309835434, 0.015762440860271454, 0.005910915322601795, 0.005910915322601795, 0.021673355251550674, 0.7482839226722717, 0.00607150187715888, 0.04685366526246071, 0.05258149653673172, 0.06254792213439941, 0.01695438288152218, 0.06587006896734238, 0.0008018964435905218, 0.05509301647543907, 0.016142847016453743, 0.015106149949133396, 0.1289946734905243, 0.7844831347465515, 0.0016282744472846389, 0.9981322288513184, 0.9991887807846069, 0.9970967769622803, 0.560851514339447, 0.24014274775981903, 0.008243242278695107, 0.020063739269971848, 0.0937863141298294, 0.026907185092568398, 0.020841404795646667, 0.029395710676908493, 0.9862967729568481, 0.01140227448195219, 0.966053307056427, 0.031889140605926514, 0.999830424785614, 0.9987151026725769, 0.9961485862731934, 0.9975239038467407, 0.9974286556243896, 0.09429334104061127, 0.2076195925474167, 0.16593483090400696, 0.09797929227352142, 0.013001356273889542, 0.24521629512310028, 0.14804121851921082, 0.027946213260293007, 0.999639093875885, 0.995577871799469, 0.0533490814268589, 0.8899596929550171, 0.05577404052019119, 0.9969390630722046, 0.003032843815162778, 0.8997724652290344, 0.09973554313182831, 0.9993115067481995, 0.999747633934021, 0.12614257633686066, 0.003887956263497472, 0.6121371388435364, 0.003887956263497472, 0.08337506651878357, 0.17020608484745026, 0.9947289824485779, 0.9695603251457214, 0.029961692169308662, 0.06247352436184883, 0.16769209504127502, 0.06210818514227867, 0.1210196241736412, 0.09800305962562561, 0.13033585250377655, 0.28414493799209595, 0.07434714585542679, 0.9997239112854004, 0.9996867179870605, 0.9980262517929077, 0.924944281578064, 0.013616424985229969, 0.01556162815541029, 0.04571228474378586, 0.8471222519874573, 0.1145479828119278, 0.005327812861651182, 0.009057282470166683, 0.023975158110260963, 0.9989827871322632, 0.42520672082901, 0.009940380230545998, 0.03966861963272095, 0.10209792107343674, 0.06131449341773987, 0.09002082794904709, 0.1599750965833664, 0.11157380044460297, 0.8006168603897095, 0.1987142562866211, 0.9990656971931458, 0.12071718275547028, 0.4779535233974457, 0.2347496896982193, 0.16633018851280212, 0.2512722313404083, 0.18491576611995697, 0.5005224943161011, 0.06304781883955002, 0.9995905160903931, 0.3700858950614929, 0.19084540009498596, 0.0941944420337677, 0.05057021975517273, 0.09046732634305954, 0.08911201357841492, 0.03345935791730881, 0.08123423904180527, 0.9647165536880493, 0.01647251844406128, 0.01647251844406128, 0.002148589352145791, 0.0551079697906971, 0.9441832304000854, 0.05350719764828682, 0.15373899042606354, 0.12158443033695221, 0.06883085519075394, 0.046222180128097534, 0.0012560375034809113, 0.5526564717292786, 0.002009660005569458, 0.9939272999763489, 0.0028479292523115873, 0.9987221956253052, 0.9967163801193237, 0.997931182384491, 0.9963632225990295, 0.9969271421432495, 0.04055960476398468, 0.9586815237998962, 0.11603687703609467, 0.8152283430099487, 0.0057424395345151424, 0.0035642727743834257, 0.0592065304517746, 0.9982129335403442, 0.006939135026186705, 0.030754931271076202, 0.08695335686206818, 0.6209240555763245, 0.019104037433862686, 0.07470278441905975, 0.16054245829582214, 0.032329291105270386, 0.04618470370769501, 0.02578645944595337, 0.7401098608970642, 0.050418298691511154, 0.09621813148260117, 0.001154617522843182, 0.007697450462728739, 0.9913198351860046, 0.9969976544380188, 0.9992850422859192, 0.998875081539154, 0.016240812838077545, 0.7371114492416382, 0.0007382187759503722, 0.003691093996167183, 0.13804692029953003, 0.03580361232161522, 0.06828524172306061, 0.9983032941818237, 0.9894556403160095, 0.45597195625305176, 0.28488630056381226, 0.044032543897628784, 0.03146403282880783, 0.12534312903881073, 0.007267507258802652, 0.019323019310832024, 0.03172053396701813, 0.8934476971626282, 0.009872350841760635, 0.09625541418790817, 0.00042923263390548527, 0.9847126603126526, 0.014791821129620075, 0.0033279384952038527, 0.9957191944122314, 0.000665587664116174, 0.15357859432697296, 0.04313164949417114, 0.07678929716348648, 0.000747947720810771, 0.026676801964640617, 0.6654241681098938, 0.0339069627225399, 0.9948589205741882, 0.0020563602447509766, 0.12543797492980957, 0.1233816146850586, 0.14853248000144958, 0.0007909077685326338, 0.5996662974357605, 0.9957566857337952, 0.02618563361465931, 0.336900532245636, 0.026504971086978912, 0.03161436319351196, 0.5786386728286743, 0.9927502274513245, 0.9957239627838135, 0.003003692254424095, 0.9422809481620789, 0.02439146861433983, 0.010270092636346817, 0.023107707500457764, 0.3771369755268097, 0.05095702409744263, 0.08926644176244736, 0.048757441341876984, 0.16561032831668854, 0.09998941421508789, 0.16817650198936462, 0.11380832642316818, 0.06212281435728073, 0.2264476865530014, 0.2159268856048584, 0.10094957053661346, 0.09468719363212585, 0.09861161559820175, 0.08742283284664154, 0.10460855811834335, 0.01344132237136364, 0.019285375252366066, 0.01461013313382864, 0.07305067032575607, 0.7743370532989502, 0.9987766146659851, 0.8681750297546387, 0.08573827892541885, 0.04556719586253166, 0.9995704889297485, 0.9970941543579102, 0.2969782054424286, 0.37883755564689636, 0.042833391577005386, 0.022368550300598145, 0.0994686558842659, 0.15959404408931732, 0.051779717206954956, 0.00022710402845405042, 0.1842949092388153, 0.45364028215408325, 0.023845922201871872, 0.0961785539984703, 0.18997251987457275, 0.9979169368743896, 0.0341937392950058, 0.694549024105072, 0.25636258721351624, 0.014835379086434841, 0.9989351630210876], \"Term\": [\"abattoir\", \"accommod\", \"accommod\", \"accommod\", \"accommod\", \"accommod\", \"accommod\", \"accommod\", \"account\", \"account\", \"account\", \"account\", \"account\", \"account\", \"account\", \"account\", \"achiev\", \"achiev\", \"achiev\", \"achiev\", \"achiev\", \"achiev\", \"achiev\", \"achiev\", \"act\", \"act\", \"act\", \"act\", \"act\", \"act\", \"act\", \"action\", \"action\", \"action\", \"action\", \"action\", \"action\", \"action\", \"action\", \"addict\", \"addict\", \"adopt\", \"adopt\", \"adopt\", \"adopt\", \"adopt\", \"adopt\", \"adopt\", \"adopt\", \"afghan\", \"afghanistan\", \"age\", \"age\", \"age\", \"age\", \"age\", \"age\", \"aggreg\", \"aggreg\", \"agreement\", \"agreement\", \"agreement\", \"agreement\", \"agreement\", \"agreement\", \"agreement\", \"agreement\", \"agricultur\", \"agricultur\", \"agricultur\", \"agricultur\", \"agricultur\", \"aircraft\", \"alcohol\", \"alcohol\", \"allow\", \"allow\", \"allow\", \"allow\", \"allow\", \"allow\", \"allow\", \"allow\", \"amend\", \"amend\", \"amnesti\", \"anim\", \"annuiti\", \"answer\", \"answer\", \"answer\", \"answer\", \"answer\", \"answer\", \"answer\", \"answer\", \"antisoci\", \"appeal\", \"appeal\", \"appeal\", \"appeal\", \"appeal\", \"appeal\", \"appeal\", \"appli\", \"appli\", \"appli\", \"appli\", \"appli\", \"appli\", \"appli\", \"appli\", \"area\", \"area\", \"area\", \"area\", \"area\", \"area\", \"area\", \"area\", \"arm\", \"arm\", \"arm\", \"arrog\", \"arrog\", \"art\", \"art\", \"art\", \"asbesto\", \"asylum\", \"athlet\", \"attorney\", \"attorney\", \"attorney\", \"auditor\", \"auditor\", \"auld\", \"author\", \"author\", \"author\", \"author\", \"b\", \"b\", \"b\", \"b\", \"b\", \"b\", \"b\", \"back\", \"back\", \"back\", \"back\", \"back\", \"back\", \"back\", \"back\", \"ballist\", \"ballot\", \"ballot\", \"ballot\", \"barnett\", \"bed\", \"bed\", \"belfast\", \"bench\", \"bench\", \"bench\", \"bench\", \"bench\", \"bencher\", \"bencher\", \"benefit\", \"benefit\", \"benefit\", \"benefit\", \"benefit\", \"benefit\", \"benefit\", \"benefit\", \"bennett\", \"berkshir\", \"billion\", \"billion\", \"billion\", \"bishop\", \"bishop\", \"bodi\", \"bodi\", \"bodi\", \"bodi\", \"bodi\", \"bodi\", \"bodi\", \"borough\", \"borough\", \"britain\", \"britain\", \"britain\", \"britain\", \"britain\", \"britain\", \"britain\", \"british\", \"british\", \"british\", \"british\", \"british\", \"british\", \"bse\", \"budget\", \"budget\", \"budget\", \"burden\", \"burden\", \"burden\", \"burden\", \"burden\", \"burden\", \"burden\", \"burglari\", \"busi\", \"busi\", \"busi\", \"busi\", \"busi\", \"busi\", \"c\", \"c\", \"c\", \"c\", \"c\", \"c\", \"c\", \"c\", \"camborn\", \"canal\", \"cancer\", \"cancer\", \"candid\", \"candid\", \"cannabi\", \"carbon\", \"care\", \"care\", \"care\", \"care\", \"care\", \"care\", \"care\", \"care\", \"carer\", \"carer\", \"cattl\", \"cell\", \"cell\", \"cent\", \"cent\", \"cent\", \"cent\", \"cent\", \"chamber\", \"chamber\", \"chamber\", \"chamber\", \"chamber\", \"chamber\", \"chamber\", \"championship\", \"chancellor\", \"chancellor\", \"chancellor\", \"chastelain\", \"child\", \"child\", \"child\", \"cigarett\", \"citi\", \"citi\", \"citi\", \"citi\", \"citi\", \"civilian\", \"claim\", \"claim\", \"claim\", \"claim\", \"claim\", \"claim\", \"claim\", \"claim\", \"claimant\", \"claimant\", \"classroom\", \"claus\", \"clear\", \"clear\", \"clear\", \"clear\", \"clear\", \"clear\", \"clear\", \"clear\", \"cleethorp\", \"clergi\", \"clinic\", \"clinic\", \"cod\", \"code\", \"code\", \"code\", \"code\", \"colleg\", \"colleg\", \"colleg\", \"commiss\", \"commiss\", \"commiss\", \"commiss\", \"commiss\", \"commiss\", \"commiss\", \"commiss\", \"commission\", \"commission\", \"commission\", \"commonhold\", \"commonhold\", \"commun\", \"commun\", \"commun\", \"commun\", \"commun\", \"commun\", \"commun\", \"commun\", \"compani\", \"compani\", \"compani\", \"compani\", \"compani\", \"compens\", \"compens\", \"compens\", \"constabl\", \"constabl\", \"constabl\", \"consult\", \"consult\", \"consult\", \"consult\", \"consult\", \"consult\", \"consult\", \"consult\", \"continu\", \"continu\", \"continu\", \"continu\", \"continu\", \"continu\", \"continu\", \"continu\", \"control\", \"control\", \"control\", \"control\", \"control\", \"control\", \"control\", \"control\", \"corbi\", \"coru\", \"cost\", \"cost\", \"cost\", \"cost\", \"cost\", \"cost\", \"council\", \"council\", \"council\", \"council\", \"council\", \"council\", \"council\", \"council\", \"counti\", \"counti\", \"counti\", \"court\", \"court\", \"court\", \"coven\", \"cp\", \"credit\", \"credit\", \"credit\", \"credit\", \"credit\", \"credit\", \"credit\", \"creditor\", \"crime\", \"crime\", \"crime\", \"crime\", \"crimin\", \"crimin\", \"crimin\", \"crisi\", \"crisi\", \"crisi\", \"crisi\", \"crisi\", \"cull\", \"curfew\", \"curriculum\", \"cut\", \"cut\", \"cut\", \"cut\", \"cut\", \"cut\", \"cut\", \"cut\", \"cypru\", \"day\", \"day\", \"day\", \"day\", \"day\", \"day\", \"day\", \"day\", \"decis\", \"decis\", \"decis\", \"decis\", \"decis\", \"decis\", \"decis\", \"decis\", \"decommiss\", \"deduct\", \"defenc\", \"defenc\", \"defenc\", \"defenc\", \"definit\", \"definit\", \"definit\", \"definit\", \"definit\", \"definit\", \"definit\", \"definit\", \"democrat\", \"democrat\", \"democrat\", \"democrat\", \"democrat\", \"democrat\", \"dental\", \"denton\", \"depart\", \"depart\", \"depart\", \"depart\", \"depart\", \"depart\", \"depart\", \"deploy\", \"deploy\", \"deploy\", \"deploy\", \"deputi\", \"deputi\", \"deputi\", \"deputi\", \"deputi\", \"develop\", \"develop\", \"develop\", \"develop\", \"develop\", \"develop\", \"develop\", \"develop\", \"diesel\", \"digit\", \"dioxid\", \"disclos\", \"disclosur\", \"diseas\", \"diseas\", \"district\", \"district\", \"doctor\", \"doctor\", \"doctor\", \"doctor\", \"dome\", \"dome\", \"draft\", \"draft\", \"draft\", \"draft\", \"draftsman\", \"driver\", \"driver\", \"driver\", \"driver\", \"drug\", \"drug\", \"dunwoodi\", \"earn\", \"earn\", \"earner\", \"echr\", \"educ\", \"educ\", \"educ\", \"effect\", \"effect\", \"effect\", \"effect\", \"effect\", \"effect\", \"effect\", \"effect\", \"elect\", \"elect\", \"elect\", \"elect\", \"elect\", \"elector\", \"elector\", \"elector\", \"embryo\", \"embryolog\", \"embryolog\", \"emiss\", \"employ\", \"employ\", \"employ\", \"employ\", \"employ\", \"energi\", \"energi\", \"energi\", \"energi\", \"energi\", \"enlarg\", \"eu\", \"eu\", \"europ\", \"europ\", \"europ\", \"europ\", \"european\", \"european\", \"european\", \"european\", \"european\", \"eurozon\", \"export\", \"export\", \"export\", \"export\", \"extra\", \"extra\", \"extra\", \"extra\", \"extra\", \"extra\", \"extra\", \"fa\", \"falmouth\", \"famili\", \"famili\", \"famili\", \"famili\", \"famili\", \"famili\", \"famili\", \"farm\", \"farm\", \"farmer\", \"fe\", \"fein\", \"figur\", \"figur\", \"figur\", \"figur\", \"figur\", \"figur\", \"figur\", \"fisher\", \"fisheri\", \"fisheri\", \"flood\", \"flood\", \"food\", \"foot\", \"foot\", \"foot\", \"foot\", \"foot\", \"foot\", \"foot\", \"foot\", \"forc\", \"forc\", \"forc\", \"forc\", \"forc\", \"forc\", \"forc\", \"forc\", \"foreign\", \"foreign\", \"foreign\", \"foxhunt\", \"fraud\", \"fraud\", \"fraud\", \"freight\", \"fridg\", \"front\", \"front\", \"front\", \"front\", \"front\", \"front\", \"front\", \"front\", \"fsa\", \"fsa\", \"fund\", \"fund\", \"fund\", \"fund\", \"fund\", \"futur\", \"futur\", \"futur\", \"futur\", \"futur\", \"futur\", \"futur\", \"futur\", \"gcse\", \"gdp\", \"gibraltar\", \"gilt\", \"gorton\", \"gp\", \"gp\", \"grammar\", \"grantham\", \"great\", \"great\", \"great\", \"great\", \"great\", \"great\", \"great\", \"great\", \"greenfield\", \"growth\", \"growth\", \"growth\", \"growth\", \"guillotin\", \"hare\", \"hatfield\", \"hatr\", \"hatr\", \"havant\", \"health\", \"health\", \"health\", \"helena\", \"help\", \"help\", \"help\", \"help\", \"help\", \"help\", \"help\", \"help\", \"hereditari\", \"hmo\", \"hogg\", \"home\", \"home\", \"home\", \"home\", \"home\", \"home\", \"home\", \"homeless\", \"hospic\", \"hospit\", \"hospit\", \"hound\", \"hour\", \"hour\", \"hour\", \"hour\", \"hour\", \"hour\", \"hour\", \"humanitarian\", \"ila\", \"improv\", \"improv\", \"improv\", \"improv\", \"improv\", \"improv\", \"improv\", \"improv\", \"includ\", \"includ\", \"includ\", \"includ\", \"includ\", \"includ\", \"includ\", \"includ\", \"incom\", \"increas\", \"increas\", \"increas\", \"increas\", \"increas\", \"increas\", \"increas\", \"individu\", \"individu\", \"individu\", \"individu\", \"individu\", \"individu\", \"individu\", \"individu\", \"industri\", \"industri\", \"industri\", \"industri\", \"industri\", \"industri\", \"infect\", \"infect\", \"infect\", \"inform\", \"inform\", \"inform\", \"inform\", \"inform\", \"inform\", \"inform\", \"information\\u00e2\", \"inland\", \"inland\", \"insert\", \"insert\", \"insert\\u00e2\", \"insur\", \"insur\", \"insur\", \"intern\", \"intern\", \"intern\", \"intern\", \"intern\", \"introduc\", \"introduc\", \"introduc\", \"introduc\", \"introduc\", \"introduc\", \"introduc\", \"introduc\", \"invest\", \"invest\", \"invest\", \"invest\", \"investig\", \"investig\", \"investig\", \"investig\", \"investig\", \"investig\", \"ira\", \"iran\", \"iraq\", \"ireland\", \"irish\", \"islam\", \"isra\", \"israel\", \"jewish\", \"jo\", \"job\", \"job\", \"job\", \"job\", \"job\", \"job\", \"job\", \"job\", \"jobcentr\", \"judic\", \"judici\", \"judici\", \"kemptown\", \"kent\", \"kiley\", \"kingdom\", \"kingdom\", \"kingdom\", \"kingdom\", \"kingdom\", \"kingdom\", \"kingdom\", \"kosovo\", \"labour\", \"labour\", \"labour\", \"labour\", \"labour\", \"lacuna\", \"laden\", \"laden\", \"ladi\", \"ladi\", \"ladi\", \"ladi\", \"ladi\", \"ladi\", \"ladi\", \"lancast\", \"landlord\", \"law\", \"law\", \"law\", \"law\", \"law\", \"lawyer\", \"lawyer\", \"leader\", \"leader\", \"leader\", \"leader\", \"leader\", \"legal\", \"legal\", \"legal\", \"legal\", \"legal\", \"legisl\", \"legisl\", \"legisl\", \"legisl\", \"legisl\", \"leon\", \"levi\", \"levi\", \"liber\", \"liber\", \"liber\", \"liber\", \"liber\", \"liber\", \"literaci\", \"litig\", \"live\", \"live\", \"live\", \"live\", \"live\", \"live\", \"live\", \"live\", \"livestock\", \"llanelli\", \"llp\", \"local\", \"local\", \"local\", \"london\", \"london\", \"london\", \"london\", \"london\", \"london\", \"loophol\", \"lord\", \"lord\", \"lord\", \"lotteri\", \"lotteri\", \"lotteri\", \"low\", \"low\", \"low\", \"low\", \"low\", \"low\", \"low\", \"loyalist\", \"lpg\", \"madam\", \"madam\", \"madam\", \"maff\", \"magistr\", \"magistr\", \"maidenhead\", \"manufactur\", \"manufactur\", \"manufactur\", \"manufactur\", \"marin\", \"marin\", \"market\", \"market\", \"market\", \"market\", \"market\", \"market\", \"mast\", \"maxwel\", \"measur\", \"measur\", \"measur\", \"measur\", \"measur\", \"measur\", \"measur\", \"measur\", \"meat\", \"meat\", \"mesh\", \"metropolitan\", \"might\", \"might\", \"might\", \"might\", \"might\", \"might\", \"might\", \"might\", \"militari\", \"militari\", \"million\", \"million\", \"million\", \"million\", \"million\", \"minimum\", \"minimum\", \"minimum\", \"ministri\", \"minut\", \"minut\", \"minut\", \"minut\", \"minut\", \"minut\", \"minut\", \"minut\", \"missil\", \"missil\", \"mod\", \"money\", \"money\", \"money\", \"money\", \"money\", \"money\", \"money\", \"mortgag\", \"motion\", \"motorway\", \"mouth\", \"mouth\", \"mouth\", \"mouth\", \"mouth\", \"museum\", \"muslim\", \"n\", \"n\", \"n\", \"n\", \"n\", \"n\", \"n\", \"nantwich\", \"nao\", \"nat\", \"nato\", \"nato\", \"negoti\", \"negoti\", \"negoti\", \"negoti\", \"negoti\", \"negoti\", \"next\", \"next\", \"next\", \"next\", \"next\", \"next\", \"next\", \"next\", \"ngo\", \"nh\", \"nice\", \"nice\", \"nice\", \"nice\", \"nice\", \"nice\", \"northavon\", \"northern\", \"nuclear\", \"nuclear\", \"nuclear\", \"numeraci\", \"nurs\", \"nurs\", \"offenc\", \"offenc\", \"offend\", \"offend\", \"offend\", \"offic\", \"offic\", \"offic\", \"offic\", \"offic\", \"offic\", \"offic\", \"offic\", \"ofst\", \"olymp\", \"ombudsman\", \"oper\", \"oper\", \"oper\", \"oper\", \"oper\", \"oper\", \"oper\", \"oper\", \"opportun\", \"opportun\", \"opportun\", \"opportun\", \"opportun\", \"opportun\", \"opportun\", \"opportun\", \"opposit\", \"opposit\", \"opposit\", \"opposit\", \"opposit\", \"opposit\", \"opposit\", \"order\", \"order\", \"order\", \"order\", \"order\", \"order\", \"order\", \"order\", \"organ\", \"organ\", \"organis\", \"organis\", \"organis\", \"organis\", \"organis\", \"organis\", \"organis\", \"organis\", \"outbreak\", \"oxfordshir\", \"p\", \"p\", \"p\", \"packet\", \"paid\", \"paid\", \"paid\", \"paid\", \"paid\", \"paid\", \"paid\", \"paid\", \"palestinian\", \"paramilitari\", \"parent\", \"parent\", \"parent\", \"parliament\", \"parliament\", \"parliament\", \"parliament\", \"parliament\", \"parliament\", \"parliament\", \"parliamentari\", \"parliamentari\", \"parliamentari\", \"parliamentari\", \"parliamentari\", \"patern\", \"patient\", \"patronag\", \"pay\", \"pay\", \"pay\", \"pay\", \"pay\", \"pay\", \"pay\", \"pay\", \"paymast\", \"payment\", \"payment\", \"payment\", \"pct\", \"peac\", \"peac\", \"pension\", \"per\", \"per\", \"per\", \"per\", \"per\", \"person\", \"person\", \"person\", \"person\", \"person\", \"person\", \"person\", \"person\", \"petition\", \"petrol\", \"petrol\", \"petrol\", \"pfi\", \"pig\", \"plan\", \"plan\", \"plan\", \"plan\", \"plan\", \"plan\", \"plan\", \"plan\", \"polic\", \"polic\", \"polic\", \"polici\", \"polici\", \"polici\", \"polici\", \"polici\", \"polici\", \"polici\", \"polici\", \"policyhold\", \"polit\", \"polit\", \"polit\", \"polit\", \"polit\", \"polit\", \"polit\", \"poll\", \"poll\", \"poll\", \"poll\", \"poll\", \"posit\", \"posit\", \"posit\", \"posit\", \"posit\", \"posit\", \"posit\", \"posit\", \"possibl\", \"possibl\", \"possibl\", \"possibl\", \"possibl\", \"possibl\", \"possibl\", \"possibl\", \"post\", \"post\", \"post\", \"post\", \"post\", \"post\", \"post\", \"power\", \"power\", \"power\", \"power\", \"power\", \"power\", \"power\", \"power\", \"ppp\", \"predominantli\", \"presid\", \"presid\", \"presid\", \"presid\", \"presid\", \"presid\", \"price\", \"price\", \"price\", \"price\", \"price\", \"price\", \"priest\", \"prime\", \"prime\", \"prime\", \"prime\", \"prime\", \"prime\", \"prime\", \"prison\", \"prison\", \"privat\", \"privat\", \"privat\", \"privat\", \"privat\", \"privat\", \"privatis\", \"privatis\", \"privatis\", \"procedur\", \"procedur\", \"procedur\", \"process\", \"process\", \"process\", \"process\", \"process\", \"process\", \"process\", \"process\", \"program\", \"project\", \"project\", \"project\", \"project\", \"project\", \"properti\", \"properti\", \"properti\", \"properti\", \"prosecut\", \"prosecut\", \"prosecut\", \"prosecutor\", \"prosecutor\", \"provis\", \"provis\", \"provis\", \"provis\", \"provis\", \"provis\", \"pupil\", \"purpos\", \"purpos\", \"purpos\", \"purpos\", \"purpos\", \"purpos\", \"purpos\", \"purpos\", \"qmv\", \"quorum\", \"rail\", \"rail\", \"railtrack\", \"railway\", \"railway\", \"rate\", \"rate\", \"rate\", \"rate\", \"rate\", \"rateabl\", \"ratifi\", \"read\", \"read\", \"read\", \"read\", \"read\", \"read\", \"read\", \"read\", \"reason\", \"reason\", \"reason\", \"reason\", \"reason\", \"reason\", \"reason\", \"reason\", \"rebat\", \"receiv\", \"receiv\", \"receiv\", \"receiv\", \"receiv\", \"receiv\", \"receiv\", \"receiv\", \"reddish\", \"redund\", \"redund\", \"redund\", \"refer\", \"refer\", \"refer\", \"refer\", \"refer\", \"refer\", \"refer\", \"refer\", \"regener\", \"regener\", \"region\", \"region\", \"region\", \"region\", \"region\", \"region\", \"regul\", \"regul\", \"regul\", \"regul\", \"regul\", \"regul\", \"regul\", \"rehabilit\", \"reigat\", \"relat\", \"relat\", \"relat\", \"relat\", \"relat\", \"relat\", \"relat\", \"relat\", \"republ\", \"republican\", \"requir\", \"requir\", \"requir\", \"requir\", \"requir\", \"requir\", \"requir\", \"requir\", \"research\", \"research\", \"research\", \"research\", \"research\", \"research\", \"research\", \"resid\", \"resid\", \"resid\", \"resid\", \"residenti\", \"residenti\", \"respons\", \"respons\", \"respons\", \"respons\", \"respons\", \"respons\", \"respons\", \"respons\", \"retir\", \"retir\", \"retir\", \"retir\", \"retir\", \"retir\", \"retir\", \"revenu\", \"revenu\", \"revenu\", \"review\", \"review\", \"review\", \"review\", \"review\", \"review\", \"review\", \"review\", \"risk\", \"risk\", \"risk\", \"risk\", \"risk\", \"risk\", \"risk\", \"risk\", \"road\", \"road\", \"road\", \"road\", \"road\", \"road\", \"rose\\u00e2\", \"ruc\", \"rugbi\", \"rural\", \"rural\", \"rural\", \"rural\", \"rural\", \"save\", \"save\", \"save\", \"save\", \"save\", \"save\", \"save\", \"save\", \"schedul\", \"schedul\", \"schedul\", \"schedul\", \"schedul\", \"scheme\", \"scheme\", \"scheme\", \"scheme\", \"scheme\", \"school\", \"scientif\", \"scientif\", \"scientif\", \"scientist\", \"scientist\", \"second\", \"second\", \"second\", \"second\", \"second\", \"second\", \"second\", \"second\", \"secondari\", \"secondari\", \"section\", \"section\", \"section\", \"section\", \"section\", \"section\", \"sector\", \"sector\", \"sector\", \"sector\", \"sector\", \"sector\", \"secur\", \"secur\", \"secur\", \"secur\", \"secur\", \"secur\", \"secur\", \"secur\", \"seeker\", \"select\", \"select\", \"select\", \"select\", \"select\", \"select\", \"select\", \"seller\", \"seller\", \"set\", \"set\", \"set\", \"set\", \"set\", \"set\", \"set\", \"set\", \"sheep\", \"shepherd\", \"shire\", \"siac\", \"sierra\", \"sinn\", \"sit\", \"sit\", \"sit\", \"sit\", \"sit\", \"sit\", \"sixth\", \"sixth\", \"skill\", \"skill\", \"skill\", \"skill\", \"skill\", \"slaughter\", \"sleeper\", \"small\", \"small\", \"small\", \"small\", \"small\", \"small\", \"small\", \"smuggl\", \"smuggl\", \"social\", \"social\", \"social\", \"social\", \"social\", \"social\", \"social\", \"speak\", \"speak\", \"speak\", \"speak\", \"speak\", \"speak\", \"speak\", \"speak\", \"speaker\", \"speaker\", \"speaker\", \"speaker\", \"speaker\", \"special\", \"special\", \"special\", \"special\", \"special\", \"special\", \"special\", \"specifi\", \"specifi\", \"specifi\", \"specifi\", \"specifi\", \"specifi\", \"speech\", \"speech\", \"speech\", \"speech\", \"speech\", \"speech\", \"speech\", \"speech\", \"spend\", \"spend\", \"spend\", \"spend\", \"spend\", \"sport\", \"sport\", \"stadium\", \"stamford\", \"stand\", \"stand\", \"stand\", \"stand\", \"stand\", \"stand\", \"stand\", \"stand\", \"stealth\", \"stealth\", \"steel\", \"steel\", \"student\", \"subsect\", \"subsidiar\", \"sulphur\", \"sunset\", \"system\", \"system\", \"system\", \"system\", \"system\", \"system\", \"system\", \"system\", \"taliban\", \"taper\", \"taskforc\", \"taskforc\", \"taskforc\", \"tax\", \"tax\", \"taxat\", \"taxat\", \"teach\", \"teacher\", \"technolog\", \"technolog\", \"technolog\", \"technolog\", \"technolog\", \"technolog\", \"teenag\", \"tenant\", \"tenant\", \"term\", \"term\", \"term\", \"term\", \"term\", \"term\", \"term\", \"term\", \"terror\", \"terrorist\", \"therapeut\", \"thursday\", \"thursday\", \"thursday\", \"thursday\", \"timet\", \"timet\", \"timet\", \"timet\", \"timet\", \"tobacco\", \"today\", \"today\", \"today\", \"today\", \"today\", \"today\", \"today\", \"today\", \"tourism\", \"tourism\", \"tourist\", \"train\", \"train\", \"train\", \"train\", \"transport\", \"transport\", \"transport\", \"transport\", \"treati\", \"tri\", \"tri\", \"tri\", \"tri\", \"tri\", \"tri\", \"tri\", \"tri\", \"tribun\", \"tribun\", \"tribun\", \"tribun\", \"troop\", \"troop\", \"trust\", \"trust\", \"trust\", \"trust\", \"trust\", \"trust\", \"trust\", \"trust\", \"tube\", \"tube\", \"tuition\", \"turkey\", \"turnout\", \"tyler\", \"ulster\", \"underground\", \"underground\", \"union\", \"union\", \"union\", \"union\", \"union\", \"unionist\", \"unit\", \"unit\", \"unit\", \"unit\", \"unit\", \"unit\", \"unit\", \"univers\", \"univers\", \"univers\", \"univers\", \"univers\", \"univers\", \"univers\", \"univers\", \"unregul\", \"uprat\", \"vaccin\", \"vat\", \"vehicl\", \"vehicl\", \"vehicl\", \"vehicl\", \"vehicl\", \"vehicl\", \"vehicl\", \"veterinari\", \"vexati\", \"view\", \"view\", \"view\", \"view\", \"view\", \"view\", \"view\", \"view\", \"vote\", \"vote\", \"vote\", \"vote\", \"voter\", \"voter\", \"wage\", \"wage\", \"wage\", \"wait\", \"wait\", \"wait\", \"wait\", \"wait\", \"wait\", \"wait\", \"wakeham\", \"wale\", \"wale\", \"wale\", \"wale\", \"wale\", \"wale\", \"wanless\", \"war\", \"war\", \"war\", \"war\", \"war\", \"warden\", \"warrant\", \"warrant\", \"wednesday\", \"wednesday\", \"wednesday\", \"wednesday\", \"week\", \"week\", \"week\", \"week\", \"week\", \"week\", \"week\", \"welcom\", \"welcom\", \"welcom\", \"welcom\", \"welcom\", \"welcom\", \"welcom\", \"welcom\", \"welsh\", \"welsh\", \"welsh\", \"welsh\", \"welsh\", \"welsh\", \"wembley\", \"westminst\", \"westminst\", \"westminst\", \"whip\", \"windfal\", \"woman\", \"woman\", \"woman\", \"woman\", \"woman\", \"woman\", \"world\", \"world\", \"world\", \"world\", \"world\", \"world\", \"world\", \"wyre\", \"young\", \"young\", \"young\", \"young\", \"zimbabw\"]}, \"R\": 30, \"lambda.step\": 0.01, \"plot.opts\": {\"xlab\": \"PC1\", \"ylab\": \"PC2\"}, \"topic.order\": [7, 1, 6, 4, 3, 8, 5, 2]};\n",
       "\n",
       "function LDAvis_load_lib(url, callback){\n",
       "  var s = document.createElement('script');\n",
       "  s.src = url;\n",
       "  s.async = true;\n",
       "  s.onreadystatechange = s.onload = callback;\n",
       "  s.onerror = function(){console.warn(\"failed to load library \" + url);};\n",
       "  document.getElementsByTagName(\"head\")[0].appendChild(s);\n",
       "}\n",
       "\n",
       "if(typeof(LDAvis) !== \"undefined\"){\n",
       "   // already loaded: just create the visualization\n",
       "   !function(LDAvis){\n",
       "       new LDAvis(\"#\" + \"ldavis_el1548820982774741209413702071\", ldavis_el1548820982774741209413702071_data);\n",
       "   }(LDAvis);\n",
       "}else if(typeof define === \"function\" && define.amd){\n",
       "   // require.js is available: use it to load d3/LDAvis\n",
       "   require.config({paths: {d3: \"https://cdnjs.cloudflare.com/ajax/libs/d3/3.5.5/d3.min\"}});\n",
       "   require([\"d3\"], function(d3){\n",
       "      window.d3 = d3;\n",
       "      LDAvis_load_lib(\"https://cdn.rawgit.com/bmabey/pyLDAvis/files/ldavis.v1.0.0.js\", function(){\n",
       "        new LDAvis(\"#\" + \"ldavis_el1548820982774741209413702071\", ldavis_el1548820982774741209413702071_data);\n",
       "      });\n",
       "    });\n",
       "}else{\n",
       "    // require.js not available: dynamically load d3 & LDAvis\n",
       "    LDAvis_load_lib(\"https://cdnjs.cloudflare.com/ajax/libs/d3/3.5.5/d3.min.js\", function(){\n",
       "         LDAvis_load_lib(\"https://cdn.rawgit.com/bmabey/pyLDAvis/files/ldavis.v1.0.0.js\", function(){\n",
       "                 new LDAvis(\"#\" + \"ldavis_el1548820982774741209413702071\", ldavis_el1548820982774741209413702071_data);\n",
       "            })\n",
       "         });\n",
       "}\n",
       "</script>"
      ],
      "text/plain": [
       "PreparedData(topic_coordinates=              x         y  topics  cluster       Freq\n",
       "topic                                                \n",
       "6      0.100255 -0.111087       1        1  19.600864\n",
       "0      0.128178 -0.117213       2        1  17.705942\n",
       "5     -0.022289  0.053146       3        1  12.723424\n",
       "3     -0.090229  0.083503       4        1  10.553045\n",
       "2      0.147297  0.088649       5        1  10.326722\n",
       "7     -0.151059 -0.103015       6        1  10.155960\n",
       "4     -0.155343 -0.008473       7        1   9.578747\n",
       "1      0.043190  0.114490       8        1   9.355292, topic_info=     Category          Freq      Term         Total  loglift  logprob\n",
       "5849  Default  83751.000000         n  83751.000000  30.0000  30.0000\n",
       "330   Default  22421.000000     local  22421.000000  29.0000  29.0000\n",
       "2078  Default  15676.000000    school  15676.000000  28.0000  28.0000\n",
       "479   Default  13848.000000       tax  13848.000000  27.0000  27.0000\n",
       "1584  Default  15403.000000    health  15403.000000  26.0000  26.0000\n",
       "788   Default  19355.000000     amend  19355.000000  25.0000  25.0000\n",
       "129   Default  11044.000000   pension  11044.000000  24.0000  24.0000\n",
       "123   Default  18841.000000     child  18841.000000  23.0000  23.0000\n",
       "376   Default  17779.000000       per  17779.000000  22.0000  22.0000\n",
       "1877  Default  13008.000000     polic  13008.000000  21.0000  21.0000\n",
       "193   Default  12863.000000     claus  12863.000000  20.0000  20.0000\n",
       "167   Default  17789.000000    author  17789.000000  19.0000  19.0000\n",
       "1676  Default  11237.000000      educ  11237.000000  18.0000  18.0000\n",
       "188   Default  16249.000000      cent  16249.000000  17.0000  17.0000\n",
       "258   Default   9959.000000  european   9959.000000  16.0000  16.0000\n",
       "246   Default  13843.000000     elect  13843.000000  15.0000  15.0000\n",
       "113   Default  17216.000000    legisl  17216.000000  14.0000  14.0000\n",
       "1263  Default  14527.000000      busi  14527.000000  13.0000  13.0000\n",
       "298   Default  14253.000000      home  14253.000000  12.0000  12.0000\n",
       "12    Default  12116.000000   benefit  12116.000000  11.0000  11.0000\n",
       "347   Default  12613.000000     money  12613.000000  10.0000  10.0000\n",
       "1103  Default  14369.000000   increas  14369.000000   9.0000   9.0000\n",
       "1327  Default  13319.000000  industri  13319.000000   8.0000   8.0000\n",
       "1868  Default   6048.000000        nh   6048.000000   7.0000   7.0000\n",
       "2444  Default  17171.000000         c  17171.000000   6.0000   6.0000\n",
       "206   Default  10195.000000      cost  10195.000000   5.0000   5.0000\n",
       "1083  Default  15072.000000      care  15072.000000   4.0000   4.0000\n",
       "1681  Default   5820.000000     incom   5820.000000   3.0000   3.0000\n",
       "1075  Default  15534.000000      area  15534.000000   2.0000   2.0000\n",
       "636   Default  11672.000000      unit  11672.000000   1.0000   1.0000\n",
       "...       ...           ...       ...           ...      ...      ...\n",
       "1161   Topic8   1354.795044    deploy   1422.024170   2.3208  -6.1398\n",
       "670    Topic8   5480.855469    defenc   6441.772461   2.2077  -4.7422\n",
       "5456   Topic8   1258.531006   fisheri   1327.456421   2.3159  -6.2135\n",
       "4775   Topic8   3103.546875  militari   3591.427979   2.2232  -5.3109\n",
       "4480   Topic8    892.670288     marin    924.275757   2.3344  -6.5570\n",
       "4598   Topic8   1027.957886     troop   1088.771729   2.3118  -6.4159\n",
       "2210   Topic8   3293.404541       arm   4150.833984   2.1378  -5.2515\n",
       "1005   Topic8   3039.071777      foot   3798.839844   2.1461  -5.3319\n",
       "3357   Topic8    967.817566  scientif   1032.541748   2.3045  -6.4761\n",
       "6504   Topic8    835.527222    infect    861.461060   2.3387  -6.6231\n",
       "2245   Topic8   5407.425781      forc  10038.599609   1.7506  -4.7557\n",
       "544    Topic8   2087.972412     crisi   3234.348633   1.9316  -5.7072\n",
       "3390   Topic8   1228.205688     flood   1520.724854   2.1556  -6.2379\n",
       "1303   Topic8   1525.266113    export   2141.326904   2.0300  -6.0213\n",
       "641    Topic8   1811.918945       war   3131.488037   1.8221  -5.8490\n",
       "2755   Topic8   1699.825195   compens   2836.110840   1.8573  -5.9129\n",
       "69     Topic8   2442.530029   control   5931.612305   1.4820  -5.5504\n",
       "1363   Topic8   1876.231201  research   3868.389404   1.6457  -5.8142\n",
       "992    Topic8   2705.939453      oper  10274.744141   1.0350  -5.4480\n",
       "797    Topic8   2425.127441    action   9592.716797   0.9941  -5.5576\n",
       "179    Topic8   2129.892090   british   8254.552734   1.0145  -5.6874\n",
       "1327   Topic8   2435.023926  industri  13319.849609   0.6699  -5.5535\n",
       "387    Topic8   2189.913818   possibl  12815.275391   0.6025  -5.6596\n",
       "1075   Topic8   2205.784668      area  15534.191406   0.4173  -5.6524\n",
       "1364   Topic8   2122.357910   respons  15003.244141   0.4135  -5.6909\n",
       "2059   Topic8   1740.662720      risk   4726.644531   1.3703  -5.8892\n",
       "25     Topic8   2072.012695      help  15055.737305   0.3860  -5.7149\n",
       "897    Topic8   1944.536987   develop  13166.297852   0.4566  -5.7784\n",
       "636    Topic8   1874.413696      unit  11672.924805   0.5403  -5.8151\n",
       "41     Topic8   1834.891602      week  10911.155273   0.5864  -5.8364\n",
       "\n",
       "[620 rows x 6 columns], token_table=      Topic      Freq       Term\n",
       "term                            \n",
       "8075      8  0.998339   abattoir\n",
       "2060      1  0.043113   accommod\n",
       "2060      2  0.084568   accommod\n",
       "2060      3  0.801462   accommod\n",
       "2060      4  0.005527   accommod\n",
       "2060      5  0.009949   accommod\n",
       "2060      6  0.015477   accommod\n",
       "2060      8  0.039797   accommod\n",
       "512       1  0.185322    account\n",
       "512       2  0.464710    account\n",
       "512       3  0.019466    account\n",
       "512       4  0.071788    account\n",
       "512       5  0.016991    account\n",
       "512       6  0.134575    account\n",
       "512       7  0.097443    account\n",
       "512       8  0.009677    account\n",
       "1071      1  0.037978     achiev\n",
       "1071      2  0.149752     achiev\n",
       "1071      3  0.088009     achiev\n",
       "1071      4  0.206946     achiev\n",
       "1071      5  0.240035     achiev\n",
       "1071      6  0.062198     achiev\n",
       "1071      7  0.190914     achiev\n",
       "1071      8  0.024220     achiev\n",
       "140       1  0.034507        act\n",
       "140       2  0.724642        act\n",
       "140       3  0.086641        act\n",
       "140       4  0.019942        act\n",
       "140       5  0.121012        act\n",
       "140       6  0.005309        act\n",
       "...     ...       ...        ...\n",
       "502       2  0.013441      welsh\n",
       "502       3  0.019285      welsh\n",
       "502       4  0.014610      welsh\n",
       "502       5  0.073051      welsh\n",
       "502       7  0.774337      welsh\n",
       "5537      4  0.998777    wembley\n",
       "984       1  0.868175  westminst\n",
       "984       3  0.085738  westminst\n",
       "984       4  0.045567  westminst\n",
       "2888      1  0.999570       whip\n",
       "5335      6  0.997094    windfal\n",
       "787       1  0.296978      woman\n",
       "787       3  0.378838      woman\n",
       "787       4  0.042833      woman\n",
       "787       5  0.022369      woman\n",
       "787       6  0.099469      woman\n",
       "787       8  0.159594      woman\n",
       "1433      1  0.051780      world\n",
       "1433      2  0.000227      world\n",
       "1433      4  0.184295      world\n",
       "1433      5  0.453640      world\n",
       "1433      6  0.023846      world\n",
       "1433      7  0.096179      world\n",
       "1433      8  0.189973      world\n",
       "2299      3  0.997917       wyre\n",
       "45        1  0.034194      young\n",
       "45        3  0.694549      young\n",
       "45        4  0.256363      young\n",
       "45        6  0.014835      young\n",
       "6507      8  0.998935    zimbabw\n",
       "\n",
       "[1839 rows x 3 columns], R=30, lambda_step=0.01, plot_opts={'xlab': 'PC1', 'ylab': 'PC2'}, topic_order=[7, 1, 6, 4, 3, 8, 5, 2])"
      ]
     },
     "execution_count": 57,
     "metadata": {},
     "output_type": "execute_result"
    }
   ],
   "source": [
    "vis"
   ]
  },
  {
   "cell_type": "markdown",
   "metadata": {},
   "source": [
    "Each bubble represents a topic. The larger the bubble, the more common the topic is. \n",
    "\n",
    "A good topic model will have fairly big, non-overlapping bubbles scattered throughout the chart instead of being clustered in one quadrant.\n",
    "\n",
    "A model with too many topics, will typically have many overlaps, small sized bubbles clustered in one region of the chart.\n",
    "\n",
    "We have two topics in each quandrant, and only two overlapping bubbles. Therefore, this seems to be a good topic model."
   ]
  },
  {
   "cell_type": "markdown",
   "metadata": {},
   "source": [
    "## Find optimum number of Topics"
   ]
  },
  {
   "cell_type": "code",
   "execution_count": null,
   "metadata": {},
   "outputs": [],
   "source": [
    "# To do!"
   ]
  },
  {
   "cell_type": "markdown",
   "metadata": {},
   "source": [
    "## Find Dominant Topic in each Speech"
   ]
  },
  {
   "cell_type": "code",
   "execution_count": 87,
   "metadata": {},
   "outputs": [],
   "source": [
    "def format_topics_sentences(ldamodel=lda_model, bow_corpus=bow_corpus, texts=cleaned_data_final['speech']):\n",
    "    # Init output\n",
    "    sent_topics_df = pd.DataFrame()\n",
    "\n",
    "    # Get main topic in each document\n",
    "    for i, row in enumerate(ldamodel[bow_corpus]):\n",
    "        row = sorted(row, key=lambda x: (x[1]), reverse=True)\n",
    "        # Get the Dominant topic, Perc Contribution and Keywords for each document\n",
    "        for j, (topic_num, prop_topic) in enumerate(row):\n",
    "            if j == 0:  # => dominant topic\n",
    "                wp = ldamodel.show_topic(topic_num)\n",
    "                topic_keywords = \", \".join([word for word, prop in wp])\n",
    "                sent_topics_df = sent_topics_df.append(pd.Series([int(topic_num), round(prop_topic,4), topic_keywords]), ignore_index=True)\n",
    "            else:\n",
    "                break\n",
    "    sent_topics_df.columns = ['Dominant_Topic', 'Perc_Contribution', 'Topic_Keywords']\n",
    "\n",
    "    return(sent_topics_df)"
   ]
  },
  {
   "cell_type": "code",
   "execution_count": 124,
   "metadata": {},
   "outputs": [],
   "source": [
    "df_topic_sents_keywords = format_topics_sentences(ldamodel=lda_model, bow_corpus=bow_corpus, texts=cleaned_data_final['speech'])"
   ]
  },
  {
   "cell_type": "code",
   "execution_count": 290,
   "metadata": {},
   "outputs": [],
   "source": [
    "test_data = df_topic_sents_keywords.drop('MP',axis=1)"
   ]
  },
  {
   "cell_type": "code",
   "execution_count": 292,
   "metadata": {},
   "outputs": [],
   "source": [
    "test_data = test_data.reset_index(drop=True).merge(cleaned_data_final['proper_name'].reset_index(drop=True), left_index=True, right_index=True)"
   ]
  },
  {
   "cell_type": "code",
   "execution_count": 293,
   "metadata": {},
   "outputs": [],
   "source": [
    "test_data = test_data.reset_index(drop=True).merge(cleaned_data_final['party_group'].reset_index(drop=True), left_index=True, right_index=True)"
   ]
  },
  {
   "cell_type": "code",
   "execution_count": 295,
   "metadata": {},
   "outputs": [],
   "source": [
    "test_data['Dominant_Topic'] = test_data['Dominant_Topic'].astype(int)"
   ]
  },
  {
   "cell_type": "code",
   "execution_count": 296,
   "metadata": {},
   "outputs": [],
   "source": [
    "# Format\n",
    "df_dominant_topic = df_topic_sents_keywords.reset_index()\n",
    "df_dominant_topic.columns = ['Document_No', 'Dominant_Topic', 'Topic_Perc_Contrib', 'Keywords', 'MP']"
   ]
  },
  {
   "cell_type": "markdown",
   "metadata": {},
   "source": [
    "## Create new column, grouping by MP, aggregating by number of speeches made about a given topic. "
   ]
  },
  {
   "cell_type": "code",
   "execution_count": 297,
   "metadata": {},
   "outputs": [],
   "source": [
    "test_data = test_data.pivot_table(index='proper_name', columns='Dominant_Topic', aggfunc='count',fill_value=0)"
   ]
  },
  {
   "cell_type": "code",
   "execution_count": 298,
   "metadata": {},
   "outputs": [
    {
     "data": {
      "text/html": [
       "<div>\n",
       "<style scoped>\n",
       "    .dataframe tbody tr th:only-of-type {\n",
       "        vertical-align: middle;\n",
       "    }\n",
       "\n",
       "    .dataframe tbody tr th {\n",
       "        vertical-align: top;\n",
       "    }\n",
       "\n",
       "    .dataframe thead tr th {\n",
       "        text-align: left;\n",
       "    }\n",
       "\n",
       "    .dataframe thead tr:last-of-type th {\n",
       "        text-align: right;\n",
       "    }\n",
       "</style>\n",
       "<table border=\"1\" class=\"dataframe\">\n",
       "  <thead>\n",
       "    <tr>\n",
       "      <th></th>\n",
       "      <th colspan=\"8\" halign=\"left\">Perc_Contribution</th>\n",
       "      <th colspan=\"5\" halign=\"left\">Topic_Keywords</th>\n",
       "      <th colspan=\"8\" halign=\"left\">party_group</th>\n",
       "    </tr>\n",
       "    <tr>\n",
       "      <th>Dominant_Topic</th>\n",
       "      <th>0</th>\n",
       "      <th>1</th>\n",
       "      <th>2</th>\n",
       "      <th>3</th>\n",
       "      <th>4</th>\n",
       "      <th>5</th>\n",
       "      <th>6</th>\n",
       "      <th>7</th>\n",
       "      <th>0</th>\n",
       "      <th>1</th>\n",
       "      <th>...</th>\n",
       "      <th>6</th>\n",
       "      <th>7</th>\n",
       "      <th>0</th>\n",
       "      <th>1</th>\n",
       "      <th>2</th>\n",
       "      <th>3</th>\n",
       "      <th>4</th>\n",
       "      <th>5</th>\n",
       "      <th>6</th>\n",
       "      <th>7</th>\n",
       "    </tr>\n",
       "    <tr>\n",
       "      <th>proper_name</th>\n",
       "      <th></th>\n",
       "      <th></th>\n",
       "      <th></th>\n",
       "      <th></th>\n",
       "      <th></th>\n",
       "      <th></th>\n",
       "      <th></th>\n",
       "      <th></th>\n",
       "      <th></th>\n",
       "      <th></th>\n",
       "      <th></th>\n",
       "      <th></th>\n",
       "      <th></th>\n",
       "      <th></th>\n",
       "      <th></th>\n",
       "      <th></th>\n",
       "      <th></th>\n",
       "      <th></th>\n",
       "      <th></th>\n",
       "      <th></th>\n",
       "      <th></th>\n",
       "    </tr>\n",
       "  </thead>\n",
       "  <tbody>\n",
       "    <tr>\n",
       "      <th>Adam Ingram</th>\n",
       "      <td>64</td>\n",
       "      <td>45</td>\n",
       "      <td>103</td>\n",
       "      <td>14</td>\n",
       "      <td>3</td>\n",
       "      <td>19</td>\n",
       "      <td>27</td>\n",
       "      <td>6</td>\n",
       "      <td>64</td>\n",
       "      <td>45</td>\n",
       "      <td>...</td>\n",
       "      <td>27</td>\n",
       "      <td>6</td>\n",
       "      <td>64</td>\n",
       "      <td>45</td>\n",
       "      <td>103</td>\n",
       "      <td>14</td>\n",
       "      <td>3</td>\n",
       "      <td>19</td>\n",
       "      <td>27</td>\n",
       "      <td>6</td>\n",
       "    </tr>\n",
       "    <tr>\n",
       "      <th>Adam Price</th>\n",
       "      <td>0</td>\n",
       "      <td>0</td>\n",
       "      <td>1</td>\n",
       "      <td>7</td>\n",
       "      <td>8</td>\n",
       "      <td>0</td>\n",
       "      <td>2</td>\n",
       "      <td>3</td>\n",
       "      <td>0</td>\n",
       "      <td>0</td>\n",
       "      <td>...</td>\n",
       "      <td>2</td>\n",
       "      <td>3</td>\n",
       "      <td>0</td>\n",
       "      <td>0</td>\n",
       "      <td>1</td>\n",
       "      <td>7</td>\n",
       "      <td>8</td>\n",
       "      <td>0</td>\n",
       "      <td>2</td>\n",
       "      <td>3</td>\n",
       "    </tr>\n",
       "    <tr>\n",
       "      <th>Adrian Bailey</th>\n",
       "      <td>1</td>\n",
       "      <td>2</td>\n",
       "      <td>3</td>\n",
       "      <td>5</td>\n",
       "      <td>1</td>\n",
       "      <td>5</td>\n",
       "      <td>1</td>\n",
       "      <td>1</td>\n",
       "      <td>1</td>\n",
       "      <td>2</td>\n",
       "      <td>...</td>\n",
       "      <td>1</td>\n",
       "      <td>1</td>\n",
       "      <td>1</td>\n",
       "      <td>2</td>\n",
       "      <td>3</td>\n",
       "      <td>5</td>\n",
       "      <td>1</td>\n",
       "      <td>5</td>\n",
       "      <td>1</td>\n",
       "      <td>1</td>\n",
       "    </tr>\n",
       "    <tr>\n",
       "      <th>Adrian Flook</th>\n",
       "      <td>0</td>\n",
       "      <td>0</td>\n",
       "      <td>0</td>\n",
       "      <td>3</td>\n",
       "      <td>0</td>\n",
       "      <td>1</td>\n",
       "      <td>0</td>\n",
       "      <td>1</td>\n",
       "      <td>0</td>\n",
       "      <td>0</td>\n",
       "      <td>...</td>\n",
       "      <td>0</td>\n",
       "      <td>1</td>\n",
       "      <td>0</td>\n",
       "      <td>0</td>\n",
       "      <td>0</td>\n",
       "      <td>3</td>\n",
       "      <td>0</td>\n",
       "      <td>1</td>\n",
       "      <td>0</td>\n",
       "      <td>1</td>\n",
       "    </tr>\n",
       "    <tr>\n",
       "      <th>Adrian Sanders</th>\n",
       "      <td>4</td>\n",
       "      <td>1</td>\n",
       "      <td>1</td>\n",
       "      <td>7</td>\n",
       "      <td>2</td>\n",
       "      <td>17</td>\n",
       "      <td>6</td>\n",
       "      <td>7</td>\n",
       "      <td>4</td>\n",
       "      <td>1</td>\n",
       "      <td>...</td>\n",
       "      <td>6</td>\n",
       "      <td>7</td>\n",
       "      <td>4</td>\n",
       "      <td>1</td>\n",
       "      <td>1</td>\n",
       "      <td>7</td>\n",
       "      <td>2</td>\n",
       "      <td>17</td>\n",
       "      <td>6</td>\n",
       "      <td>7</td>\n",
       "    </tr>\n",
       "  </tbody>\n",
       "</table>\n",
       "<p>5 rows × 24 columns</p>\n",
       "</div>"
      ],
      "text/plain": [
       "               Perc_Contribution                            Topic_Keywords  \\\n",
       "Dominant_Topic                 0   1    2   3  4   5   6  7              0   \n",
       "proper_name                                                                  \n",
       "Adam Ingram                   64  45  103  14  3  19  27  6             64   \n",
       "Adam Price                     0   0    1   7  8   0   2  3              0   \n",
       "Adrian Bailey                  1   2    3   5  1   5   1  1              1   \n",
       "Adrian Flook                   0   0    0   3  0   1   0  1              0   \n",
       "Adrian Sanders                 4   1    1   7  2  17   6  7              4   \n",
       "\n",
       "                    ...        party_group                             \n",
       "Dominant_Topic   1  ...   6  7           0   1    2   3  4   5   6  7  \n",
       "proper_name         ...                                                \n",
       "Adam Ingram     45  ...  27  6          64  45  103  14  3  19  27  6  \n",
       "Adam Price       0  ...   2  3           0   0    1   7  8   0   2  3  \n",
       "Adrian Bailey    2  ...   1  1           1   2    3   5  1   5   1  1  \n",
       "Adrian Flook     0  ...   0  1           0   0    0   3  0   1   0  1  \n",
       "Adrian Sanders   1  ...   6  7           4   1    1   7  2  17   6  7  \n",
       "\n",
       "[5 rows x 24 columns]"
      ]
     },
     "execution_count": 298,
     "metadata": {},
     "output_type": "execute_result"
    }
   ],
   "source": [
    "test_data.head()"
   ]
  },
  {
   "cell_type": "code",
   "execution_count": 299,
   "metadata": {},
   "outputs": [],
   "source": [
    "test_data.columns = test_data.columns.droplevel()"
   ]
  },
  {
   "cell_type": "code",
   "execution_count": 300,
   "metadata": {},
   "outputs": [],
   "source": [
    "model_data = test_data.iloc[: , [1,2,3,4,5,6,7]]"
   ]
  },
  {
   "cell_type": "code",
   "execution_count": 301,
   "metadata": {},
   "outputs": [],
   "source": [
    "model_data = pd.merge(model_data, cleaned_data_final, how='left', on=\"proper_name\")"
   ]
  },
  {
   "cell_type": "code",
   "execution_count": 302,
   "metadata": {},
   "outputs": [],
   "source": [
    "model_data = model_data.drop_duplicates(subset=\"proper_name\")"
   ]
  },
  {
   "cell_type": "code",
   "execution_count": 303,
   "metadata": {},
   "outputs": [],
   "source": [
    "model_data = model_data.drop(['speech','as_speaker','party','government'],axis=1)"
   ]
  },
  {
   "cell_type": "code",
   "execution_count": 304,
   "metadata": {},
   "outputs": [],
   "source": [
    "model_data = model_data.reset_index()"
   ]
  },
  {
   "cell_type": "code",
   "execution_count": 305,
   "metadata": {},
   "outputs": [],
   "source": [
    "model_data = model_data.drop('index',axis=1)"
   ]
  },
  {
   "cell_type": "code",
   "execution_count": 307,
   "metadata": {},
   "outputs": [
    {
     "data": {
      "text/html": [
       "<div>\n",
       "<style scoped>\n",
       "    .dataframe tbody tr th:only-of-type {\n",
       "        vertical-align: middle;\n",
       "    }\n",
       "\n",
       "    .dataframe tbody tr th {\n",
       "        vertical-align: top;\n",
       "    }\n",
       "\n",
       "    .dataframe thead th {\n",
       "        text-align: right;\n",
       "    }\n",
       "</style>\n",
       "<table border=\"1\" class=\"dataframe\">\n",
       "  <thead>\n",
       "    <tr style=\"text-align: right;\">\n",
       "      <th></th>\n",
       "      <th>proper_name</th>\n",
       "      <th>1</th>\n",
       "      <th>2</th>\n",
       "      <th>3</th>\n",
       "      <th>4</th>\n",
       "      <th>5</th>\n",
       "      <th>6</th>\n",
       "      <th>7</th>\n",
       "      <th>party_group</th>\n",
       "    </tr>\n",
       "  </thead>\n",
       "  <tbody>\n",
       "    <tr>\n",
       "      <th>0</th>\n",
       "      <td>Adam Ingram</td>\n",
       "      <td>45</td>\n",
       "      <td>103</td>\n",
       "      <td>14</td>\n",
       "      <td>3</td>\n",
       "      <td>19</td>\n",
       "      <td>27</td>\n",
       "      <td>6</td>\n",
       "      <td>Labour</td>\n",
       "    </tr>\n",
       "    <tr>\n",
       "      <th>1</th>\n",
       "      <td>Adam Price</td>\n",
       "      <td>0</td>\n",
       "      <td>1</td>\n",
       "      <td>7</td>\n",
       "      <td>8</td>\n",
       "      <td>0</td>\n",
       "      <td>2</td>\n",
       "      <td>3</td>\n",
       "      <td>Other</td>\n",
       "    </tr>\n",
       "    <tr>\n",
       "      <th>2</th>\n",
       "      <td>Adrian Bailey</td>\n",
       "      <td>2</td>\n",
       "      <td>3</td>\n",
       "      <td>5</td>\n",
       "      <td>1</td>\n",
       "      <td>5</td>\n",
       "      <td>1</td>\n",
       "      <td>1</td>\n",
       "      <td>Labour</td>\n",
       "    </tr>\n",
       "    <tr>\n",
       "      <th>3</th>\n",
       "      <td>Adrian Flook</td>\n",
       "      <td>0</td>\n",
       "      <td>0</td>\n",
       "      <td>3</td>\n",
       "      <td>0</td>\n",
       "      <td>1</td>\n",
       "      <td>0</td>\n",
       "      <td>1</td>\n",
       "      <td>Conservative</td>\n",
       "    </tr>\n",
       "    <tr>\n",
       "      <th>4</th>\n",
       "      <td>Adrian Sanders</td>\n",
       "      <td>1</td>\n",
       "      <td>1</td>\n",
       "      <td>7</td>\n",
       "      <td>2</td>\n",
       "      <td>17</td>\n",
       "      <td>6</td>\n",
       "      <td>7</td>\n",
       "      <td>Liberal Democrat</td>\n",
       "    </tr>\n",
       "    <tr>\n",
       "      <th>5</th>\n",
       "      <td>Alan Beith</td>\n",
       "      <td>16</td>\n",
       "      <td>5</td>\n",
       "      <td>6</td>\n",
       "      <td>14</td>\n",
       "      <td>2</td>\n",
       "      <td>25</td>\n",
       "      <td>4</td>\n",
       "      <td>Liberal Democrat</td>\n",
       "    </tr>\n",
       "    <tr>\n",
       "      <th>6</th>\n",
       "      <td>Alan Campbell</td>\n",
       "      <td>4</td>\n",
       "      <td>0</td>\n",
       "      <td>2</td>\n",
       "      <td>0</td>\n",
       "      <td>1</td>\n",
       "      <td>0</td>\n",
       "      <td>1</td>\n",
       "      <td>Labour</td>\n",
       "    </tr>\n",
       "    <tr>\n",
       "      <th>7</th>\n",
       "      <td>Alan Duncan</td>\n",
       "      <td>8</td>\n",
       "      <td>5</td>\n",
       "      <td>9</td>\n",
       "      <td>2</td>\n",
       "      <td>0</td>\n",
       "      <td>22</td>\n",
       "      <td>14</td>\n",
       "      <td>Conservative</td>\n",
       "    </tr>\n",
       "    <tr>\n",
       "      <th>8</th>\n",
       "      <td>Alan Haselhurst</td>\n",
       "      <td>0</td>\n",
       "      <td>1</td>\n",
       "      <td>0</td>\n",
       "      <td>0</td>\n",
       "      <td>0</td>\n",
       "      <td>5</td>\n",
       "      <td>0</td>\n",
       "      <td>Conservative</td>\n",
       "    </tr>\n",
       "    <tr>\n",
       "      <th>9</th>\n",
       "      <td>Alan Howarth</td>\n",
       "      <td>3</td>\n",
       "      <td>2</td>\n",
       "      <td>63</td>\n",
       "      <td>5</td>\n",
       "      <td>7</td>\n",
       "      <td>5</td>\n",
       "      <td>1</td>\n",
       "      <td>Labour</td>\n",
       "    </tr>\n",
       "  </tbody>\n",
       "</table>\n",
       "</div>"
      ],
      "text/plain": [
       "       proper_name   1    2   3   4   5   6   7       party_group\n",
       "0      Adam Ingram  45  103  14   3  19  27   6            Labour\n",
       "1       Adam Price   0    1   7   8   0   2   3             Other\n",
       "2    Adrian Bailey   2    3   5   1   5   1   1            Labour\n",
       "3     Adrian Flook   0    0   3   0   1   0   1      Conservative\n",
       "4   Adrian Sanders   1    1   7   2  17   6   7  Liberal Democrat\n",
       "5       Alan Beith  16    5   6  14   2  25   4  Liberal Democrat\n",
       "6    Alan Campbell   4    0   2   0   1   0   1            Labour\n",
       "7      Alan Duncan   8    5   9   2   0  22  14      Conservative\n",
       "8  Alan Haselhurst   0    1   0   0   0   5   0      Conservative\n",
       "9     Alan Howarth   3    2  63   5   7   5   1            Labour"
      ]
     },
     "execution_count": 307,
     "metadata": {},
     "output_type": "execute_result"
    }
   ],
   "source": [
    "model_data.head(10)"
   ]
  },
  {
   "cell_type": "markdown",
   "metadata": {},
   "source": [
    "## Train machine learning algorithm on new dataframe."
   ]
  },
  {
   "cell_type": "code",
   "execution_count": null,
   "metadata": {},
   "outputs": [],
   "source": []
  }
 ],
 "metadata": {
  "kernelspec": {
   "display_name": "Python 3",
   "language": "python",
   "name": "python3"
  },
  "language_info": {
   "codemirror_mode": {
    "name": "ipython",
    "version": 3
   },
   "file_extension": ".py",
   "mimetype": "text/x-python",
   "name": "python",
   "nbconvert_exporter": "python",
   "pygments_lexer": "ipython3",
   "version": "3.7.3"
  }
 },
 "nbformat": 4,
 "nbformat_minor": 2
}
