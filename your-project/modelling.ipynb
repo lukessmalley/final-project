{
 "cells": [
  {
   "cell_type": "markdown",
   "metadata": {},
   "source": [
    "# Import Libraries"
   ]
  },
  {
   "cell_type": "code",
   "execution_count": 28,
   "metadata": {},
   "outputs": [],
   "source": [
    "import pandas as pd\n",
    "import numpy as np\n",
    "\n",
    "#Machine Learning\n",
    "import sklearn\n",
    "from sklearn import datasets\n",
    "from sklearn.model_selection import train_test_split\n",
    "from sklearn.tree import DecisionTreeClassifier\n",
    "from sklearn.svm import SVC\n",
    "from sklearn.neighbors import KNeighborsClassifier\n",
    "from sklearn import neighbors\n",
    "from sklearn.model_selection import GridSearchCV\n",
    "from sklearn.linear_model import LogisticRegression\n",
    "\n",
    "#Modelling\n",
    "import matplotlib.pyplot as plt"
   ]
  },
  {
   "cell_type": "markdown",
   "metadata": {},
   "source": [
    "# Import Data"
   ]
  },
  {
   "cell_type": "code",
   "execution_count": 2,
   "metadata": {},
   "outputs": [
    {
     "name": "stderr",
     "output_type": "stream",
     "text": [
      "C:\\Users\\lukes\\Anaconda3\\lib\\site-packages\\IPython\\core\\interactiveshell.py:3057: DtypeWarning: Columns (10) have mixed types. Specify dtype option on import or set low_memory=False.\n",
      "  interactivity=interactivity, compiler=compiler, result=result)\n"
     ]
    }
   ],
   "source": [
    "data = pd.read_csv('final_data.csv')"
   ]
  },
  {
   "cell_type": "code",
   "execution_count": 3,
   "metadata": {},
   "outputs": [
    {
     "data": {
      "text/html": [
       "<div>\n",
       "<style scoped>\n",
       "    .dataframe tbody tr th:only-of-type {\n",
       "        vertical-align: middle;\n",
       "    }\n",
       "\n",
       "    .dataframe tbody tr th {\n",
       "        vertical-align: top;\n",
       "    }\n",
       "\n",
       "    .dataframe thead th {\n",
       "        text-align: right;\n",
       "    }\n",
       "</style>\n",
       "<table border=\"1\" class=\"dataframe\">\n",
       "  <thead>\n",
       "    <tr style=\"text-align: right;\">\n",
       "      <th></th>\n",
       "      <th>Unnamed: 0</th>\n",
       "      <th>key_0</th>\n",
       "      <th>index</th>\n",
       "      <th>speech</th>\n",
       "      <th>year</th>\n",
       "      <th>as_speaker</th>\n",
       "      <th>proper_name</th>\n",
       "      <th>gender</th>\n",
       "      <th>party</th>\n",
       "      <th>party_group</th>\n",
       "      <th>government</th>\n",
       "      <th>age</th>\n",
       "      <th>Dominant_Topic</th>\n",
       "      <th>Perc_Contribution</th>\n",
       "      <th>Topic_Keywords</th>\n",
       "      <th>speeches_count</th>\n",
       "    </tr>\n",
       "  </thead>\n",
       "  <tbody>\n",
       "    <tr>\n",
       "      <th>0</th>\n",
       "      <td>0</td>\n",
       "      <td>0</td>\n",
       "      <td>2145981</td>\n",
       "      <td>['complet', 'agre', 'friend', 'alreadi', 'ment...</td>\n",
       "      <td>2017</td>\n",
       "      <td>False</td>\n",
       "      <td>Damian Green</td>\n",
       "      <td>Male</td>\n",
       "      <td>Conservative</td>\n",
       "      <td>Conservative</td>\n",
       "      <td>True</td>\n",
       "      <td>61.0</td>\n",
       "      <td>3.0</td>\n",
       "      <td>0.4356</td>\n",
       "      <td>â, univers, credit, work, peopl, pension, amen...</td>\n",
       "      <td>359</td>\n",
       "    </tr>\n",
       "    <tr>\n",
       "      <th>1</th>\n",
       "      <td>1</td>\n",
       "      <td>1</td>\n",
       "      <td>2145982</td>\n",
       "      <td>['call', 'gerald', 'jone', 'fella']</td>\n",
       "      <td>2017</td>\n",
       "      <td>False</td>\n",
       "      <td>John Bercow</td>\n",
       "      <td>Male</td>\n",
       "      <td>Conservative</td>\n",
       "      <td>Conservative</td>\n",
       "      <td>True</td>\n",
       "      <td>54.0</td>\n",
       "      <td>2.0</td>\n",
       "      <td>0.8247</td>\n",
       "      <td>hon, debat, minist, gentleman, point, way, giv...</td>\n",
       "      <td>2276</td>\n",
       "    </tr>\n",
       "    <tr>\n",
       "      <th>2</th>\n",
       "      <td>2</td>\n",
       "      <td>2</td>\n",
       "      <td>2145983</td>\n",
       "      <td>['recent', 'ass', 'made', 'trend', 'level', 's...</td>\n",
       "      <td>2017</td>\n",
       "      <td>False</td>\n",
       "      <td>Peter Dowd</td>\n",
       "      <td>Male</td>\n",
       "      <td>Labour</td>\n",
       "      <td>Labour</td>\n",
       "      <td>False</td>\n",
       "      <td>59.0</td>\n",
       "      <td>3.0</td>\n",
       "      <td>0.8905</td>\n",
       "      <td>â, univers, credit, work, peopl, pension, amen...</td>\n",
       "      <td>192</td>\n",
       "    </tr>\n",
       "    <tr>\n",
       "      <th>3</th>\n",
       "      <td>3</td>\n",
       "      <td>3</td>\n",
       "      <td>2145984</td>\n",
       "      <td>['support', 'aspir', 'bos', 'number', 'self', ...</td>\n",
       "      <td>2017</td>\n",
       "      <td>False</td>\n",
       "      <td>Damian Green</td>\n",
       "      <td>Male</td>\n",
       "      <td>Conservative</td>\n",
       "      <td>Conservative</td>\n",
       "      <td>True</td>\n",
       "      <td>61.0</td>\n",
       "      <td>7.0</td>\n",
       "      <td>0.5681</td>\n",
       "      <td>â, fund, year, tax, budget, care, need, peopl,...</td>\n",
       "      <td>359</td>\n",
       "    </tr>\n",
       "    <tr>\n",
       "      <th>4</th>\n",
       "      <td>4</td>\n",
       "      <td>4</td>\n",
       "      <td>2145985</td>\n",
       "      <td>['citizen', 'advic', 'report', 'august', 'said...</td>\n",
       "      <td>2017</td>\n",
       "      <td>False</td>\n",
       "      <td>Peter Dowd</td>\n",
       "      <td>Male</td>\n",
       "      <td>Labour</td>\n",
       "      <td>Labour</td>\n",
       "      <td>False</td>\n",
       "      <td>59.0</td>\n",
       "      <td>3.0</td>\n",
       "      <td>0.6912</td>\n",
       "      <td>â, univers, credit, work, peopl, pension, amen...</td>\n",
       "      <td>192</td>\n",
       "    </tr>\n",
       "  </tbody>\n",
       "</table>\n",
       "</div>"
      ],
      "text/plain": [
       "   Unnamed: 0  key_0    index  \\\n",
       "0           0      0  2145981   \n",
       "1           1      1  2145982   \n",
       "2           2      2  2145983   \n",
       "3           3      3  2145984   \n",
       "4           4      4  2145985   \n",
       "\n",
       "                                              speech  year  as_speaker  \\\n",
       "0  ['complet', 'agre', 'friend', 'alreadi', 'ment...  2017       False   \n",
       "1                ['call', 'gerald', 'jone', 'fella']  2017       False   \n",
       "2  ['recent', 'ass', 'made', 'trend', 'level', 's...  2017       False   \n",
       "3  ['support', 'aspir', 'bos', 'number', 'self', ...  2017       False   \n",
       "4  ['citizen', 'advic', 'report', 'august', 'said...  2017       False   \n",
       "\n",
       "    proper_name gender         party   party_group government   age  \\\n",
       "0  Damian Green   Male  Conservative  Conservative       True  61.0   \n",
       "1   John Bercow   Male  Conservative  Conservative       True  54.0   \n",
       "2    Peter Dowd   Male        Labour        Labour      False  59.0   \n",
       "3  Damian Green   Male  Conservative  Conservative       True  61.0   \n",
       "4    Peter Dowd   Male        Labour        Labour      False  59.0   \n",
       "\n",
       "   Dominant_Topic  Perc_Contribution  \\\n",
       "0             3.0             0.4356   \n",
       "1             2.0             0.8247   \n",
       "2             3.0             0.8905   \n",
       "3             7.0             0.5681   \n",
       "4             3.0             0.6912   \n",
       "\n",
       "                                      Topic_Keywords  speeches_count  \n",
       "0  â, univers, credit, work, peopl, pension, amen...             359  \n",
       "1  hon, debat, minist, gentleman, point, way, giv...            2276  \n",
       "2  â, univers, credit, work, peopl, pension, amen...             192  \n",
       "3  â, fund, year, tax, budget, care, need, peopl,...             359  \n",
       "4  â, univers, credit, work, peopl, pension, amen...             192  "
      ]
     },
     "execution_count": 3,
     "metadata": {},
     "output_type": "execute_result"
    }
   ],
   "source": [
    "data.head()"
   ]
  },
  {
   "cell_type": "markdown",
   "metadata": {},
   "source": [
    "# Data Manipulation"
   ]
  },
  {
   "cell_type": "code",
   "execution_count": 4,
   "metadata": {},
   "outputs": [],
   "source": [
    "model_data = data.pivot_table(index='proper_name', columns='Dominant_Topic', aggfunc='count',fill_value=0)"
   ]
  },
  {
   "cell_type": "code",
   "execution_count": 5,
   "metadata": {},
   "outputs": [],
   "source": [
    "model_data.columns = model_data.columns.droplevel()"
   ]
  },
  {
   "cell_type": "code",
   "execution_count": 6,
   "metadata": {},
   "outputs": [],
   "source": [
    "model_data = model_data.iloc[: , [0,1,2,3,4,5,6,7]]"
   ]
  },
  {
   "cell_type": "code",
   "execution_count": 7,
   "metadata": {},
   "outputs": [],
   "source": [
    "model_data = pd.merge(model_data, data, how='left', on=\"proper_name\")"
   ]
  },
  {
   "cell_type": "code",
   "execution_count": 8,
   "metadata": {},
   "outputs": [],
   "source": [
    "model_data = model_data.drop(['Unnamed: 0','year','gender','speech',\n",
    "                              'as_speaker','key_0','index','party',\n",
    "                              'age','speeches_count','government',\n",
    "                              'Dominant_Topic','Topic_Keywords',\n",
    "                             ], axis=1)"
   ]
  },
  {
   "cell_type": "code",
   "execution_count": 9,
   "metadata": {},
   "outputs": [],
   "source": [
    "model_data.loc[model_data['party_group'] =='Labour', 'party_group'] = 0\n",
    "model_data.loc[model_data['party_group'] =='Conservative', 'party_group'] = 1\n",
    "model_data.loc[model_data['party_group'] =='Liberal Democrat', 'party_group'] = 2\n",
    "model_data.loc[model_data['party_group'] =='SNP', 'party_group'] = 3\n",
    "model_data.loc[model_data['party_group'] =='Other', 'party_group'] = 4"
   ]
  },
  {
   "cell_type": "code",
   "execution_count": 10,
   "metadata": {},
   "outputs": [],
   "source": [
    "model_data = model_data.drop_duplicates(subset=\"proper_name\")"
   ]
  },
  {
   "cell_type": "code",
   "execution_count": 11,
   "metadata": {},
   "outputs": [],
   "source": [
    "model_data = model_data.drop('proper_name',axis=1)"
   ]
  },
  {
   "cell_type": "markdown",
   "metadata": {},
   "source": [
    "# Modelling"
   ]
  },
  {
   "cell_type": "markdown",
   "metadata": {},
   "source": [
    "#### Creating Training and Testing Data"
   ]
  },
  {
   "cell_type": "code",
   "execution_count": 12,
   "metadata": {},
   "outputs": [],
   "source": [
    "X = model_data.drop('party_group',axis=1) \n",
    "y = model_data['party_group']"
   ]
  },
  {
   "cell_type": "code",
   "execution_count": 13,
   "metadata": {},
   "outputs": [],
   "source": [
    "X_train, X_test, y_train, y_test = train_test_split(X, y, test_size=0.20)"
   ]
  },
  {
   "cell_type": "markdown",
   "metadata": {},
   "source": [
    "#### Decision Tree"
   ]
  },
  {
   "cell_type": "code",
   "execution_count": 14,
   "metadata": {},
   "outputs": [
    {
     "name": "stdout",
     "output_type": "stream",
     "text": [
      "Decision Tree Test Accuracy 46.26%\n"
     ]
    }
   ],
   "source": [
    "dtc = DecisionTreeClassifier()\n",
    "dtc.fit(X_train, y_train)\n",
    "y_pred = dtc.predict(X_test)\n",
    "\n",
    "acc = dtc.score(X_test, y_test)*100\n",
    "print(f\"Decision Tree Test Accuracy {round(acc, 2)}%\")"
   ]
  },
  {
   "cell_type": "markdown",
   "metadata": {},
   "source": [
    "#### SVM"
   ]
  },
  {
   "cell_type": "code",
   "execution_count": 15,
   "metadata": {},
   "outputs": [
    {
     "name": "stdout",
     "output_type": "stream",
     "text": [
      "SVM Algorithm Test Accuracy 49.66%\n"
     ]
    },
    {
     "name": "stderr",
     "output_type": "stream",
     "text": [
      "C:\\Users\\lukes\\Anaconda3\\lib\\site-packages\\sklearn\\svm\\base.py:193: FutureWarning: The default value of gamma will change from 'auto' to 'scale' in version 0.22 to account better for unscaled features. Set gamma explicitly to 'auto' or 'scale' to avoid this warning.\n",
      "  \"avoid this warning.\", FutureWarning)\n"
     ]
    }
   ],
   "source": [
    "svm = SVC()\n",
    "svm.fit(X_train, y_train)\n",
    "y_pred = svm.predict(X_test)\n",
    "\n",
    "acc = svm.score(X_test,y_test)*100\n",
    "print(f\"SVM Algorithm Test Accuracy {round(acc, 2)}%\")"
   ]
  },
  {
   "cell_type": "markdown",
   "metadata": {},
   "source": [
    "#### KNN"
   ]
  },
  {
   "cell_type": "code",
   "execution_count": 37,
   "metadata": {},
   "outputs": [
    {
     "name": "stdout",
     "output_type": "stream",
     "text": [
      "5 neighbors KNN Score: 54.42%\n"
     ]
    }
   ],
   "source": [
    "knn = KNeighborsClassifier(n_neighbors = 5)  # n_neighbors means k\n",
    "knn.fit(X_train, y_train)\n",
    "y_pred = knn.predict(X_test)\n",
    "\n",
    "acc = knn.score(X_test, y_test)*100\n",
    "print(f\"5 neighbors KNN Score: {round(acc,2)}%\")"
   ]
  },
  {
   "cell_type": "code",
   "execution_count": 23,
   "metadata": {},
   "outputs": [
    {
     "name": "stderr",
     "output_type": "stream",
     "text": [
      "C:\\Users\\lukes\\Anaconda3\\lib\\site-packages\\sklearn\\model_selection\\_search.py:813: DeprecationWarning: The default of the `iid` parameter will change from True to False in version 0.22 and will be removed in 0.24. This will change numeric results when test-set sizes are unequal.\n",
      "  DeprecationWarning)\n"
     ]
    },
    {
     "data": {
      "text/plain": [
       "{'n_neighbors': 13}"
      ]
     },
     "execution_count": 23,
     "metadata": {},
     "output_type": "execute_result"
    }
   ],
   "source": [
    "param_grid = {'n_neighbors': np.arange(1,15)} \n",
    "knn = neighbors.KNeighborsClassifier()\n",
    "knn_cv = GridSearchCV(knn, param_grid, cv=5)\n",
    "knn_cv.fit(X,y)\n",
    "knn_cv.best_params_"
   ]
  },
  {
   "cell_type": "code",
   "execution_count": 44,
   "metadata": {},
   "outputs": [
    {
     "data": {
      "text/plain": [
       "1    77\n",
       "0    65\n",
       "4     3\n",
       "3     2\n",
       "Name: Predicted, dtype: int64"
      ]
     },
     "metadata": {},
     "output_type": "display_data"
    },
    {
     "data": {
      "text/plain": [
       "1    71\n",
       "0    60\n",
       "3    12\n",
       "2     3\n",
       "4     1\n",
       "Name: Actual, dtype: int64"
      ]
     },
     "metadata": {},
     "output_type": "display_data"
    }
   ],
   "source": [
    "df = pd.DataFrame({'Actual': y_test, 'Predicted': y_pred})\n",
    "display(df['Predicted'].value_counts())\n",
    "display(df['Actual'].value_counts())"
   ]
  }
 ],
 "metadata": {
  "kernelspec": {
   "display_name": "Python 3",
   "language": "python",
   "name": "python3"
  },
  "language_info": {
   "codemirror_mode": {
    "name": "ipython",
    "version": 3
   },
   "file_extension": ".py",
   "mimetype": "text/x-python",
   "name": "python",
   "nbconvert_exporter": "python",
   "pygments_lexer": "ipython3",
   "version": "3.7.3"
  }
 },
 "nbformat": 4,
 "nbformat_minor": 2
}
