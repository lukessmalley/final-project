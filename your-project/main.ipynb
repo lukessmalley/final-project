{
 "cells": [
  {
   "cell_type": "markdown",
   "metadata": {},
   "source": [
    "# Import Libraries"
   ]
  },
  {
   "cell_type": "code",
   "execution_count": 3,
   "metadata": {},
   "outputs": [
    {
     "name": "stderr",
     "output_type": "stream",
     "text": [
      "C:\\Users\\lukes\\Anaconda3\\lib\\site-packages\\funcy\\colls.py:7: DeprecationWarning: Using or importing the ABCs from 'collections' instead of from 'collections.abc' is deprecated, and in 3.8 it will stop working\n",
      "  from collections import Mapping, Set, Iterable, Iterator, defaultdict\n",
      "C:\\Users\\lukes\\Anaconda3\\lib\\site-packages\\funcy\\colls.py:7: DeprecationWarning: Using or importing the ABCs from 'collections' instead of from 'collections.abc' is deprecated, and in 3.8 it will stop working\n",
      "  from collections import Mapping, Set, Iterable, Iterator, defaultdict\n",
      "C:\\Users\\lukes\\Anaconda3\\lib\\site-packages\\funcy\\decorators.py:63: DeprecationWarning: inspect.getargspec() is deprecated since Python 3.0, use inspect.signature() or inspect.getfullargspec()\n",
      "  spec = inspect.getargspec(func)\n",
      "C:\\Users\\lukes\\Anaconda3\\lib\\site-packages\\funcy\\decorators.py:63: DeprecationWarning: inspect.getargspec() is deprecated since Python 3.0, use inspect.signature() or inspect.getfullargspec()\n",
      "  spec = inspect.getargspec(func)\n",
      "C:\\Users\\lukes\\Anaconda3\\lib\\site-packages\\funcy\\decorators.py:63: DeprecationWarning: inspect.getargspec() is deprecated since Python 3.0, use inspect.signature() or inspect.getfullargspec()\n",
      "  spec = inspect.getargspec(func)\n",
      "C:\\Users\\lukes\\Anaconda3\\lib\\site-packages\\funcy\\decorators.py:63: DeprecationWarning: inspect.getargspec() is deprecated since Python 3.0, use inspect.signature() or inspect.getfullargspec()\n",
      "  spec = inspect.getargspec(func)\n",
      "C:\\Users\\lukes\\Anaconda3\\lib\\site-packages\\funcy\\decorators.py:63: DeprecationWarning: inspect.getargspec() is deprecated since Python 3.0, use inspect.signature() or inspect.getfullargspec()\n",
      "  spec = inspect.getargspec(func)\n",
      "C:\\Users\\lukes\\Anaconda3\\lib\\site-packages\\funcy\\decorators.py:63: DeprecationWarning: inspect.getargspec() is deprecated since Python 3.0, use inspect.signature() or inspect.getfullargspec()\n",
      "  spec = inspect.getargspec(func)\n"
     ]
    }
   ],
   "source": [
    "import pandas as pd\n",
    "import numpy as np\n",
    "from scipy import stats\n",
    "import re\n",
    "\n",
    "#NLP libraries\n",
    "import nltk\n",
    "from nltk.tokenize import word_tokenize\n",
    "from nltk.stem import PorterStemmer\n",
    "from nltk.stem import WordNetLemmatizer \n",
    "from nltk.corpus import stopwords\n",
    "\n",
    "#Word Vectors\n",
    "import gensim \n",
    "from gensim.models import Word2Vec \n",
    "from gensim.models import CoherenceModel\n",
    "\n",
    "#Visualising Topics\n",
    "import pyLDAvis\n",
    "import pyLDAvis.gensim "
   ]
  },
  {
   "cell_type": "markdown",
   "metadata": {},
   "source": [
    "# Import Data"
   ]
  },
  {
   "cell_type": "code",
   "execution_count": 15,
   "metadata": {},
   "outputs": [],
   "source": [
    "data = pd.read_csv('hansard-1979-2018-v261.csv',engine='python')"
   ]
  },
  {
   "cell_type": "markdown",
   "metadata": {},
   "source": [
    "# Clean Data"
   ]
  },
  {
   "cell_type": "markdown",
   "metadata": {},
   "source": [
    "### Reset Data"
   ]
  },
  {
   "cell_type": "code",
   "execution_count": 16,
   "metadata": {},
   "outputs": [],
   "source": [
    "cleaned_data = data\n",
    "#cleaned_data = pd.read_csv('cleaned_data.csv')"
   ]
  },
  {
   "cell_type": "markdown",
   "metadata": {},
   "source": [
    "### Drop Columns"
   ]
  },
  {
   "cell_type": "code",
   "execution_count": 17,
   "metadata": {},
   "outputs": [],
   "source": [
    "cleaned_data = cleaned_data.drop(['pp_id','eo_id','colnum','speech_date','time',\n",
    "                'url','speaker_id','dods_id','pims_id','ministry',\n",
    "                'short_list','post_name','person_id','hansard_membership_id',\n",
    "                'mnis_id','word_count','house_start_date','date_of_birth',\n",
    "                'house_end_date'],axis=1)"
   ]
  },
  {
   "cell_type": "markdown",
   "metadata": {},
   "source": [
    "### Remove Speakers"
   ]
  },
  {
   "cell_type": "code",
   "execution_count": 18,
   "metadata": {},
   "outputs": [],
   "source": [
    "is_not_speaker = cleaned_data['as_speaker']==False"
   ]
  },
  {
   "cell_type": "code",
   "execution_count": 19,
   "metadata": {},
   "outputs": [],
   "source": [
    "cleaned_data = cleaned_data[is_not_speaker]"
   ]
  },
  {
   "cell_type": "markdown",
   "metadata": {},
   "source": [
    "### Export Cleaned Data to .csv"
   ]
  },
  {
   "cell_type": "code",
   "execution_count": 20,
   "metadata": {},
   "outputs": [],
   "source": [
    "#cleaned_data.to_csv('cleaned_data.csv')"
   ]
  },
  {
   "cell_type": "markdown",
   "metadata": {},
   "source": [
    "### Create Test Dataset"
   ]
  },
  {
   "cell_type": "code",
   "execution_count": 21,
   "metadata": {},
   "outputs": [
    {
     "data": {
      "text/html": [
       "<div>\n",
       "<style scoped>\n",
       "    .dataframe tbody tr th:only-of-type {\n",
       "        vertical-align: middle;\n",
       "    }\n",
       "\n",
       "    .dataframe tbody tr th {\n",
       "        vertical-align: top;\n",
       "    }\n",
       "\n",
       "    .dataframe thead th {\n",
       "        text-align: right;\n",
       "    }\n",
       "</style>\n",
       "<table border=\"1\" class=\"dataframe\">\n",
       "  <thead>\n",
       "    <tr style=\"text-align: right;\">\n",
       "      <th></th>\n",
       "      <th>speech</th>\n",
       "      <th>year</th>\n",
       "      <th>as_speaker</th>\n",
       "      <th>proper_name</th>\n",
       "      <th>gender</th>\n",
       "      <th>party</th>\n",
       "      <th>party_group</th>\n",
       "      <th>government</th>\n",
       "      <th>age</th>\n",
       "    </tr>\n",
       "  </thead>\n",
       "  <tbody>\n",
       "    <tr>\n",
       "      <th>0</th>\n",
       "      <td>Mr. Speaker-Elect, it is one of the happiest f...</td>\n",
       "      <td>1979</td>\n",
       "      <td>False</td>\n",
       "      <td>Margaret Thatcher</td>\n",
       "      <td>Female</td>\n",
       "      <td>Conservative</td>\n",
       "      <td>Conservative</td>\n",
       "      <td>True</td>\n",
       "      <td>53.0</td>\n",
       "    </tr>\n",
       "    <tr>\n",
       "      <th>1</th>\n",
       "      <td>Mr. Speaker-Elect, it is my very great privile...</td>\n",
       "      <td>1979</td>\n",
       "      <td>False</td>\n",
       "      <td>James Callaghan</td>\n",
       "      <td>Male</td>\n",
       "      <td>Labour</td>\n",
       "      <td>Labour</td>\n",
       "      <td>False</td>\n",
       "      <td>67.0</td>\n",
       "    </tr>\n",
       "    <tr>\n",
       "      <th>2</th>\n",
       "      <td>On behalf of my right hon. and hon. Friends, M...</td>\n",
       "      <td>1979</td>\n",
       "      <td>False</td>\n",
       "      <td>David Steel</td>\n",
       "      <td>Male</td>\n",
       "      <td>Liberal Democrat</td>\n",
       "      <td>Liberal Democrat</td>\n",
       "      <td>False</td>\n",
       "      <td>41.0</td>\n",
       "    </tr>\n",
       "    <tr>\n",
       "      <th>3</th>\n",
       "      <td>I too, wish to congratulate you, Mr. Speaker-E...</td>\n",
       "      <td>1979</td>\n",
       "      <td>False</td>\n",
       "      <td>James Molyneaux</td>\n",
       "      <td>Male</td>\n",
       "      <td>Ulster Unionist Party</td>\n",
       "      <td>Other</td>\n",
       "      <td>False</td>\n",
       "      <td>58.0</td>\n",
       "    </tr>\n",
       "    <tr>\n",
       "      <th>4</th>\n",
       "      <td>Sometimes, Mr. Speaker-Elect, the House alters...</td>\n",
       "      <td>1979</td>\n",
       "      <td>False</td>\n",
       "      <td>John Parker</td>\n",
       "      <td>Male</td>\n",
       "      <td>Labour</td>\n",
       "      <td>Labour</td>\n",
       "      <td>False</td>\n",
       "      <td>72.0</td>\n",
       "    </tr>\n",
       "  </tbody>\n",
       "</table>\n",
       "</div>"
      ],
      "text/plain": [
       "                                              speech  year  as_speaker  \\\n",
       "0  Mr. Speaker-Elect, it is one of the happiest f...  1979       False   \n",
       "1  Mr. Speaker-Elect, it is my very great privile...  1979       False   \n",
       "2  On behalf of my right hon. and hon. Friends, M...  1979       False   \n",
       "3  I too, wish to congratulate you, Mr. Speaker-E...  1979       False   \n",
       "4  Sometimes, Mr. Speaker-Elect, the House alters...  1979       False   \n",
       "\n",
       "         proper_name  gender                  party       party_group  \\\n",
       "0  Margaret Thatcher  Female           Conservative      Conservative   \n",
       "1    James Callaghan    Male                 Labour            Labour   \n",
       "2        David Steel    Male       Liberal Democrat  Liberal Democrat   \n",
       "3    James Molyneaux    Male  Ulster Unionist Party             Other   \n",
       "4        John Parker    Male                 Labour            Labour   \n",
       "\n",
       "  government   age  \n",
       "0       True  53.0  \n",
       "1      False  67.0  \n",
       "2      False  41.0  \n",
       "3      False  58.0  \n",
       "4      False  72.0  "
      ]
     },
     "execution_count": 21,
     "metadata": {},
     "output_type": "execute_result"
    }
   ],
   "source": [
    "cleaned_data.head()"
   ]
  },
  {
   "cell_type": "code",
   "execution_count": 22,
   "metadata": {},
   "outputs": [],
   "source": [
    "is_2017 = cleaned_data['year'] ==2017"
   ]
  },
  {
   "cell_type": "code",
   "execution_count": 23,
   "metadata": {},
   "outputs": [],
   "source": [
    "test_data = cleaned_data[is_2017]"
   ]
  },
  {
   "cell_type": "code",
   "execution_count": 24,
   "metadata": {},
   "outputs": [
    {
     "data": {
      "text/html": [
       "<div>\n",
       "<style scoped>\n",
       "    .dataframe tbody tr th:only-of-type {\n",
       "        vertical-align: middle;\n",
       "    }\n",
       "\n",
       "    .dataframe tbody tr th {\n",
       "        vertical-align: top;\n",
       "    }\n",
       "\n",
       "    .dataframe thead th {\n",
       "        text-align: right;\n",
       "    }\n",
       "</style>\n",
       "<table border=\"1\" class=\"dataframe\">\n",
       "  <thead>\n",
       "    <tr style=\"text-align: right;\">\n",
       "      <th></th>\n",
       "      <th>speech</th>\n",
       "      <th>year</th>\n",
       "      <th>as_speaker</th>\n",
       "      <th>proper_name</th>\n",
       "      <th>gender</th>\n",
       "      <th>party</th>\n",
       "      <th>party_group</th>\n",
       "      <th>government</th>\n",
       "      <th>age</th>\n",
       "    </tr>\n",
       "  </thead>\n",
       "  <tbody>\n",
       "    <tr>\n",
       "      <th>2145981</th>\n",
       "      <td>I completely agree with my hon. Friend. I have...</td>\n",
       "      <td>2017</td>\n",
       "      <td>False</td>\n",
       "      <td>Damian Green</td>\n",
       "      <td>Male</td>\n",
       "      <td>Conservative</td>\n",
       "      <td>Conservative</td>\n",
       "      <td>True</td>\n",
       "      <td>61.0</td>\n",
       "    </tr>\n",
       "    <tr>\n",
       "      <th>2145982</th>\n",
       "      <td>I call Mr Gerald Jones. Where is the fella? He...</td>\n",
       "      <td>2017</td>\n",
       "      <td>False</td>\n",
       "      <td>John Bercow</td>\n",
       "      <td>Male</td>\n",
       "      <td>Conservative</td>\n",
       "      <td>Conservative</td>\n",
       "      <td>True</td>\n",
       "      <td>54.0</td>\n",
       "    </tr>\n",
       "    <tr>\n",
       "      <th>2145983</th>\n",
       "      <td>What recent assessment he has made of trends i...</td>\n",
       "      <td>2017</td>\n",
       "      <td>False</td>\n",
       "      <td>Peter Dowd</td>\n",
       "      <td>Male</td>\n",
       "      <td>Labour</td>\n",
       "      <td>Labour</td>\n",
       "      <td>False</td>\n",
       "      <td>59.0</td>\n",
       "    </tr>\n",
       "    <tr>\n",
       "      <th>2145984</th>\n",
       "      <td>The Government support those who aspire to be ...</td>\n",
       "      <td>2017</td>\n",
       "      <td>False</td>\n",
       "      <td>Damian Green</td>\n",
       "      <td>Male</td>\n",
       "      <td>Conservative</td>\n",
       "      <td>Conservative</td>\n",
       "      <td>True</td>\n",
       "      <td>61.0</td>\n",
       "    </tr>\n",
       "    <tr>\n",
       "      <th>2145985</th>\n",
       "      <td>A Citizens Advice report in August 2015 said t...</td>\n",
       "      <td>2017</td>\n",
       "      <td>False</td>\n",
       "      <td>Peter Dowd</td>\n",
       "      <td>Male</td>\n",
       "      <td>Labour</td>\n",
       "      <td>Labour</td>\n",
       "      <td>False</td>\n",
       "      <td>59.0</td>\n",
       "    </tr>\n",
       "  </tbody>\n",
       "</table>\n",
       "</div>"
      ],
      "text/plain": [
       "                                                    speech  year  as_speaker  \\\n",
       "2145981  I completely agree with my hon. Friend. I have...  2017       False   \n",
       "2145982  I call Mr Gerald Jones. Where is the fella? He...  2017       False   \n",
       "2145983  What recent assessment he has made of trends i...  2017       False   \n",
       "2145984  The Government support those who aspire to be ...  2017       False   \n",
       "2145985  A Citizens Advice report in August 2015 said t...  2017       False   \n",
       "\n",
       "          proper_name gender         party   party_group government   age  \n",
       "2145981  Damian Green   Male  Conservative  Conservative       True  61.0  \n",
       "2145982   John Bercow   Male  Conservative  Conservative       True  54.0  \n",
       "2145983    Peter Dowd   Male        Labour        Labour      False  59.0  \n",
       "2145984  Damian Green   Male  Conservative  Conservative       True  61.0  \n",
       "2145985    Peter Dowd   Male        Labour        Labour      False  59.0  "
      ]
     },
     "execution_count": 24,
     "metadata": {},
     "output_type": "execute_result"
    }
   ],
   "source": [
    "test_data.head()"
   ]
  },
  {
   "cell_type": "markdown",
   "metadata": {},
   "source": [
    "# Data Manipulation: Speeches"
   ]
  },
  {
   "cell_type": "markdown",
   "metadata": {},
   "source": [
    "### Defining Functions to manipulate text"
   ]
  },
  {
   "cell_type": "code",
   "execution_count": 25,
   "metadata": {},
   "outputs": [
    {
     "name": "stderr",
     "output_type": "stream",
     "text": [
      "<>:13: DeprecationWarning: invalid escape sequence \\d\n",
      "<>:15: DeprecationWarning: invalid escape sequence \\w\n",
      "<>:13: DeprecationWarning: invalid escape sequence \\d\n",
      "<>:15: DeprecationWarning: invalid escape sequence \\w\n",
      "<>:13: DeprecationWarning: invalid escape sequence \\d\n",
      "<>:15: DeprecationWarning: invalid escape sequence \\w\n",
      "<ipython-input-25-9b2394d5bf9d>:13: DeprecationWarning: invalid escape sequence \\d\n",
      "  new_string = re.sub('\\d+', '', new_string\n",
      "<ipython-input-25-9b2394d5bf9d>:15: DeprecationWarning: invalid escape sequence \\w\n",
      "  new_string = re.sub('[^\\w\\s]', ' ', new_string\n"
     ]
    }
   ],
   "source": [
    "def clean_up(s):\n",
    "    \"\"\"\n",
    "    Cleans up numbers, URLs, and special characters from a string.\n",
    "\n",
    "    Args:\n",
    "        s: The string to be cleaned up.\n",
    "\n",
    "    Returns:\n",
    "        A string that has been cleaned up.\n",
    "    \"\"\"\n",
    "    new_string = re.sub(r'^https?:\\/\\/.*[\\r\\n]*', '', s\n",
    "                       ) \n",
    "    new_string = re.sub('\\d+', '', new_string\n",
    "                       )\n",
    "    new_string = re.sub('[^\\w\\s]', ' ', new_string\n",
    "                       )\n",
    "    return new_string.lower()"
   ]
  },
  {
   "cell_type": "code",
   "execution_count": 26,
   "metadata": {},
   "outputs": [],
   "source": [
    "def tokenize(s):\n",
    "    \"\"\"\n",
    "    Tokenize a string.\n",
    "\n",
    "    Args:\n",
    "        s: String to be tokenized.\n",
    "\n",
    "    Returns:\n",
    "        A list of words as the result of tokenization.\n",
    "    \"\"\"\n",
    "    return nltk.word_tokenize(s)"
   ]
  },
  {
   "cell_type": "code",
   "execution_count": 27,
   "metadata": {},
   "outputs": [],
   "source": [
    "def stem_and_lemmatize(l):\n",
    "    \"\"\"\n",
    "    Perform stemming and lemmatization on a list of words.\n",
    "\n",
    "    Args:\n",
    "        l: A list of strings.\n",
    "\n",
    "    Returns:\n",
    "        A list of strings after being stemmed and lemmatized.\n",
    "    \"\"\"\n",
    "    ps = PorterStemmer()\n",
    "    new_l = ([ps.stem(w) for w in l]\n",
    "         )\n",
    "\n",
    "    lemmatizer = WordNetLemmatizer()\n",
    "    new_l = ([lemmatizer.lemmatize(w) for w in new_l]\n",
    "            ) \n",
    "    \n",
    "    return new_l"
   ]
  },
  {
   "cell_type": "markdown",
   "metadata": {},
   "source": [
    "### Clean-up data"
   ]
  },
  {
   "cell_type": "code",
   "execution_count": 28,
   "metadata": {},
   "outputs": [
    {
     "name": "stderr",
     "output_type": "stream",
     "text": [
      "C:\\Users\\lukes\\Anaconda3\\lib\\site-packages\\ipykernel_launcher.py:1: SettingWithCopyWarning: \n",
      "A value is trying to be set on a copy of a slice from a DataFrame.\n",
      "Try using .loc[row_indexer,col_indexer] = value instead\n",
      "\n",
      "See the caveats in the documentation: http://pandas.pydata.org/pandas-docs/stable/indexing.html#indexing-view-versus-copy\n",
      "  \"\"\"Entry point for launching an IPython kernel.\n"
     ]
    }
   ],
   "source": [
    "test_data['speech'] = test_data['speech'].apply(lambda x: clean_up(x))"
   ]
  },
  {
   "cell_type": "markdown",
   "metadata": {},
   "source": [
    "### Tokenize data"
   ]
  },
  {
   "cell_type": "code",
   "execution_count": 29,
   "metadata": {},
   "outputs": [
    {
     "name": "stderr",
     "output_type": "stream",
     "text": [
      "C:\\Users\\lukes\\Anaconda3\\lib\\site-packages\\ipykernel_launcher.py:1: SettingWithCopyWarning: \n",
      "A value is trying to be set on a copy of a slice from a DataFrame.\n",
      "Try using .loc[row_indexer,col_indexer] = value instead\n",
      "\n",
      "See the caveats in the documentation: http://pandas.pydata.org/pandas-docs/stable/indexing.html#indexing-view-versus-copy\n",
      "  \"\"\"Entry point for launching an IPython kernel.\n"
     ]
    }
   ],
   "source": [
    "test_data['speech'] = test_data['speech'].apply(lambda x: tokenize(x))"
   ]
  },
  {
   "cell_type": "markdown",
   "metadata": {},
   "source": [
    "### Stem and Lemmatize data"
   ]
  },
  {
   "cell_type": "code",
   "execution_count": 30,
   "metadata": {},
   "outputs": [
    {
     "name": "stderr",
     "output_type": "stream",
     "text": [
      "C:\\Users\\lukes\\Anaconda3\\lib\\site-packages\\ipykernel_launcher.py:1: SettingWithCopyWarning: \n",
      "A value is trying to be set on a copy of a slice from a DataFrame.\n",
      "Try using .loc[row_indexer,col_indexer] = value instead\n",
      "\n",
      "See the caveats in the documentation: http://pandas.pydata.org/pandas-docs/stable/indexing.html#indexing-view-versus-copy\n",
      "  \"\"\"Entry point for launching an IPython kernel.\n"
     ]
    }
   ],
   "source": [
    "test_data['speech'] = test_data['speech'].apply(lambda x: stem_and_lemmatize(x))"
   ]
  },
  {
   "cell_type": "markdown",
   "metadata": {},
   "source": [
    "### Remove stopwords"
   ]
  },
  {
   "cell_type": "code",
   "execution_count": 31,
   "metadata": {},
   "outputs": [
    {
     "name": "stderr",
     "output_type": "stream",
     "text": [
      "C:\\Users\\lukes\\Anaconda3\\lib\\site-packages\\ipykernel_launcher.py:2: SettingWithCopyWarning: \n",
      "A value is trying to be set on a copy of a slice from a DataFrame.\n",
      "Try using .loc[row_indexer,col_indexer] = value instead\n",
      "\n",
      "See the caveats in the documentation: http://pandas.pydata.org/pandas-docs/stable/indexing.html#indexing-view-versus-copy\n",
      "  \n"
     ]
    }
   ],
   "source": [
    "stop_words = stopwords.words('english')\n",
    "test_data['speech'] = test_data['speech'].apply(lambda x: [item for item in x if item not in stop_words])"
   ]
  },
  {
   "cell_type": "markdown",
   "metadata": {},
   "source": [
    "### Remove procedural language"
   ]
  },
  {
   "cell_type": "code",
   "execution_count": 32,
   "metadata": {},
   "outputs": [],
   "source": [
    "proc_lang = ['parliament','govern','opposit','vote','motion','speech','speaker','select','leader','prime',\n",
    "             'chamber','answer','lord','ladi','back','second','day','view','read','today','n','c','right',\n",
    "             'hon','member','motion','learn','friend','mr','elect','ha','hi','thi','wa','hous']\n",
    "for i in test_data['speech']:\n",
    "    for j in i:\n",
    "        if j in proc_lang:\n",
    "            i.remove(j)"
   ]
  },
  {
   "cell_type": "code",
   "execution_count": 33,
   "metadata": {},
   "outputs": [],
   "source": [
    "test_data.to_csv('test_data.csv')"
   ]
  },
  {
   "cell_type": "code",
   "execution_count": 34,
   "metadata": {},
   "outputs": [],
   "source": [
    "#test_data = pd.read_csv('test_data.csv')"
   ]
  },
  {
   "cell_type": "code",
   "execution_count": 35,
   "metadata": {},
   "outputs": [
    {
     "data": {
      "text/html": [
       "<div>\n",
       "<style scoped>\n",
       "    .dataframe tbody tr th:only-of-type {\n",
       "        vertical-align: middle;\n",
       "    }\n",
       "\n",
       "    .dataframe tbody tr th {\n",
       "        vertical-align: top;\n",
       "    }\n",
       "\n",
       "    .dataframe thead th {\n",
       "        text-align: right;\n",
       "    }\n",
       "</style>\n",
       "<table border=\"1\" class=\"dataframe\">\n",
       "  <thead>\n",
       "    <tr style=\"text-align: right;\">\n",
       "      <th></th>\n",
       "      <th>speech</th>\n",
       "      <th>year</th>\n",
       "      <th>as_speaker</th>\n",
       "      <th>proper_name</th>\n",
       "      <th>gender</th>\n",
       "      <th>party</th>\n",
       "      <th>party_group</th>\n",
       "      <th>government</th>\n",
       "      <th>age</th>\n",
       "    </tr>\n",
       "  </thead>\n",
       "  <tbody>\n",
       "    <tr>\n",
       "      <th>2145981</th>\n",
       "      <td>[complet, agre, friend, alreadi, mention, new,...</td>\n",
       "      <td>2017</td>\n",
       "      <td>False</td>\n",
       "      <td>Damian Green</td>\n",
       "      <td>Male</td>\n",
       "      <td>Conservative</td>\n",
       "      <td>Conservative</td>\n",
       "      <td>True</td>\n",
       "      <td>61.0</td>\n",
       "    </tr>\n",
       "    <tr>\n",
       "      <th>2145982</th>\n",
       "      <td>[call, gerald, jone, fella]</td>\n",
       "      <td>2017</td>\n",
       "      <td>False</td>\n",
       "      <td>John Bercow</td>\n",
       "      <td>Male</td>\n",
       "      <td>Conservative</td>\n",
       "      <td>Conservative</td>\n",
       "      <td>True</td>\n",
       "      <td>54.0</td>\n",
       "    </tr>\n",
       "    <tr>\n",
       "      <th>2145983</th>\n",
       "      <td>[recent, ass, made, trend, level, self, employ]</td>\n",
       "      <td>2017</td>\n",
       "      <td>False</td>\n",
       "      <td>Peter Dowd</td>\n",
       "      <td>Male</td>\n",
       "      <td>Labour</td>\n",
       "      <td>Labour</td>\n",
       "      <td>False</td>\n",
       "      <td>59.0</td>\n",
       "    </tr>\n",
       "    <tr>\n",
       "      <th>2145984</th>\n",
       "      <td>[support, aspir, bos, number, self, employ, pe...</td>\n",
       "      <td>2017</td>\n",
       "      <td>False</td>\n",
       "      <td>Damian Green</td>\n",
       "      <td>Male</td>\n",
       "      <td>Conservative</td>\n",
       "      <td>Conservative</td>\n",
       "      <td>True</td>\n",
       "      <td>61.0</td>\n",
       "    </tr>\n",
       "    <tr>\n",
       "      <th>2145985</th>\n",
       "      <td>[citizen, advic, report, august, said, mani, p...</td>\n",
       "      <td>2017</td>\n",
       "      <td>False</td>\n",
       "      <td>Peter Dowd</td>\n",
       "      <td>Male</td>\n",
       "      <td>Labour</td>\n",
       "      <td>Labour</td>\n",
       "      <td>False</td>\n",
       "      <td>59.0</td>\n",
       "    </tr>\n",
       "  </tbody>\n",
       "</table>\n",
       "</div>"
      ],
      "text/plain": [
       "                                                    speech  year  as_speaker  \\\n",
       "2145981  [complet, agre, friend, alreadi, mention, new,...  2017       False   \n",
       "2145982                        [call, gerald, jone, fella]  2017       False   \n",
       "2145983    [recent, ass, made, trend, level, self, employ]  2017       False   \n",
       "2145984  [support, aspir, bos, number, self, employ, pe...  2017       False   \n",
       "2145985  [citizen, advic, report, august, said, mani, p...  2017       False   \n",
       "\n",
       "          proper_name gender         party   party_group government   age  \n",
       "2145981  Damian Green   Male  Conservative  Conservative       True  61.0  \n",
       "2145982   John Bercow   Male  Conservative  Conservative       True  54.0  \n",
       "2145983    Peter Dowd   Male        Labour        Labour      False  59.0  \n",
       "2145984  Damian Green   Male  Conservative  Conservative       True  61.0  \n",
       "2145985    Peter Dowd   Male        Labour        Labour      False  59.0  "
      ]
     },
     "execution_count": 35,
     "metadata": {},
     "output_type": "execute_result"
    }
   ],
   "source": [
    "test_data.head()"
   ]
  },
  {
   "cell_type": "markdown",
   "metadata": {},
   "source": [
    "# Data Manipulation: Bag of Words"
   ]
  },
  {
   "cell_type": "code",
   "execution_count": 36,
   "metadata": {},
   "outputs": [],
   "source": [
    "all_words = [j for i in test_data['speech'].tolist() for j in i]"
   ]
  },
  {
   "cell_type": "code",
   "execution_count": 37,
   "metadata": {},
   "outputs": [],
   "source": [
    "all_words = nltk.FreqDist(all_words)"
   ]
  },
  {
   "cell_type": "markdown",
   "metadata": {},
   "source": [
    "# Word Vectors"
   ]
  },
  {
   "cell_type": "code",
   "execution_count": 38,
   "metadata": {},
   "outputs": [],
   "source": [
    "model = gensim.models.Word2Vec(test_data['speech'], \n",
    "                               min_count = 1,  \n",
    "                               size = 100, \n",
    "                               window = 5) "
   ]
  },
  {
   "cell_type": "code",
   "execution_count": 39,
   "metadata": {},
   "outputs": [],
   "source": [
    "dictionary = gensim.corpora.Dictionary(test_data['speech'])"
   ]
  },
  {
   "cell_type": "code",
   "execution_count": 40,
   "metadata": {},
   "outputs": [],
   "source": [
    "corpus = [dictionary.doc2bow(i) for i in test_data['speech']]"
   ]
  },
  {
   "cell_type": "markdown",
   "metadata": {},
   "source": [
    "# Running LDA Model"
   ]
  },
  {
   "cell_type": "code",
   "execution_count": 94,
   "metadata": {},
   "outputs": [],
   "source": [
    "lda_model =  gensim.models.LdaMulticore(corpus, \n",
    "                                        num_topics = 8, \n",
    "                                        id2word = dictionary,                                    \n",
    "                                        passes = 10,\n",
    "                                        workers = 2,\n",
    "                                       random_state=49)"
   ]
  },
  {
   "cell_type": "code",
   "execution_count": 95,
   "metadata": {},
   "outputs": [
    {
     "name": "stdout",
     "output_type": "stream",
     "text": [
      "Topic: 0 \n",
      "Words: 0.021*\"bill\" + 0.017*\"amend\" + 0.013*\"claus\" + 0.012*\"law\" + 0.012*\"would\" + 0.011*\"legisl\" + 0.010*\"power\" + 0.009*\"committe\" + 0.008*\"new\" + 0.007*\"make\"\n",
      "\n",
      "\n",
      "Topic: 1 \n",
      "Words: 0.014*\"work\" + 0.012*\"peopl\" + 0.008*\"constitu\" + 0.008*\"need\" + 0.008*\"care\" + 0.007*\"servic\" + 0.007*\"support\" + 0.006*\"mani\" + 0.006*\"local\" + 0.006*\"hea\"\n",
      "\n",
      "\n",
      "Topic: 2 \n",
      "Words: 0.010*\"work\" + 0.010*\"â\" + 0.010*\"fund\" + 0.008*\"year\" + 0.008*\"need\" + 0.007*\"local\" + 0.007*\"peopl\" + 0.007*\"univers\" + 0.007*\"invest\" + 0.007*\"new\"\n",
      "\n",
      "\n",
      "Topic: 3 \n",
      "Words: 0.013*\"would\" + 0.012*\"say\" + 0.011*\"hon\" + 0.011*\"veri\" + 0.010*\"minist\" + 0.010*\"gentleman\" + 0.010*\"point\" + 0.009*\"way\" + 0.009*\"debat\" + 0.009*\"peopl\"\n",
      "\n",
      "\n",
      "Topic: 4 \n",
      "Words: 0.046*\"â\" + 0.015*\"polic\" + 0.013*\"prison\" + 0.012*\"report\" + 0.011*\"offic\" + 0.010*\"forc\" + 0.009*\"secretari\" + 0.009*\"minist\" + 0.009*\"year\" + 0.009*\"state\"\n",
      "\n",
      "\n",
      "Topic: 5 \n",
      "Words: 0.011*\"countri\" + 0.008*\"world\" + 0.008*\"uk\" + 0.008*\"intern\" + 0.007*\"secur\" + 0.007*\"peopl\" + 0.007*\"foreign\" + 0.006*\"state\" + 0.006*\"british\" + 0.005*\"u\"\n",
      "\n",
      "\n",
      "Topic: 6 \n",
      "Words: 0.029*\"eu\" + 0.022*\"european\" + 0.021*\"uk\" + 0.019*\"union\" + 0.013*\"trade\" + 0.013*\"leav\" + 0.012*\"ireland\" + 0.012*\"northern\" + 0.011*\"agreement\" + 0.011*\"negoti\"\n",
      "\n",
      "\n",
      "Topic: 7 \n",
      "Words: 0.019*\"â\" + 0.018*\"tax\" + 0.012*\"pay\" + 0.012*\"peopl\" + 0.011*\"would\" + 0.009*\"money\" + 0.008*\"public\" + 0.008*\"bank\" + 0.007*\"year\" + 0.007*\"billion\"\n",
      "\n",
      "\n"
     ]
    }
   ],
   "source": [
    "for idx, topic in lda_model.print_topics(-1):\n",
    "    print(\"Topic: {} \\nWords: {}\".format(idx, topic))\n",
    "    print(\"\\n\")"
   ]
  },
  {
   "cell_type": "markdown",
   "metadata": {},
   "source": [
    "# Extract Dataframe of Topics"
   ]
  },
  {
   "cell_type": "code",
   "execution_count": 50,
   "metadata": {},
   "outputs": [
    {
     "name": "stdout",
     "output_type": "stream",
     "text": [
      "0\n",
      "1\n",
      "2\n",
      "3\n",
      "4\n",
      "5\n",
      "6\n",
      "7\n"
     ]
    }
   ],
   "source": [
    "for idx, topic in lda_model.print_topics(-1):\n",
    "    print(idx)"
   ]
  },
  {
   "cell_type": "markdown",
   "metadata": {},
   "source": [
    "# Find Dominant Topic in each Speech"
   ]
  },
  {
   "cell_type": "code",
   "execution_count": 51,
   "metadata": {},
   "outputs": [],
   "source": [
    "def format_topics_sentences(ldamodel=lda_model, bow_corpus=corpus, texts=test_data['speech']):\n",
    "    # Init output\n",
    "    sent_topics_df = pd.DataFrame()\n",
    "\n",
    "    # Get main topic in each document\n",
    "    for i, row in enumerate(ldamodel[corpus]):\n",
    "        row = sorted(row, key=lambda x: (x[1]), reverse=True)\n",
    "        # Get the Dominant topic, Perc Contribution and Keywords for each document\n",
    "        for j, (topic_num, prop_topic) in enumerate(row):\n",
    "            if j == 0:  # => dominant topic\n",
    "                wp = ldamodel.show_topic(topic_num)\n",
    "                topic_keywords = \", \".join([word for word, prop in wp])\n",
    "                sent_topics_df = sent_topics_df.append(pd.Series([int(topic_num), round(prop_topic,4), topic_keywords]), ignore_index=True)\n",
    "            else:\n",
    "                break\n",
    "    sent_topics_df.columns = ['Dominant_Topic', 'Perc_Contribution', 'Topic_Keywords']\n",
    "\n",
    "    return(sent_topics_df)"
   ]
  },
  {
   "cell_type": "code",
   "execution_count": 52,
   "metadata": {},
   "outputs": [],
   "source": [
    "df_topic_sents_keywords = format_topics_sentences(ldamodel=lda_model, \n",
    "                                                  bow_corpus=corpus, \n",
    "                                                  texts=test_data['speech'])"
   ]
  },
  {
   "cell_type": "code",
   "execution_count": 53,
   "metadata": {},
   "outputs": [
    {
     "data": {
      "text/html": [
       "<div>\n",
       "<style scoped>\n",
       "    .dataframe tbody tr th:only-of-type {\n",
       "        vertical-align: middle;\n",
       "    }\n",
       "\n",
       "    .dataframe tbody tr th {\n",
       "        vertical-align: top;\n",
       "    }\n",
       "\n",
       "    .dataframe thead th {\n",
       "        text-align: right;\n",
       "    }\n",
       "</style>\n",
       "<table border=\"1\" class=\"dataframe\">\n",
       "  <thead>\n",
       "    <tr style=\"text-align: right;\">\n",
       "      <th></th>\n",
       "      <th>Dominant_Topic</th>\n",
       "      <th>Perc_Contribution</th>\n",
       "      <th>Topic_Keywords</th>\n",
       "    </tr>\n",
       "  </thead>\n",
       "  <tbody>\n",
       "    <tr>\n",
       "      <th>0</th>\n",
       "      <td>3.0</td>\n",
       "      <td>0.4356</td>\n",
       "      <td>â, univers, credit, work, peopl, pension, amen...</td>\n",
       "    </tr>\n",
       "    <tr>\n",
       "      <th>1</th>\n",
       "      <td>2.0</td>\n",
       "      <td>0.8247</td>\n",
       "      <td>hon, debat, minist, gentleman, point, way, giv...</td>\n",
       "    </tr>\n",
       "    <tr>\n",
       "      <th>2</th>\n",
       "      <td>3.0</td>\n",
       "      <td>0.8905</td>\n",
       "      <td>â, univers, credit, work, peopl, pension, amen...</td>\n",
       "    </tr>\n",
       "    <tr>\n",
       "      <th>3</th>\n",
       "      <td>7.0</td>\n",
       "      <td>0.5681</td>\n",
       "      <td>â, fund, year, tax, budget, care, need, peopl,...</td>\n",
       "    </tr>\n",
       "    <tr>\n",
       "      <th>4</th>\n",
       "      <td>3.0</td>\n",
       "      <td>0.6912</td>\n",
       "      <td>â, univers, credit, work, peopl, pension, amen...</td>\n",
       "    </tr>\n",
       "  </tbody>\n",
       "</table>\n",
       "</div>"
      ],
      "text/plain": [
       "   Dominant_Topic  Perc_Contribution  \\\n",
       "0             3.0             0.4356   \n",
       "1             2.0             0.8247   \n",
       "2             3.0             0.8905   \n",
       "3             7.0             0.5681   \n",
       "4             3.0             0.6912   \n",
       "\n",
       "                                      Topic_Keywords  \n",
       "0  â, univers, credit, work, peopl, pension, amen...  \n",
       "1  hon, debat, minist, gentleman, point, way, giv...  \n",
       "2  â, univers, credit, work, peopl, pension, amen...  \n",
       "3  â, fund, year, tax, budget, care, need, peopl,...  \n",
       "4  â, univers, credit, work, peopl, pension, amen...  "
      ]
     },
     "execution_count": 53,
     "metadata": {},
     "output_type": "execute_result"
    }
   ],
   "source": [
    "df_topic_sents_keywords.head()"
   ]
  },
  {
   "cell_type": "code",
   "execution_count": 54,
   "metadata": {},
   "outputs": [],
   "source": [
    "test_data = test_data.reset_index()"
   ]
  },
  {
   "cell_type": "code",
   "execution_count": 55,
   "metadata": {},
   "outputs": [],
   "source": [
    "final_data = test_data.merge(df_topic_sents_keywords,left_on=test_data.index,right_on=df_topic_sents_keywords.index)"
   ]
  },
  {
   "cell_type": "code",
   "execution_count": 56,
   "metadata": {},
   "outputs": [],
   "source": [
    "final_data['speeches_count'] = final_data.groupby('proper_name')['proper_name'].transform('count')"
   ]
  },
  {
   "cell_type": "code",
   "execution_count": 57,
   "metadata": {},
   "outputs": [
    {
     "data": {
      "text/html": [
       "<div>\n",
       "<style scoped>\n",
       "    .dataframe tbody tr th:only-of-type {\n",
       "        vertical-align: middle;\n",
       "    }\n",
       "\n",
       "    .dataframe tbody tr th {\n",
       "        vertical-align: top;\n",
       "    }\n",
       "\n",
       "    .dataframe thead th {\n",
       "        text-align: right;\n",
       "    }\n",
       "</style>\n",
       "<table border=\"1\" class=\"dataframe\">\n",
       "  <thead>\n",
       "    <tr style=\"text-align: right;\">\n",
       "      <th></th>\n",
       "      <th>key_0</th>\n",
       "      <th>index</th>\n",
       "      <th>speech</th>\n",
       "      <th>year</th>\n",
       "      <th>as_speaker</th>\n",
       "      <th>proper_name</th>\n",
       "      <th>gender</th>\n",
       "      <th>party</th>\n",
       "      <th>party_group</th>\n",
       "      <th>government</th>\n",
       "      <th>age</th>\n",
       "      <th>Dominant_Topic</th>\n",
       "      <th>Perc_Contribution</th>\n",
       "      <th>Topic_Keywords</th>\n",
       "      <th>speeches_count</th>\n",
       "    </tr>\n",
       "  </thead>\n",
       "  <tbody>\n",
       "    <tr>\n",
       "      <th>0</th>\n",
       "      <td>0</td>\n",
       "      <td>2145981</td>\n",
       "      <td>[complet, agre, friend, alreadi, mention, new,...</td>\n",
       "      <td>2017</td>\n",
       "      <td>False</td>\n",
       "      <td>Damian Green</td>\n",
       "      <td>Male</td>\n",
       "      <td>Conservative</td>\n",
       "      <td>Conservative</td>\n",
       "      <td>True</td>\n",
       "      <td>61.0</td>\n",
       "      <td>3.0</td>\n",
       "      <td>0.4356</td>\n",
       "      <td>â, univers, credit, work, peopl, pension, amen...</td>\n",
       "      <td>359</td>\n",
       "    </tr>\n",
       "    <tr>\n",
       "      <th>1</th>\n",
       "      <td>1</td>\n",
       "      <td>2145982</td>\n",
       "      <td>[call, gerald, jone, fella]</td>\n",
       "      <td>2017</td>\n",
       "      <td>False</td>\n",
       "      <td>John Bercow</td>\n",
       "      <td>Male</td>\n",
       "      <td>Conservative</td>\n",
       "      <td>Conservative</td>\n",
       "      <td>True</td>\n",
       "      <td>54.0</td>\n",
       "      <td>2.0</td>\n",
       "      <td>0.8247</td>\n",
       "      <td>hon, debat, minist, gentleman, point, way, giv...</td>\n",
       "      <td>2276</td>\n",
       "    </tr>\n",
       "    <tr>\n",
       "      <th>2</th>\n",
       "      <td>2</td>\n",
       "      <td>2145983</td>\n",
       "      <td>[recent, ass, made, trend, level, self, employ]</td>\n",
       "      <td>2017</td>\n",
       "      <td>False</td>\n",
       "      <td>Peter Dowd</td>\n",
       "      <td>Male</td>\n",
       "      <td>Labour</td>\n",
       "      <td>Labour</td>\n",
       "      <td>False</td>\n",
       "      <td>59.0</td>\n",
       "      <td>3.0</td>\n",
       "      <td>0.8905</td>\n",
       "      <td>â, univers, credit, work, peopl, pension, amen...</td>\n",
       "      <td>192</td>\n",
       "    </tr>\n",
       "    <tr>\n",
       "      <th>3</th>\n",
       "      <td>3</td>\n",
       "      <td>2145984</td>\n",
       "      <td>[support, aspir, bos, number, self, employ, pe...</td>\n",
       "      <td>2017</td>\n",
       "      <td>False</td>\n",
       "      <td>Damian Green</td>\n",
       "      <td>Male</td>\n",
       "      <td>Conservative</td>\n",
       "      <td>Conservative</td>\n",
       "      <td>True</td>\n",
       "      <td>61.0</td>\n",
       "      <td>7.0</td>\n",
       "      <td>0.5681</td>\n",
       "      <td>â, fund, year, tax, budget, care, need, peopl,...</td>\n",
       "      <td>359</td>\n",
       "    </tr>\n",
       "    <tr>\n",
       "      <th>4</th>\n",
       "      <td>4</td>\n",
       "      <td>2145985</td>\n",
       "      <td>[citizen, advic, report, august, said, mani, p...</td>\n",
       "      <td>2017</td>\n",
       "      <td>False</td>\n",
       "      <td>Peter Dowd</td>\n",
       "      <td>Male</td>\n",
       "      <td>Labour</td>\n",
       "      <td>Labour</td>\n",
       "      <td>False</td>\n",
       "      <td>59.0</td>\n",
       "      <td>3.0</td>\n",
       "      <td>0.6912</td>\n",
       "      <td>â, univers, credit, work, peopl, pension, amen...</td>\n",
       "      <td>192</td>\n",
       "    </tr>\n",
       "  </tbody>\n",
       "</table>\n",
       "</div>"
      ],
      "text/plain": [
       "   key_0    index                                             speech  year  \\\n",
       "0      0  2145981  [complet, agre, friend, alreadi, mention, new,...  2017   \n",
       "1      1  2145982                        [call, gerald, jone, fella]  2017   \n",
       "2      2  2145983    [recent, ass, made, trend, level, self, employ]  2017   \n",
       "3      3  2145984  [support, aspir, bos, number, self, employ, pe...  2017   \n",
       "4      4  2145985  [citizen, advic, report, august, said, mani, p...  2017   \n",
       "\n",
       "   as_speaker   proper_name gender         party   party_group government  \\\n",
       "0       False  Damian Green   Male  Conservative  Conservative       True   \n",
       "1       False   John Bercow   Male  Conservative  Conservative       True   \n",
       "2       False    Peter Dowd   Male        Labour        Labour      False   \n",
       "3       False  Damian Green   Male  Conservative  Conservative       True   \n",
       "4       False    Peter Dowd   Male        Labour        Labour      False   \n",
       "\n",
       "    age  Dominant_Topic  Perc_Contribution  \\\n",
       "0  61.0             3.0             0.4356   \n",
       "1  54.0             2.0             0.8247   \n",
       "2  59.0             3.0             0.8905   \n",
       "3  61.0             7.0             0.5681   \n",
       "4  59.0             3.0             0.6912   \n",
       "\n",
       "                                      Topic_Keywords  speeches_count  \n",
       "0  â, univers, credit, work, peopl, pension, amen...             359  \n",
       "1  hon, debat, minist, gentleman, point, way, giv...            2276  \n",
       "2  â, univers, credit, work, peopl, pension, amen...             192  \n",
       "3  â, fund, year, tax, budget, care, need, peopl,...             359  \n",
       "4  â, univers, credit, work, peopl, pension, amen...             192  "
      ]
     },
     "execution_count": 57,
     "metadata": {},
     "output_type": "execute_result"
    }
   ],
   "source": [
    "final_data.head()"
   ]
  },
  {
   "cell_type": "code",
   "execution_count": 65,
   "metadata": {},
   "outputs": [],
   "source": [
    "model_data = final_data.pivot_table(index='proper_name', columns='Dominant_Topic', aggfunc='count',fill_value=0)"
   ]
  },
  {
   "cell_type": "code",
   "execution_count": 66,
   "metadata": {},
   "outputs": [],
   "source": [
    "model_data = model_data.iloc[: , [0,1,2,3,4,5,6,7]]"
   ]
  },
  {
   "cell_type": "code",
   "execution_count": 67,
   "metadata": {},
   "outputs": [],
   "source": [
    "model_data.columns = model_data.columns.droplevel()"
   ]
  },
  {
   "cell_type": "code",
   "execution_count": 68,
   "metadata": {},
   "outputs": [],
   "source": [
    "model_data = pd.merge(model_data, final_data, how='left', on=\"proper_name\")"
   ]
  },
  {
   "cell_type": "code",
   "execution_count": 69,
   "metadata": {},
   "outputs": [],
   "source": [
    "grouped_final_data = model_data.drop(['index','speech','key_0','as_speaker','party','Dominant_Topic',\n",
    "                                      'Perc_Contribution','Topic_Keywords'],axis=1)"
   ]
  },
  {
   "cell_type": "code",
   "execution_count": 70,
   "metadata": {},
   "outputs": [],
   "source": [
    "grouped_final_data = grouped_final_data.drop_duplicates(subset=\"proper_name\")"
   ]
  },
  {
   "cell_type": "code",
   "execution_count": 71,
   "metadata": {},
   "outputs": [
    {
     "data": {
      "text/html": [
       "<div>\n",
       "<style scoped>\n",
       "    .dataframe tbody tr th:only-of-type {\n",
       "        vertical-align: middle;\n",
       "    }\n",
       "\n",
       "    .dataframe tbody tr th {\n",
       "        vertical-align: top;\n",
       "    }\n",
       "\n",
       "    .dataframe thead th {\n",
       "        text-align: right;\n",
       "    }\n",
       "</style>\n",
       "<table border=\"1\" class=\"dataframe\">\n",
       "  <thead>\n",
       "    <tr style=\"text-align: right;\">\n",
       "      <th></th>\n",
       "      <th>proper_name</th>\n",
       "      <th>0.0</th>\n",
       "      <th>1.0</th>\n",
       "      <th>2.0</th>\n",
       "      <th>3.0</th>\n",
       "      <th>4.0</th>\n",
       "      <th>5.0</th>\n",
       "      <th>6.0</th>\n",
       "      <th>7.0</th>\n",
       "      <th>year</th>\n",
       "      <th>gender</th>\n",
       "      <th>party_group</th>\n",
       "      <th>government</th>\n",
       "      <th>age</th>\n",
       "      <th>speeches_count</th>\n",
       "    </tr>\n",
       "  </thead>\n",
       "  <tbody>\n",
       "    <tr>\n",
       "      <th>0</th>\n",
       "      <td>Adam Afriyie</td>\n",
       "      <td>1</td>\n",
       "      <td>2</td>\n",
       "      <td>2</td>\n",
       "      <td>0</td>\n",
       "      <td>1</td>\n",
       "      <td>2</td>\n",
       "      <td>5</td>\n",
       "      <td>3</td>\n",
       "      <td>2017</td>\n",
       "      <td>Male</td>\n",
       "      <td>Conservative</td>\n",
       "      <td>True</td>\n",
       "      <td>51.0</td>\n",
       "      <td>16</td>\n",
       "    </tr>\n",
       "    <tr>\n",
       "      <th>16</th>\n",
       "      <td>Adam Holloway</td>\n",
       "      <td>1</td>\n",
       "      <td>1</td>\n",
       "      <td>2</td>\n",
       "      <td>0</td>\n",
       "      <td>0</td>\n",
       "      <td>7</td>\n",
       "      <td>1</td>\n",
       "      <td>0</td>\n",
       "      <td>2017</td>\n",
       "      <td>Male</td>\n",
       "      <td>Conservative</td>\n",
       "      <td>True</td>\n",
       "      <td>52.0</td>\n",
       "      <td>12</td>\n",
       "    </tr>\n",
       "    <tr>\n",
       "      <th>28</th>\n",
       "      <td>Adrian Bailey</td>\n",
       "      <td>2</td>\n",
       "      <td>8</td>\n",
       "      <td>0</td>\n",
       "      <td>0</td>\n",
       "      <td>4</td>\n",
       "      <td>1</td>\n",
       "      <td>6</td>\n",
       "      <td>8</td>\n",
       "      <td>2017</td>\n",
       "      <td>Male</td>\n",
       "      <td>Labour</td>\n",
       "      <td>False</td>\n",
       "      <td>71.0</td>\n",
       "      <td>29</td>\n",
       "    </tr>\n",
       "    <tr>\n",
       "      <th>57</th>\n",
       "      <td>Afzal Khan</td>\n",
       "      <td>11</td>\n",
       "      <td>9</td>\n",
       "      <td>4</td>\n",
       "      <td>4</td>\n",
       "      <td>1</td>\n",
       "      <td>1</td>\n",
       "      <td>4</td>\n",
       "      <td>3</td>\n",
       "      <td>2017</td>\n",
       "      <td>Male</td>\n",
       "      <td>Labour</td>\n",
       "      <td>False</td>\n",
       "      <td>59.0</td>\n",
       "      <td>37</td>\n",
       "    </tr>\n",
       "    <tr>\n",
       "      <th>94</th>\n",
       "      <td>Alan Brown</td>\n",
       "      <td>20</td>\n",
       "      <td>40</td>\n",
       "      <td>26</td>\n",
       "      <td>10</td>\n",
       "      <td>16</td>\n",
       "      <td>19</td>\n",
       "      <td>48</td>\n",
       "      <td>35</td>\n",
       "      <td>2017</td>\n",
       "      <td>Male</td>\n",
       "      <td>SNP</td>\n",
       "      <td>False</td>\n",
       "      <td>46.0</td>\n",
       "      <td>214</td>\n",
       "    </tr>\n",
       "  </tbody>\n",
       "</table>\n",
       "</div>"
      ],
      "text/plain": [
       "      proper_name  0.0  1.0  2.0  3.0  4.0  5.0  6.0  7.0  year gender  \\\n",
       "0    Adam Afriyie    1    2    2    0    1    2    5    3  2017   Male   \n",
       "16  Adam Holloway    1    1    2    0    0    7    1    0  2017   Male   \n",
       "28  Adrian Bailey    2    8    0    0    4    1    6    8  2017   Male   \n",
       "57     Afzal Khan   11    9    4    4    1    1    4    3  2017   Male   \n",
       "94     Alan Brown   20   40   26   10   16   19   48   35  2017   Male   \n",
       "\n",
       "     party_group government   age  speeches_count  \n",
       "0   Conservative       True  51.0              16  \n",
       "16  Conservative       True  52.0              12  \n",
       "28        Labour      False  71.0              29  \n",
       "57        Labour      False  59.0              37  \n",
       "94           SNP      False  46.0             214  "
      ]
     },
     "execution_count": 71,
     "metadata": {},
     "output_type": "execute_result"
    }
   ],
   "source": [
    "grouped_final_data.head()"
   ]
  },
  {
   "cell_type": "markdown",
   "metadata": {},
   "source": [
    "# Export Files for Data Visualisation"
   ]
  },
  {
   "cell_type": "code",
   "execution_count": 72,
   "metadata": {},
   "outputs": [],
   "source": [
    "grouped_final_data.to_csv('grouped_final_data.csv')"
   ]
  },
  {
   "cell_type": "code",
   "execution_count": 73,
   "metadata": {},
   "outputs": [],
   "source": [
    "final_data.to_csv('final_data.csv')"
   ]
  },
  {
   "cell_type": "markdown",
   "metadata": {},
   "source": [
    "#### Number of MPs per party"
   ]
  },
  {
   "cell_type": "code",
   "execution_count": 78,
   "metadata": {},
   "outputs": [
    {
     "data": {
      "text/plain": [
       "Conservative        357\n",
       "Labour              280\n",
       "SNP                  55\n",
       "Other                26\n",
       "Liberal Democrat     17\n",
       "Name: party_group, dtype: int64"
      ]
     },
     "execution_count": 78,
     "metadata": {},
     "output_type": "execute_result"
    }
   ],
   "source": [
    "grouped_final_data['party_group'].value_counts()"
   ]
  },
  {
   "cell_type": "markdown",
   "metadata": {},
   "source": [
    "#### Number of speeches per party"
   ]
  },
  {
   "cell_type": "code",
   "execution_count": 85,
   "metadata": {},
   "outputs": [
    {
     "data": {
      "text/plain": [
       "Conservative        37710\n",
       "Labour              16025\n",
       "SNP                  4258\n",
       "Other                1573\n",
       "Liberal Democrat     1186\n",
       "Name: party_group, dtype: int64"
      ]
     },
     "execution_count": 85,
     "metadata": {},
     "output_type": "execute_result"
    }
   ],
   "source": [
    "final_data['party_group'].value_counts()"
   ]
  },
  {
   "cell_type": "code",
   "execution_count": 102,
   "metadata": {},
   "outputs": [],
   "source": [
    "grouped_final_data.groupby(by='party_group').sum().to_csv('grouped_party_data.csv')"
   ]
  }
 ],
 "metadata": {
  "kernelspec": {
   "display_name": "Python 3",
   "language": "python",
   "name": "python3"
  },
  "language_info": {
   "codemirror_mode": {
    "name": "ipython",
    "version": 3
   },
   "file_extension": ".py",
   "mimetype": "text/x-python",
   "name": "python",
   "nbconvert_exporter": "python",
   "pygments_lexer": "ipython3",
   "version": "3.7.3"
  }
 },
 "nbformat": 4,
 "nbformat_minor": 2
}
